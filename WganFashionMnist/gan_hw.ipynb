{
 "cells": [
  {
   "cell_type": "markdown",
   "metadata": {
    "id": "tJSkS1KoEVAH"
   },
   "source": [
    "### WGAN\n",
    "\n",
    "* Модифицируйте код ячеек ниже и реализуйте [Wasserstein GAN](https://arxiv.org/abs/1701.07875) с клиппингом весов. (10 баллов)\n",
    "\n",
    "* Замените клиппинг весов на [штраф градентов](https://arxiv.org/pdf/1704.00028v3.pdf). (10 баллов)\n",
    "\n",
    "* Добавьте лейблы в WGAN, тем самым решая задачу [условной генерации](https://arxiv.org/pdf/1411.1784.pdf). (30 баллов)\n",
    "\n",
    "Добавьте в этот файл анализ полученных результатов с различными графиками обучения и визуализацию генерации. Сравните как работает клиппинг весов и штраф градиентов и попробуйте пронаблюдать какие недостатки имеет модель GAN."
   ]
  },
  {
   "cell_type": "code",
   "execution_count": 1,
   "metadata": {
    "execution": {
     "iopub.execute_input": "2023-12-28T07:29:20.423790Z",
     "iopub.status.busy": "2023-12-28T07:29:20.423339Z",
     "iopub.status.idle": "2023-12-28T07:29:24.966763Z",
     "shell.execute_reply": "2023-12-28T07:29:24.965544Z",
     "shell.execute_reply.started": "2023-12-28T07:29:20.423726Z"
    },
    "id": "_PBZhPXoEVAI"
   },
   "outputs": [],
   "source": [
    "import torch\n",
    "import torch.nn as nn\n",
    "import torch.nn.functional as F\n",
    "import torch.optim as optim\n",
    "from torch.utils.data import DataLoader, Dataset\n",
    "\n",
    "import torchvision\n",
    "import matplotlib.pyplot as plt\n",
    "import numpy as np\n",
    "import math"
   ]
  },
  {
   "cell_type": "code",
   "execution_count": 2,
   "metadata": {
    "execution": {
     "iopub.execute_input": "2023-12-28T07:29:24.970771Z",
     "iopub.status.busy": "2023-12-28T07:29:24.969539Z",
     "iopub.status.idle": "2023-12-28T07:29:24.978723Z",
     "shell.execute_reply": "2023-12-28T07:29:24.976898Z",
     "shell.execute_reply.started": "2023-12-28T07:29:24.970701Z"
    },
    "id": "6ZOVySNaEVAJ"
   },
   "outputs": [],
   "source": [
    "class Config:\n",
    "    pass\n",
    "\n",
    "CONFIG = Config()\n",
    "CONFIG.mnist_path = None\n",
    "CONFIG.batch_size = 16\n",
    "CONFIG.num_workers = 3\n",
    "CONFIG.num_epochs = 10\n",
    "CONFIG.noise_size = 50\n",
    "CONFIG.print_freq = 500\n",
    "CONFIG.learning_rate = 0.0002"
   ]
  },
  {
   "cell_type": "code",
   "execution_count": 3,
   "metadata": {
    "execution": {
     "iopub.execute_input": "2023-12-28T07:29:24.981333Z",
     "iopub.status.busy": "2023-12-28T07:29:24.980637Z",
     "iopub.status.idle": "2023-12-28T07:29:26.711155Z",
     "shell.execute_reply": "2023-12-28T07:29:26.710012Z",
     "shell.execute_reply.started": "2023-12-28T07:29:24.981294Z"
    },
    "id": "rJQdF3-xEVAJ"
   },
   "outputs": [],
   "source": [
    "dataset = torchvision.datasets.FashionMNIST(\"fashion_mnist\", train=True, transform=torchvision.transforms.ToTensor(), download=True)"
   ]
  },
  {
   "cell_type": "code",
   "execution_count": 4,
   "metadata": {
    "colab": {
     "base_uri": "https://localhost:8080/"
    },
    "execution": {
     "iopub.execute_input": "2023-12-28T07:29:29.881147Z",
     "iopub.status.busy": "2023-12-28T07:29:29.880605Z",
     "iopub.status.idle": "2023-12-28T07:29:29.890185Z",
     "shell.execute_reply": "2023-12-28T07:29:29.889077Z",
     "shell.execute_reply.started": "2023-12-28T07:29:29.881100Z"
    },
    "id": "DsFXiFsIEVAJ",
    "outputId": "824fd810-958b-4785-e522-dbb8d5f7d1dd"
   },
   "outputs": [
    {
     "data": {
      "text/plain": [
       "3750"
      ]
     },
     "execution_count": 4,
     "metadata": {},
     "output_type": "execute_result"
    }
   ],
   "source": [
    "dataloader = DataLoader(dataset, batch_size=CONFIG.batch_size, shuffle=True)\n",
    "len(dataloader)"
   ]
  },
  {
   "cell_type": "code",
   "execution_count": 5,
   "metadata": {
    "colab": {
     "base_uri": "https://localhost:8080/"
    },
    "execution": {
     "iopub.execute_input": "2023-12-28T07:29:30.375722Z",
     "iopub.status.busy": "2023-12-28T07:29:30.374181Z",
     "iopub.status.idle": "2023-12-28T07:29:30.452347Z",
     "shell.execute_reply": "2023-12-28T07:29:30.451035Z",
     "shell.execute_reply.started": "2023-12-28T07:29:30.375670Z"
    },
    "id": "GXozdEFQEVAJ",
    "outputId": "d1415d3a-f359-43c8-87b8-5f9036f272ac"
   },
   "outputs": [
    {
     "data": {
      "text/plain": [
       "torch.Size([16, 1, 28, 28])"
      ]
     },
     "execution_count": 5,
     "metadata": {},
     "output_type": "execute_result"
    }
   ],
   "source": [
    "image, label = next(iter(dataloader))\n",
    "image.size()"
   ]
  },
  {
   "cell_type": "code",
   "execution_count": 6,
   "metadata": {
    "execution": {
     "iopub.execute_input": "2023-12-28T07:29:33.773362Z",
     "iopub.status.busy": "2023-12-28T07:29:33.772913Z",
     "iopub.status.idle": "2023-12-28T07:29:33.784770Z",
     "shell.execute_reply": "2023-12-28T07:29:33.783211Z",
     "shell.execute_reply.started": "2023-12-28T07:29:33.773324Z"
    },
    "id": "diozgmg4EVAK"
   },
   "outputs": [],
   "source": [
    "class Generator(nn.Module):\n",
    "    def __init__(self):\n",
    "        super(Generator, self).__init__()\n",
    "        self.model = nn.Sequential(\n",
    "            nn.Linear(100, 256),\n",
    "            nn.LeakyReLU(0.2),\n",
    "            nn.Linear(256, 512),\n",
    "            nn.LeakyReLU(0.2),\n",
    "            nn.Linear(512, 784),\n",
    "            nn.Tanh()\n",
    "        )\n",
    "\n",
    "    def forward(self, x):\n",
    "        out = self.model(x)\n",
    "        out = out.view(x.size(0), 1, 28, 28)\n",
    "        return out\n",
    "\n",
    "\n",
    "class Discriminator(nn.Module):\n",
    "    def __init__(self):\n",
    "        super(Discriminator, self).__init__()\n",
    "        self.model = nn.Sequential(\n",
    "            nn.Linear(784, 512),\n",
    "            nn.LeakyReLU(0.2),\n",
    "            nn.Linear(512, 256),\n",
    "            nn.LeakyReLU(0.2),\n",
    "            nn.Linear(256, 1)\n",
    "        )\n",
    "\n",
    "    def forward(self, x):\n",
    "        x = x.view(x.size(0), -1)\n",
    "        out = self.model(x)\n",
    "        return out"
   ]
  },
  {
   "cell_type": "code",
   "execution_count": 7,
   "metadata": {
    "execution": {
     "iopub.execute_input": "2023-12-28T07:29:33.935395Z",
     "iopub.status.busy": "2023-12-28T07:29:33.934238Z",
     "iopub.status.idle": "2023-12-28T07:29:33.955619Z",
     "shell.execute_reply": "2023-12-28T07:29:33.954395Z",
     "shell.execute_reply.started": "2023-12-28T07:29:33.935342Z"
    },
    "id": "ZJUbCECuEVAK"
   },
   "outputs": [],
   "source": [
    "GENERATOR = Generator()\n",
    "DISCRIMINATOR = Discriminator()"
   ]
  },
  {
   "cell_type": "code",
   "execution_count": 8,
   "metadata": {
    "colab": {
     "base_uri": "https://localhost:8080/"
    },
    "execution": {
     "iopub.execute_input": "2023-12-28T07:29:34.191364Z",
     "iopub.status.busy": "2023-12-28T07:29:34.190985Z",
     "iopub.status.idle": "2023-12-28T07:29:34.199977Z",
     "shell.execute_reply": "2023-12-28T07:29:34.198596Z",
     "shell.execute_reply.started": "2023-12-28T07:29:34.191334Z"
    },
    "id": "mPbOGNgpg2b1",
    "outputId": "07aeb7fb-afc2-4587-adf5-d6cae3fc5153"
   },
   "outputs": [
    {
     "data": {
      "text/plain": [
       "Generator(\n",
       "  (model): Sequential(\n",
       "    (0): Linear(in_features=100, out_features=256, bias=True)\n",
       "    (1): LeakyReLU(negative_slope=0.2)\n",
       "    (2): Linear(in_features=256, out_features=512, bias=True)\n",
       "    (3): LeakyReLU(negative_slope=0.2)\n",
       "    (4): Linear(in_features=512, out_features=784, bias=True)\n",
       "    (5): Tanh()\n",
       "  )\n",
       ")"
      ]
     },
     "execution_count": 8,
     "metadata": {},
     "output_type": "execute_result"
    }
   ],
   "source": [
    "GENERATOR"
   ]
  },
  {
   "cell_type": "code",
   "execution_count": 9,
   "metadata": {
    "colab": {
     "base_uri": "https://localhost:8080/"
    },
    "execution": {
     "iopub.execute_input": "2023-12-28T07:29:34.451425Z",
     "iopub.status.busy": "2023-12-28T07:29:34.451045Z",
     "iopub.status.idle": "2023-12-28T07:29:34.459099Z",
     "shell.execute_reply": "2023-12-28T07:29:34.457933Z",
     "shell.execute_reply.started": "2023-12-28T07:29:34.451393Z"
    },
    "id": "OPL3JAY6g2b1",
    "outputId": "41e54015-31e0-4aa9-f22c-0d0459203d30"
   },
   "outputs": [
    {
     "data": {
      "text/plain": [
       "Discriminator(\n",
       "  (model): Sequential(\n",
       "    (0): Linear(in_features=784, out_features=512, bias=True)\n",
       "    (1): LeakyReLU(negative_slope=0.2)\n",
       "    (2): Linear(in_features=512, out_features=256, bias=True)\n",
       "    (3): LeakyReLU(negative_slope=0.2)\n",
       "    (4): Linear(in_features=256, out_features=1, bias=True)\n",
       "  )\n",
       ")"
      ]
     },
     "execution_count": 9,
     "metadata": {},
     "output_type": "execute_result"
    }
   ],
   "source": [
    "DISCRIMINATOR"
   ]
  },
  {
   "cell_type": "code",
   "execution_count": 10,
   "metadata": {
    "execution": {
     "iopub.execute_input": "2023-12-28T07:29:37.641610Z",
     "iopub.status.busy": "2023-12-28T07:29:37.641221Z",
     "iopub.status.idle": "2023-12-28T07:29:37.650361Z",
     "shell.execute_reply": "2023-12-28T07:29:37.648912Z",
     "shell.execute_reply.started": "2023-12-28T07:29:37.641576Z"
    }
   },
   "outputs": [],
   "source": [
    "def compute_gp(netD, real_data, fake_data):\n",
    "        batch_size = real_data.size(0)\n",
    "        # Sample Epsilon from uniform distribution\n",
    "        eps = torch.rand(batch_size, 1, 1, 1).to(real_data.device)\n",
    "        eps = eps.expand_as(real_data)\n",
    "        \n",
    "        # Interpolation between real data and fake data.\n",
    "        interpolation = eps * real_data + (1 - eps) * fake_data\n",
    "        \n",
    "        # get logits for interpolated images\n",
    "        interp_logits = netD(interpolation)\n",
    "        grad_outputs = torch.ones_like(interp_logits)\n",
    "        \n",
    "        # Compute Gradients\n",
    "        gradients = autograd.grad(\n",
    "            outputs=interp_logits,\n",
    "            inputs=interpolation,\n",
    "            grad_outputs=grad_outputs,\n",
    "            create_graph=True,\n",
    "            retain_graph=True,\n",
    "        )[0]\n",
    "        \n",
    "        # Compute and return Gradient Norm\n",
    "        gradients = gradients.view(batch_size, -1)\n",
    "        grad_norm = gradients.norm(2, 1)\n",
    "        return torch.mean((grad_norm - 1) ** 2)"
   ]
  },
  {
   "cell_type": "code",
   "execution_count": 11,
   "metadata": {
    "execution": {
     "iopub.execute_input": "2023-12-28T07:29:37.956438Z",
     "iopub.status.busy": "2023-12-28T07:29:37.956043Z",
     "iopub.status.idle": "2023-12-28T07:29:37.963205Z",
     "shell.execute_reply": "2023-12-28T07:29:37.961680Z",
     "shell.execute_reply.started": "2023-12-28T07:29:37.956405Z"
    },
    "id": "VltlxWoyEVAL"
   },
   "outputs": [
    {
     "name": "stdout",
     "output_type": "stream",
     "text": [
      "cuda\n"
     ]
    }
   ],
   "source": [
    "DEVICE = 'cuda' if torch.cuda.is_available() else 'cpu'\n",
    "print(DEVICE)"
   ]
  },
  {
   "cell_type": "code",
   "execution_count": 12,
   "metadata": {
    "execution": {
     "iopub.execute_input": "2023-12-28T07:29:46.852871Z",
     "iopub.status.busy": "2023-12-28T07:29:46.852434Z",
     "iopub.status.idle": "2023-12-28T07:29:46.867112Z",
     "shell.execute_reply": "2023-12-28T07:29:46.866144Z",
     "shell.execute_reply.started": "2023-12-28T07:29:46.852835Z"
    },
    "id": "YdTU6oAecOx0"
   },
   "outputs": [],
   "source": [
    "def train(generator, discriminator, dataloader, num_epochs, lr, device):\n",
    "    discriminator.to(device)\n",
    "    generator.to(device)\n",
    "\n",
    "    criterion = nn.BCEWithLogitsLoss()\n",
    "\n",
    "    d_optimizer = optim.Adam(discriminator.parameters(), lr=lr)\n",
    "    g_optimizer = optim.Adam(generator.parameters(), lr=lr)\n",
    "\n",
    "    for epoch in range(num_epochs):\n",
    "        for i, (real_images, _) in enumerate(dataloader):\n",
    "            real_images = real_images.to(device)\n",
    "            batch_size = real_images.size(0)\n",
    "            real_labels = torch.ones(batch_size, 1).to(device)\n",
    "            fake_labels = torch.zeros(batch_size, 1).to(device)\n",
    "\n",
    "            # Train the discriminator\n",
    "            discriminator.zero_grad()\n",
    "            real_outputs = discriminator(real_images)\n",
    "            d_loss_real = criterion(real_outputs, real_labels)\n",
    "\n",
    "            z = torch.randn(batch_size, 100).to(device)\n",
    "            fake_images = generator(z)\n",
    "            fake_outputs = discriminator(fake_images.detach())\n",
    "            d_loss_fake = criterion(fake_outputs, fake_labels)\n",
    "\n",
    "            d_loss = d_loss_real + d_loss_fake\n",
    "            d_loss.backward()\n",
    "            d_optimizer.step()\n",
    "\n",
    "            # Train the generator\n",
    "            generator.zero_grad()\n",
    "            z = torch.randn(batch_size, 100).to(device)\n",
    "            fake_images = generator(z)\n",
    "            fake_outputs = discriminator(fake_images)\n",
    "            g_loss = criterion(fake_outputs, real_labels)\n",
    "\n",
    "            g_loss.backward()\n",
    "            g_optimizer.step()\n",
    "\n",
    "            if (i+1) % 200 == 0:\n",
    "                print(f\"Epoch [{epoch+1}/{num_epochs}], Step [{i+1}/{len(dataloader)}], d_loss: {d_loss.item():.4f}, g_loss: {g_loss.item():.4f}\")"
   ]
  },
  {
   "cell_type": "code",
   "execution_count": 14,
   "metadata": {
    "colab": {
     "base_uri": "https://localhost:8080/"
    },
    "execution": {
     "iopub.execute_input": "2023-12-28T07:29:49.183930Z",
     "iopub.status.busy": "2023-12-28T07:29:49.183447Z",
     "iopub.status.idle": "2023-12-28T07:29:49.196609Z",
     "shell.execute_reply": "2023-12-28T07:29:49.195308Z",
     "shell.execute_reply.started": "2023-12-28T07:29:49.183892Z"
    },
    "id": "DMZwEdBmcX-V",
    "outputId": "bea1e961-af39-4922-823e-2829a07be883"
   },
   "outputs": [
    {
     "data": {
      "text/plain": [
       "<torch._C.Generator at 0x7ff828049590>"
      ]
     },
     "execution_count": 14,
     "metadata": {},
     "output_type": "execute_result"
    }
   ],
   "source": [
    "torch.manual_seed(42)"
   ]
  },
  {
   "cell_type": "code",
   "execution_count": 13,
   "metadata": {
    "colab": {
     "base_uri": "https://localhost:8080/"
    },
    "execution": {
     "iopub.execute_input": "2023-12-28T07:29:51.480483Z",
     "iopub.status.busy": "2023-12-28T07:29:51.480050Z",
     "iopub.status.idle": "2023-12-28T07:38:17.688169Z",
     "shell.execute_reply": "2023-12-28T07:38:17.686918Z",
     "shell.execute_reply.started": "2023-12-28T07:29:51.480447Z"
    },
    "id": "Kr5y6kpgdBvk",
    "outputId": "d5c483ee-1796-4323-c164-c0c6ec7afb8e"
   },
   "outputs": [
    {
     "name": "stdout",
     "output_type": "stream",
     "text": [
      "Epoch [1/10], Step [200/3750], d_loss: 0.1215, g_loss: 4.8703\n",
      "Epoch [1/10], Step [400/3750], d_loss: 0.1345, g_loss: 4.0497\n",
      "Epoch [1/10], Step [600/3750], d_loss: 1.3821, g_loss: 2.4571\n",
      "Epoch [1/10], Step [800/3750], d_loss: 0.5605, g_loss: 3.5286\n",
      "Epoch [1/10], Step [1000/3750], d_loss: 1.2953, g_loss: 1.4306\n",
      "Epoch [1/10], Step [1200/3750], d_loss: 0.9752, g_loss: 1.2572\n",
      "Epoch [1/10], Step [1400/3750], d_loss: 0.7945, g_loss: 1.1537\n",
      "Epoch [1/10], Step [1600/3750], d_loss: 1.0478, g_loss: 1.8681\n",
      "Epoch [1/10], Step [1800/3750], d_loss: 0.7407, g_loss: 2.9320\n",
      "Epoch [1/10], Step [2000/3750], d_loss: 0.4573, g_loss: 2.2434\n",
      "Epoch [1/10], Step [2200/3750], d_loss: 0.5185, g_loss: 2.3154\n",
      "Epoch [1/10], Step [2400/3750], d_loss: 0.7809, g_loss: 2.1655\n",
      "Epoch [1/10], Step [2600/3750], d_loss: 0.7216, g_loss: 2.6294\n",
      "Epoch [1/10], Step [2800/3750], d_loss: 0.9542, g_loss: 3.1566\n",
      "Epoch [1/10], Step [3000/3750], d_loss: 0.8104, g_loss: 1.9495\n",
      "Epoch [1/10], Step [3200/3750], d_loss: 0.5221, g_loss: 3.2864\n",
      "Epoch [1/10], Step [3400/3750], d_loss: 0.6965, g_loss: 1.9436\n",
      "Epoch [1/10], Step [3600/3750], d_loss: 1.1021, g_loss: 1.2340\n",
      "Epoch [2/10], Step [200/3750], d_loss: 0.9911, g_loss: 1.3867\n",
      "Epoch [2/10], Step [400/3750], d_loss: 0.7232, g_loss: 1.3399\n",
      "Epoch [2/10], Step [600/3750], d_loss: 0.5519, g_loss: 1.8437\n",
      "Epoch [2/10], Step [800/3750], d_loss: 0.5201, g_loss: 1.2334\n",
      "Epoch [2/10], Step [1000/3750], d_loss: 1.0350, g_loss: 1.6940\n",
      "Epoch [2/10], Step [1200/3750], d_loss: 0.7967, g_loss: 2.8743\n",
      "Epoch [2/10], Step [1400/3750], d_loss: 0.9378, g_loss: 1.7118\n",
      "Epoch [2/10], Step [1600/3750], d_loss: 0.5891, g_loss: 2.3929\n",
      "Epoch [2/10], Step [1800/3750], d_loss: 0.8081, g_loss: 1.6227\n",
      "Epoch [2/10], Step [2000/3750], d_loss: 0.8830, g_loss: 2.1507\n",
      "Epoch [2/10], Step [2200/3750], d_loss: 0.3696, g_loss: 2.0188\n",
      "Epoch [2/10], Step [2400/3750], d_loss: 1.2599, g_loss: 2.2273\n",
      "Epoch [2/10], Step [2600/3750], d_loss: 0.9029, g_loss: 1.8255\n",
      "Epoch [2/10], Step [2800/3750], d_loss: 1.1492, g_loss: 1.4120\n",
      "Epoch [2/10], Step [3000/3750], d_loss: 0.8756, g_loss: 2.4613\n",
      "Epoch [2/10], Step [3200/3750], d_loss: 0.5529, g_loss: 1.1045\n",
      "Epoch [2/10], Step [3400/3750], d_loss: 0.6979, g_loss: 1.8632\n",
      "Epoch [2/10], Step [3600/3750], d_loss: 1.3918, g_loss: 1.5231\n",
      "Epoch [3/10], Step [200/3750], d_loss: 1.0533, g_loss: 1.4430\n",
      "Epoch [3/10], Step [400/3750], d_loss: 1.1065, g_loss: 1.8061\n",
      "Epoch [3/10], Step [600/3750], d_loss: 0.6655, g_loss: 1.9448\n",
      "Epoch [3/10], Step [800/3750], d_loss: 0.5251, g_loss: 1.8055\n",
      "Epoch [3/10], Step [1000/3750], d_loss: 1.1408, g_loss: 2.3143\n",
      "Epoch [3/10], Step [1200/3750], d_loss: 0.9178, g_loss: 1.4869\n",
      "Epoch [3/10], Step [1400/3750], d_loss: 1.1369, g_loss: 1.4272\n",
      "Epoch [3/10], Step [1600/3750], d_loss: 0.7791, g_loss: 1.3747\n",
      "Epoch [3/10], Step [1800/3750], d_loss: 0.8744, g_loss: 2.0066\n",
      "Epoch [3/10], Step [2000/3750], d_loss: 0.8902, g_loss: 1.3764\n",
      "Epoch [3/10], Step [2200/3750], d_loss: 0.5309, g_loss: 1.9983\n",
      "Epoch [3/10], Step [2400/3750], d_loss: 0.5033, g_loss: 2.0568\n",
      "Epoch [3/10], Step [2600/3750], d_loss: 1.0380, g_loss: 1.3840\n",
      "Epoch [3/10], Step [2800/3750], d_loss: 1.0279, g_loss: 1.4739\n",
      "Epoch [3/10], Step [3000/3750], d_loss: 1.1672, g_loss: 1.7439\n",
      "Epoch [3/10], Step [3200/3750], d_loss: 0.7763, g_loss: 1.4761\n",
      "Epoch [3/10], Step [3400/3750], d_loss: 0.8696, g_loss: 1.7064\n",
      "Epoch [3/10], Step [3600/3750], d_loss: 0.5537, g_loss: 2.0782\n",
      "Epoch [4/10], Step [200/3750], d_loss: 0.4984, g_loss: 1.7048\n",
      "Epoch [4/10], Step [400/3750], d_loss: 0.7358, g_loss: 2.4434\n",
      "Epoch [4/10], Step [600/3750], d_loss: 0.9809, g_loss: 1.4827\n",
      "Epoch [4/10], Step [800/3750], d_loss: 0.9460, g_loss: 1.2919\n",
      "Epoch [4/10], Step [1000/3750], d_loss: 0.7669, g_loss: 1.4256\n",
      "Epoch [4/10], Step [1200/3750], d_loss: 0.7183, g_loss: 1.9136\n",
      "Epoch [4/10], Step [1400/3750], d_loss: 0.8674, g_loss: 1.7140\n",
      "Epoch [4/10], Step [1600/3750], d_loss: 0.8385, g_loss: 1.1945\n",
      "Epoch [4/10], Step [1800/3750], d_loss: 1.0620, g_loss: 1.3541\n",
      "Epoch [4/10], Step [2000/3750], d_loss: 0.7101, g_loss: 1.1887\n",
      "Epoch [4/10], Step [2200/3750], d_loss: 1.1698, g_loss: 1.2932\n",
      "Epoch [4/10], Step [2400/3750], d_loss: 0.7163, g_loss: 1.1710\n",
      "Epoch [4/10], Step [2600/3750], d_loss: 1.0855, g_loss: 1.5556\n",
      "Epoch [4/10], Step [2800/3750], d_loss: 0.7917, g_loss: 1.2938\n",
      "Epoch [4/10], Step [3000/3750], d_loss: 0.8323, g_loss: 1.6097\n",
      "Epoch [4/10], Step [3200/3750], d_loss: 0.9907, g_loss: 1.6829\n",
      "Epoch [4/10], Step [3400/3750], d_loss: 0.7559, g_loss: 1.6113\n",
      "Epoch [4/10], Step [3600/3750], d_loss: 1.2737, g_loss: 1.1049\n",
      "Epoch [5/10], Step [200/3750], d_loss: 0.7720, g_loss: 1.5760\n",
      "Epoch [5/10], Step [400/3750], d_loss: 0.5162, g_loss: 2.1227\n",
      "Epoch [5/10], Step [600/3750], d_loss: 0.9736, g_loss: 2.0618\n",
      "Epoch [5/10], Step [800/3750], d_loss: 1.0807, g_loss: 0.9526\n",
      "Epoch [5/10], Step [1000/3750], d_loss: 0.7763, g_loss: 1.6554\n",
      "Epoch [5/10], Step [1200/3750], d_loss: 1.0671, g_loss: 1.3350\n",
      "Epoch [5/10], Step [1400/3750], d_loss: 1.1829, g_loss: 1.3578\n",
      "Epoch [5/10], Step [1600/3750], d_loss: 0.8318, g_loss: 1.6624\n",
      "Epoch [5/10], Step [1800/3750], d_loss: 0.9540, g_loss: 1.3073\n",
      "Epoch [5/10], Step [2000/3750], d_loss: 0.6604, g_loss: 1.4924\n",
      "Epoch [5/10], Step [2200/3750], d_loss: 0.9915, g_loss: 1.4194\n",
      "Epoch [5/10], Step [2400/3750], d_loss: 0.6563, g_loss: 1.6880\n",
      "Epoch [5/10], Step [2600/3750], d_loss: 0.7229, g_loss: 1.0993\n",
      "Epoch [5/10], Step [2800/3750], d_loss: 0.7447, g_loss: 1.4922\n",
      "Epoch [5/10], Step [3000/3750], d_loss: 0.8039, g_loss: 1.0689\n",
      "Epoch [5/10], Step [3200/3750], d_loss: 0.7587, g_loss: 1.4912\n",
      "Epoch [5/10], Step [3400/3750], d_loss: 0.9592, g_loss: 1.3911\n",
      "Epoch [5/10], Step [3600/3750], d_loss: 0.7759, g_loss: 1.4295\n",
      "Epoch [6/10], Step [200/3750], d_loss: 0.8741, g_loss: 1.7589\n",
      "Epoch [6/10], Step [400/3750], d_loss: 0.8764, g_loss: 1.1927\n",
      "Epoch [6/10], Step [600/3750], d_loss: 0.8249, g_loss: 1.2688\n",
      "Epoch [6/10], Step [800/3750], d_loss: 0.9723, g_loss: 2.0127\n",
      "Epoch [6/10], Step [1000/3750], d_loss: 0.8215, g_loss: 1.8951\n",
      "Epoch [6/10], Step [1200/3750], d_loss: 0.8631, g_loss: 1.5367\n",
      "Epoch [6/10], Step [1400/3750], d_loss: 0.7647, g_loss: 1.4271\n",
      "Epoch [6/10], Step [1600/3750], d_loss: 1.0245, g_loss: 1.3086\n",
      "Epoch [6/10], Step [1800/3750], d_loss: 0.7680, g_loss: 1.3246\n",
      "Epoch [6/10], Step [2000/3750], d_loss: 1.0514, g_loss: 1.6399\n",
      "Epoch [6/10], Step [2200/3750], d_loss: 1.0217, g_loss: 1.1467\n",
      "Epoch [6/10], Step [2400/3750], d_loss: 0.8036, g_loss: 1.5105\n",
      "Epoch [6/10], Step [2600/3750], d_loss: 1.1718, g_loss: 1.3332\n",
      "Epoch [6/10], Step [2800/3750], d_loss: 0.9060, g_loss: 1.5933\n",
      "Epoch [6/10], Step [3000/3750], d_loss: 0.8493, g_loss: 1.5345\n",
      "Epoch [6/10], Step [3200/3750], d_loss: 0.6894, g_loss: 1.8902\n",
      "Epoch [6/10], Step [3400/3750], d_loss: 0.8397, g_loss: 1.6910\n",
      "Epoch [6/10], Step [3600/3750], d_loss: 0.8493, g_loss: 1.1003\n",
      "Epoch [7/10], Step [200/3750], d_loss: 1.4068, g_loss: 1.2527\n",
      "Epoch [7/10], Step [400/3750], d_loss: 0.7925, g_loss: 1.5267\n",
      "Epoch [7/10], Step [600/3750], d_loss: 0.6918, g_loss: 1.4458\n",
      "Epoch [7/10], Step [800/3750], d_loss: 0.8206, g_loss: 1.5215\n",
      "Epoch [7/10], Step [1000/3750], d_loss: 0.6811, g_loss: 1.9091\n",
      "Epoch [7/10], Step [1200/3750], d_loss: 0.7868, g_loss: 2.0836\n",
      "Epoch [7/10], Step [1400/3750], d_loss: 1.1360, g_loss: 1.3412\n",
      "Epoch [7/10], Step [1600/3750], d_loss: 0.5836, g_loss: 1.4369\n",
      "Epoch [7/10], Step [1800/3750], d_loss: 0.9232, g_loss: 1.7356\n",
      "Epoch [7/10], Step [2000/3750], d_loss: 0.4867, g_loss: 1.8437\n",
      "Epoch [7/10], Step [2200/3750], d_loss: 0.9877, g_loss: 1.4342\n",
      "Epoch [7/10], Step [2400/3750], d_loss: 0.8921, g_loss: 1.4708\n",
      "Epoch [7/10], Step [2600/3750], d_loss: 1.4537, g_loss: 1.1671\n",
      "Epoch [7/10], Step [2800/3750], d_loss: 0.5851, g_loss: 1.1953\n",
      "Epoch [7/10], Step [3000/3750], d_loss: 0.7057, g_loss: 1.4433\n",
      "Epoch [7/10], Step [3200/3750], d_loss: 0.6935, g_loss: 1.2262\n",
      "Epoch [7/10], Step [3400/3750], d_loss: 0.7860, g_loss: 1.6780\n",
      "Epoch [7/10], Step [3600/3750], d_loss: 0.6987, g_loss: 1.3896\n",
      "Epoch [8/10], Step [200/3750], d_loss: 0.7186, g_loss: 1.6803\n",
      "Epoch [8/10], Step [400/3750], d_loss: 0.7642, g_loss: 1.5188\n",
      "Epoch [8/10], Step [600/3750], d_loss: 0.8184, g_loss: 1.5579\n",
      "Epoch [8/10], Step [800/3750], d_loss: 0.7129, g_loss: 1.7081\n",
      "Epoch [8/10], Step [1000/3750], d_loss: 1.0325, g_loss: 1.5971\n"
     ]
    },
    {
     "name": "stdout",
     "output_type": "stream",
     "text": [
      "Epoch [8/10], Step [1200/3750], d_loss: 0.7260, g_loss: 1.3891\n",
      "Epoch [8/10], Step [1400/3750], d_loss: 0.5337, g_loss: 1.9016\n",
      "Epoch [8/10], Step [1600/3750], d_loss: 1.0785, g_loss: 1.5497\n",
      "Epoch [8/10], Step [1800/3750], d_loss: 0.8374, g_loss: 1.7873\n",
      "Epoch [8/10], Step [2000/3750], d_loss: 0.8118, g_loss: 1.7545\n",
      "Epoch [8/10], Step [2200/3750], d_loss: 0.8107, g_loss: 1.4676\n",
      "Epoch [8/10], Step [2400/3750], d_loss: 0.7392, g_loss: 1.6004\n",
      "Epoch [8/10], Step [2600/3750], d_loss: 0.9842, g_loss: 1.3384\n",
      "Epoch [8/10], Step [2800/3750], d_loss: 0.7631, g_loss: 1.5791\n",
      "Epoch [8/10], Step [3000/3750], d_loss: 0.8413, g_loss: 2.1133\n",
      "Epoch [8/10], Step [3200/3750], d_loss: 0.6437, g_loss: 1.6684\n",
      "Epoch [8/10], Step [3400/3750], d_loss: 1.0842, g_loss: 1.6060\n",
      "Epoch [8/10], Step [3600/3750], d_loss: 0.7595, g_loss: 1.4101\n",
      "Epoch [9/10], Step [200/3750], d_loss: 0.7933, g_loss: 1.1584\n",
      "Epoch [9/10], Step [400/3750], d_loss: 0.6680, g_loss: 1.3302\n",
      "Epoch [9/10], Step [600/3750], d_loss: 0.8418, g_loss: 1.0314\n",
      "Epoch [9/10], Step [800/3750], d_loss: 0.5278, g_loss: 2.2251\n",
      "Epoch [9/10], Step [1000/3750], d_loss: 0.6623, g_loss: 1.9401\n",
      "Epoch [9/10], Step [1200/3750], d_loss: 0.5885, g_loss: 1.6818\n",
      "Epoch [9/10], Step [1400/3750], d_loss: 1.2603, g_loss: 1.9718\n",
      "Epoch [9/10], Step [1600/3750], d_loss: 0.7459, g_loss: 1.3824\n",
      "Epoch [9/10], Step [1800/3750], d_loss: 0.7297, g_loss: 1.6766\n",
      "Epoch [9/10], Step [2000/3750], d_loss: 0.5462, g_loss: 2.0049\n",
      "Epoch [9/10], Step [2200/3750], d_loss: 0.6415, g_loss: 1.6839\n",
      "Epoch [9/10], Step [2400/3750], d_loss: 0.5666, g_loss: 1.9990\n",
      "Epoch [9/10], Step [2600/3750], d_loss: 0.5441, g_loss: 1.3070\n",
      "Epoch [9/10], Step [2800/3750], d_loss: 0.6419, g_loss: 1.2089\n",
      "Epoch [9/10], Step [3000/3750], d_loss: 0.9952, g_loss: 1.3793\n",
      "Epoch [9/10], Step [3200/3750], d_loss: 1.0353, g_loss: 1.2327\n",
      "Epoch [9/10], Step [3400/3750], d_loss: 0.8420, g_loss: 1.7106\n",
      "Epoch [9/10], Step [3600/3750], d_loss: 0.5850, g_loss: 2.1020\n",
      "Epoch [10/10], Step [200/3750], d_loss: 1.0401, g_loss: 0.9616\n",
      "Epoch [10/10], Step [400/3750], d_loss: 0.8821, g_loss: 1.3867\n",
      "Epoch [10/10], Step [600/3750], d_loss: 0.7735, g_loss: 1.2726\n",
      "Epoch [10/10], Step [800/3750], d_loss: 0.9462, g_loss: 1.5811\n",
      "Epoch [10/10], Step [1000/3750], d_loss: 0.6353, g_loss: 2.2723\n",
      "Epoch [10/10], Step [1200/3750], d_loss: 0.8085, g_loss: 1.8995\n",
      "Epoch [10/10], Step [1400/3750], d_loss: 0.8230, g_loss: 1.4752\n",
      "Epoch [10/10], Step [1600/3750], d_loss: 0.8456, g_loss: 1.6325\n",
      "Epoch [10/10], Step [1800/3750], d_loss: 0.6651, g_loss: 1.5440\n",
      "Epoch [10/10], Step [2000/3750], d_loss: 1.0029, g_loss: 1.3631\n",
      "Epoch [10/10], Step [2200/3750], d_loss: 0.7175, g_loss: 1.6880\n",
      "Epoch [10/10], Step [2400/3750], d_loss: 0.8150, g_loss: 1.6040\n",
      "Epoch [10/10], Step [2600/3750], d_loss: 0.7805, g_loss: 2.4187\n",
      "Epoch [10/10], Step [2800/3750], d_loss: 0.7556, g_loss: 1.5876\n",
      "Epoch [10/10], Step [3000/3750], d_loss: 0.7084, g_loss: 1.9230\n",
      "Epoch [10/10], Step [3200/3750], d_loss: 0.8145, g_loss: 1.5155\n",
      "Epoch [10/10], Step [3400/3750], d_loss: 0.9019, g_loss: 1.4977\n",
      "Epoch [10/10], Step [3600/3750], d_loss: 0.8546, g_loss: 1.2362\n"
     ]
    }
   ],
   "source": [
    "train(GENERATOR, DISCRIMINATOR, dataloader, num_epochs=CONFIG.num_epochs, lr=CONFIG.learning_rate, device=DEVICE)"
   ]
  },
  {
   "cell_type": "code",
   "execution_count": 14,
   "metadata": {
    "execution": {
     "iopub.execute_input": "2023-12-28T07:38:17.691063Z",
     "iopub.status.busy": "2023-12-28T07:38:17.690638Z",
     "iopub.status.idle": "2023-12-28T07:38:18.444351Z",
     "shell.execute_reply": "2023-12-28T07:38:18.442998Z",
     "shell.execute_reply.started": "2023-12-28T07:38:17.691027Z"
    }
   },
   "outputs": [
    {
     "data": {
      "image/png": "[encoded data removed]",
      "text/plain": [
       "<Figure size 1000x1200 with 16 Axes>"
      ]
     },
     "metadata": {},
     "output_type": "display_data"
    }
   ],
   "source": [
    "IMG_QTY = 16\n",
    "IMG_SIZE = int(math.sqrt(IMG_QTY))\n",
    "\n",
    "noise = torch.randn(IMG_QTY, 100, device=DEVICE)  # Generate 10 random noise vectors\n",
    "generated_images = GENERATOR(noise)  # Generate images using the generator\n",
    "\n",
    "plt.figure(figsize=(10, 12))\n",
    "for i in range(IMG_QTY):\n",
    "    plt.subplot(IMG_SIZE, IMG_SIZE, i+1)\n",
    "    plt.imshow(generated_images[i].cpu().detach().numpy().reshape(28, 28), cmap=plt.cm.Greys_r)\n",
    "    plt.axis(\"off\")"
   ]
  },
  {
   "cell_type": "code",
   "execution_count": null,
   "metadata": {},
   "outputs": [],
   "source": []
  }
 ],
 "metadata": {
  "anaconda-cloud": {},
  "colab": {
   "provenance": []
  },
  "kaggle": {
   "accelerator": "none",
   "dataSources": [],
   "dockerImageVersionId": 30627,
   "isGpuEnabled": false,
   "isInternetEnabled": true,
   "language": "python",
   "sourceType": "notebook"
  },
  "kernelspec": {
   "display_name": "Python 3 (ipykernel)",
   "language": "python",
   "name": "python3"
  },
  "language_info": {
   "codemirror_mode": {
    "name": "ipython",
    "version": 3
   },
   "file_extension": ".py",
   "mimetype": "text/x-python",
   "name": "python",
   "nbconvert_exporter": "python",
   "pygments_lexer": "ipython3",
   "version": "3.9.2"
  }
 },
 "nbformat": 4,
 "nbformat_minor": 4
}
