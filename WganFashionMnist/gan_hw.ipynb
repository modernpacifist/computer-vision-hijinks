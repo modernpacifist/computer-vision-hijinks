{
 "cells": [
  {
   "cell_type": "markdown",
   "metadata": {
    "id": "tJSkS1KoEVAH"
   },
   "source": [
    "### WGAN\n",
    "\n",
    "* Модифицируйте код ячеек ниже и реализуйте [Wasserstein GAN](https://arxiv.org/abs/1701.07875) с клиппингом весов. (10 баллов)\n",
    "\n",
    "* Замените клиппинг весов на [штраф градентов](https://arxiv.org/pdf/1704.00028v3.pdf). (10 баллов)\n",
    "\n",
    "* Добавьте лейблы в WGAN, тем самым решая задачу [условной генерации](https://arxiv.org/pdf/1411.1784.pdf). (30 баллов)\n",
    "\n",
    "Добавьте в этот файл анализ полученных результатов с различными графиками обучения и визуализацию генерации. Сравните как работает клиппинг весов и штраф градиентов и попробуйте пронаблюдать какие недостатки имеет модель GAN."
   ]
  },
  {
   "cell_type": "code",
   "execution_count": 2,
   "metadata": {
    "execution": {
     "iopub.execute_input": "2023-12-28T07:29:20.423790Z",
     "iopub.status.busy": "2023-12-28T07:29:20.423339Z",
     "iopub.status.idle": "2023-12-28T07:29:24.966763Z",
     "shell.execute_reply": "2023-12-28T07:29:24.965544Z",
     "shell.execute_reply.started": "2023-12-28T07:29:20.423726Z"
    },
    "id": "_PBZhPXoEVAI"
   },
   "outputs": [],
   "source": [
    "import torch\n",
    "import torch.nn as nn\n",
    "import torch.nn.functional as F\n",
    "import torch.optim as optim\n",
    "from torch.utils.data import DataLoader, Dataset\n",
    "\n",
    "import torchvision\n",
    "import matplotlib.pyplot as plt\n",
    "import numpy as np\n",
    "import math"
   ]
  },
  {
   "cell_type": "code",
   "execution_count": 3,
   "metadata": {
    "execution": {
     "iopub.execute_input": "2023-12-28T07:29:24.970771Z",
     "iopub.status.busy": "2023-12-28T07:29:24.969539Z",
     "iopub.status.idle": "2023-12-28T07:29:24.978723Z",
     "shell.execute_reply": "2023-12-28T07:29:24.976898Z",
     "shell.execute_reply.started": "2023-12-28T07:29:24.970701Z"
    },
    "id": "6ZOVySNaEVAJ"
   },
   "outputs": [],
   "source": [
    "class Config:\n",
    "    pass\n",
    "\n",
    "CONFIG = Config()\n",
    "CONFIG.mnist_path = None\n",
    "CONFIG.batch_size = 16\n",
    "CONFIG.num_workers = 3\n",
    "CONFIG.num_epochs = 10\n",
    "CONFIG.noise_size = 50\n",
    "CONFIG.print_freq = 500\n",
    "CONFIG.learning_rate = 0.0002"
   ]
  },
  {
   "cell_type": "code",
   "execution_count": 4,
   "metadata": {
    "execution": {
     "iopub.execute_input": "2023-12-28T07:29:24.981333Z",
     "iopub.status.busy": "2023-12-28T07:29:24.980637Z",
     "iopub.status.idle": "2023-12-28T07:29:26.711155Z",
     "shell.execute_reply": "2023-12-28T07:29:26.710012Z",
     "shell.execute_reply.started": "2023-12-28T07:29:24.981294Z"
    },
    "id": "rJQdF3-xEVAJ"
   },
   "outputs": [
    {
     "name": "stdout",
     "output_type": "stream",
     "text": [
      "Downloading http://fashion-mnist.s3-website.eu-central-1.amazonaws.com/train-images-idx3-ubyte.gz\n",
      "Downloading http://fashion-mnist.s3-website.eu-central-1.amazonaws.com/train-images-idx3-ubyte.gz to fashion_mnist/FashionMNIST/raw/train-images-idx3-ubyte.gz\n"
     ]
    },
    {
     "name": "stderr",
     "output_type": "stream",
     "text": [
      "100%|█████████████████████████████████████████████████████████████████████████████████████████████████████████████████████████████████████████████████████████████████████████████████████████████████████████| 26421880/26421880 [00:01<00:00, 24370057.13it/s]\n"
     ]
    },
    {
     "name": "stdout",
     "output_type": "stream",
     "text": [
      "Extracting fashion_mnist/FashionMNIST/raw/train-images-idx3-ubyte.gz to fashion_mnist/FashionMNIST/raw\n",
      "\n",
      "Downloading http://fashion-mnist.s3-website.eu-central-1.amazonaws.com/train-labels-idx1-ubyte.gz\n",
      "Downloading http://fashion-mnist.s3-website.eu-central-1.amazonaws.com/train-labels-idx1-ubyte.gz to fashion_mnist/FashionMNIST/raw/train-labels-idx1-ubyte.gz\n"
     ]
    },
    {
     "name": "stderr",
     "output_type": "stream",
     "text": [
      "100%|█████████████████████████████████████████████████████████████████████████████████████████████████████████████████████████████████████████████████████████████████████████████████████████████████████████████████| 29515/29515 [00:00<00:00, 643799.31it/s]\n"
     ]
    },
    {
     "name": "stdout",
     "output_type": "stream",
     "text": [
      "Extracting fashion_mnist/FashionMNIST/raw/train-labels-idx1-ubyte.gz to fashion_mnist/FashionMNIST/raw\n",
      "\n",
      "Downloading http://fashion-mnist.s3-website.eu-central-1.amazonaws.com/t10k-images-idx3-ubyte.gz\n",
      "Downloading http://fashion-mnist.s3-website.eu-central-1.amazonaws.com/t10k-images-idx3-ubyte.gz to fashion_mnist/FashionMNIST/raw/t10k-images-idx3-ubyte.gz\n"
     ]
    },
    {
     "name": "stderr",
     "output_type": "stream",
     "text": [
      "100%|███████████████████████████████████████████████████████████████████████████████████████████████████████████████████████████████████████████████████████████████████████████████████████████████████████████| 4422102/4422102 [00:00<00:00, 12445457.87it/s]\n"
     ]
    },
    {
     "name": "stdout",
     "output_type": "stream",
     "text": [
      "Extracting fashion_mnist/FashionMNIST/raw/t10k-images-idx3-ubyte.gz to fashion_mnist/FashionMNIST/raw\n",
      "\n",
      "Downloading http://fashion-mnist.s3-website.eu-central-1.amazonaws.com/t10k-labels-idx1-ubyte.gz\n",
      "Downloading http://fashion-mnist.s3-website.eu-central-1.amazonaws.com/t10k-labels-idx1-ubyte.gz to fashion_mnist/FashionMNIST/raw/t10k-labels-idx1-ubyte.gz\n"
     ]
    },
    {
     "name": "stderr",
     "output_type": "stream",
     "text": [
      "100%|██████████████████████████████████████████████████████████████████████████████████████████████████████████████████████████████████████████████████████████████████████████████████████████████████████████████████| 5148/5148 [00:00<00:00, 4911800.95it/s]"
     ]
    },
    {
     "name": "stdout",
     "output_type": "stream",
     "text": [
      "Extracting fashion_mnist/FashionMNIST/raw/t10k-labels-idx1-ubyte.gz to fashion_mnist/FashionMNIST/raw\n",
      "\n"
     ]
    },
    {
     "name": "stderr",
     "output_type": "stream",
     "text": [
      "\n"
     ]
    }
   ],
   "source": [
    "dataset = torchvision.datasets.FashionMNIST(\"fashion_mnist\", train=True, transform=torchvision.transforms.ToTensor(), download=True)"
   ]
  },
  {
   "cell_type": "code",
   "execution_count": 5,
   "metadata": {
    "colab": {
     "base_uri": "https://localhost:8080/"
    },
    "execution": {
     "iopub.execute_input": "2023-12-28T07:29:29.881147Z",
     "iopub.status.busy": "2023-12-28T07:29:29.880605Z",
     "iopub.status.idle": "2023-12-28T07:29:29.890185Z",
     "shell.execute_reply": "2023-12-28T07:29:29.889077Z",
     "shell.execute_reply.started": "2023-12-28T07:29:29.881100Z"
    },
    "id": "DsFXiFsIEVAJ",
    "outputId": "824fd810-958b-4785-e522-dbb8d5f7d1dd"
   },
   "outputs": [
    {
     "data": {
      "text/plain": [
       "3750"
      ]
     },
     "execution_count": 5,
     "metadata": {},
     "output_type": "execute_result"
    }
   ],
   "source": [
    "dataloader = DataLoader(dataset, batch_size=CONFIG.batch_size, shuffle=True)\n",
    "len(dataloader)"
   ]
  },
  {
   "cell_type": "code",
   "execution_count": 6,
   "metadata": {
    "colab": {
     "base_uri": "https://localhost:8080/"
    },
    "execution": {
     "iopub.execute_input": "2023-12-28T07:29:30.375722Z",
     "iopub.status.busy": "2023-12-28T07:29:30.374181Z",
     "iopub.status.idle": "2023-12-28T07:29:30.452347Z",
     "shell.execute_reply": "2023-12-28T07:29:30.451035Z",
     "shell.execute_reply.started": "2023-12-28T07:29:30.375670Z"
    },
    "id": "GXozdEFQEVAJ",
    "outputId": "d1415d3a-f359-43c8-87b8-5f9036f272ac"
   },
   "outputs": [
    {
     "data": {
      "text/plain": [
       "torch.Size([16, 1, 28, 28])"
      ]
     },
     "execution_count": 6,
     "metadata": {},
     "output_type": "execute_result"
    }
   ],
   "source": [
    "image, label = next(iter(dataloader))\n",
    "image.size()"
   ]
  },
  {
   "cell_type": "markdown",
   "metadata": {
    "id": "Ki7mSwhrEVAK"
   },
   "source": [
    "### Создаем модель GAN"
   ]
  },
  {
   "cell_type": "code",
   "execution_count": 7,
   "metadata": {
    "execution": {
     "iopub.execute_input": "2023-12-28T07:29:33.773362Z",
     "iopub.status.busy": "2023-12-28T07:29:33.772913Z",
     "iopub.status.idle": "2023-12-28T07:29:33.784770Z",
     "shell.execute_reply": "2023-12-28T07:29:33.783211Z",
     "shell.execute_reply.started": "2023-12-28T07:29:33.773324Z"
    },
    "id": "diozgmg4EVAK"
   },
   "outputs": [],
   "source": [
    "class Generator(nn.Module):\n",
    "    def __init__(self):\n",
    "        super(Generator, self).__init__()\n",
    "        self.model = nn.Sequential(\n",
    "            nn.Linear(100, 256),\n",
    "            nn.LeakyReLU(0.2),\n",
    "            nn.Linear(256, 512),\n",
    "            nn.LeakyReLU(0.2),\n",
    "            nn.Linear(512, 784),\n",
    "            nn.Tanh()\n",
    "        )\n",
    "\n",
    "    def forward(self, x):\n",
    "        out = self.model(x)\n",
    "        out = out.view(x.size(0), 1, 28, 28)\n",
    "        return out\n",
    "\n",
    "\n",
    "class Discriminator(nn.Module):\n",
    "    def __init__(self):\n",
    "        super(Discriminator, self).__init__()\n",
    "        self.model = nn.Sequential(\n",
    "            nn.Linear(784, 512),\n",
    "            nn.LeakyReLU(0.2),\n",
    "            nn.Linear(512, 256),\n",
    "            nn.LeakyReLU(0.2),\n",
    "            nn.Linear(256, 1)\n",
    "        )\n",
    "\n",
    "    def forward(self, x):\n",
    "        x = x.view(x.size(0), -1)\n",
    "        out = self.model(x)\n",
    "        return out"
   ]
  },
  {
   "cell_type": "code",
   "execution_count": 8,
   "metadata": {
    "execution": {
     "iopub.execute_input": "2023-12-28T07:29:33.935395Z",
     "iopub.status.busy": "2023-12-28T07:29:33.934238Z",
     "iopub.status.idle": "2023-12-28T07:29:33.955619Z",
     "shell.execute_reply": "2023-12-28T07:29:33.954395Z",
     "shell.execute_reply.started": "2023-12-28T07:29:33.935342Z"
    },
    "id": "ZJUbCECuEVAK"
   },
   "outputs": [],
   "source": [
    "GENERATOR = Generator()\n",
    "DISCRIMINATOR = Discriminator()"
   ]
  },
  {
   "cell_type": "code",
   "execution_count": 9,
   "metadata": {
    "colab": {
     "base_uri": "https://localhost:8080/"
    },
    "execution": {
     "iopub.execute_input": "2023-12-28T07:29:34.191364Z",
     "iopub.status.busy": "2023-12-28T07:29:34.190985Z",
     "iopub.status.idle": "2023-12-28T07:29:34.199977Z",
     "shell.execute_reply": "2023-12-28T07:29:34.198596Z",
     "shell.execute_reply.started": "2023-12-28T07:29:34.191334Z"
    },
    "id": "mPbOGNgpg2b1",
    "outputId": "07aeb7fb-afc2-4587-adf5-d6cae3fc5153"
   },
   "outputs": [
    {
     "data": {
      "text/plain": [
       "Generator(\n",
       "  (model): Sequential(\n",
       "    (0): Linear(in_features=100, out_features=256, bias=True)\n",
       "    (1): LeakyReLU(negative_slope=0.2)\n",
       "    (2): Linear(in_features=256, out_features=512, bias=True)\n",
       "    (3): LeakyReLU(negative_slope=0.2)\n",
       "    (4): Linear(in_features=512, out_features=784, bias=True)\n",
       "    (5): Tanh()\n",
       "  )\n",
       ")"
      ]
     },
     "execution_count": 9,
     "metadata": {},
     "output_type": "execute_result"
    }
   ],
   "source": [
    "GENERATOR"
   ]
  },
  {
   "cell_type": "code",
   "execution_count": 10,
   "metadata": {
    "colab": {
     "base_uri": "https://localhost:8080/"
    },
    "execution": {
     "iopub.execute_input": "2023-12-28T07:29:34.451425Z",
     "iopub.status.busy": "2023-12-28T07:29:34.451045Z",
     "iopub.status.idle": "2023-12-28T07:29:34.459099Z",
     "shell.execute_reply": "2023-12-28T07:29:34.457933Z",
     "shell.execute_reply.started": "2023-12-28T07:29:34.451393Z"
    },
    "id": "OPL3JAY6g2b1",
    "outputId": "41e54015-31e0-4aa9-f22c-0d0459203d30"
   },
   "outputs": [
    {
     "data": {
      "text/plain": [
       "Discriminator(\n",
       "  (model): Sequential(\n",
       "    (0): Linear(in_features=784, out_features=512, bias=True)\n",
       "    (1): LeakyReLU(negative_slope=0.2)\n",
       "    (2): Linear(in_features=512, out_features=256, bias=True)\n",
       "    (3): LeakyReLU(negative_slope=0.2)\n",
       "    (4): Linear(in_features=256, out_features=1, bias=True)\n",
       "  )\n",
       ")"
      ]
     },
     "execution_count": 10,
     "metadata": {},
     "output_type": "execute_result"
    }
   ],
   "source": [
    "DISCRIMINATOR"
   ]
  },
  {
   "cell_type": "code",
   "execution_count": 11,
   "metadata": {
    "execution": {
     "iopub.execute_input": "2023-12-28T07:29:37.641610Z",
     "iopub.status.busy": "2023-12-28T07:29:37.641221Z",
     "iopub.status.idle": "2023-12-28T07:29:37.650361Z",
     "shell.execute_reply": "2023-12-28T07:29:37.648912Z",
     "shell.execute_reply.started": "2023-12-28T07:29:37.641576Z"
    }
   },
   "outputs": [],
   "source": [
    "def compute_gp(netD, real_data, fake_data):\n",
    "        batch_size = real_data.size(0)\n",
    "        # Sample Epsilon from uniform distribution\n",
    "        eps = torch.rand(batch_size, 1, 1, 1).to(real_data.device)\n",
    "        eps = eps.expand_as(real_data)\n",
    "        \n",
    "        # Interpolation between real data and fake data.\n",
    "        interpolation = eps * real_data + (1 - eps) * fake_data\n",
    "        \n",
    "        # get logits for interpolated images\n",
    "        interp_logits = netD(interpolation)\n",
    "        grad_outputs = torch.ones_like(interp_logits)\n",
    "        \n",
    "        # Compute Gradients\n",
    "        gradients = autograd.grad(\n",
    "            outputs=interp_logits,\n",
    "            inputs=interpolation,\n",
    "            grad_outputs=grad_outputs,\n",
    "            create_graph=True,\n",
    "            retain_graph=True,\n",
    "        )[0]\n",
    "        \n",
    "        # Compute and return Gradient Norm\n",
    "        gradients = gradients.view(batch_size, -1)\n",
    "        grad_norm = gradients.norm(2, 1)\n",
    "        return torch.mean((grad_norm - 1) ** 2)"
   ]
  },
  {
   "cell_type": "code",
   "execution_count": 12,
   "metadata": {
    "execution": {
     "iopub.execute_input": "2023-12-28T07:29:37.956438Z",
     "iopub.status.busy": "2023-12-28T07:29:37.956043Z",
     "iopub.status.idle": "2023-12-28T07:29:37.963205Z",
     "shell.execute_reply": "2023-12-28T07:29:37.961680Z",
     "shell.execute_reply.started": "2023-12-28T07:29:37.956405Z"
    },
    "id": "VltlxWoyEVAL"
   },
   "outputs": [
    {
     "name": "stdout",
     "output_type": "stream",
     "text": [
      "cuda\n"
     ]
    }
   ],
   "source": [
    "DEVICE = 'cuda' if torch.cuda.is_available() else 'cpu'\n",
    "print(DEVICE)"
   ]
  },
  {
   "cell_type": "code",
   "execution_count": 13,
   "metadata": {
    "execution": {
     "iopub.execute_input": "2023-12-28T07:29:46.852871Z",
     "iopub.status.busy": "2023-12-28T07:29:46.852434Z",
     "iopub.status.idle": "2023-12-28T07:29:46.867112Z",
     "shell.execute_reply": "2023-12-28T07:29:46.866144Z",
     "shell.execute_reply.started": "2023-12-28T07:29:46.852835Z"
    },
    "id": "YdTU6oAecOx0"
   },
   "outputs": [],
   "source": [
    "def train(generator, discriminator, dataloader, num_epochs, lr, device):\n",
    "    discriminator.to(device)\n",
    "    generator.to(device)\n",
    "\n",
    "    criterion = nn.BCEWithLogitsLoss()\n",
    "\n",
    "    d_optimizer = optim.Adam(discriminator.parameters(), lr=lr)\n",
    "    g_optimizer = optim.Adam(generator.parameters(), lr=lr)\n",
    "\n",
    "    for epoch in range(num_epochs):\n",
    "        for i, (real_images, _) in enumerate(dataloader):\n",
    "            real_images = real_images.to(device)\n",
    "            batch_size = real_images.size(0)\n",
    "            real_labels = torch.ones(batch_size, 1).to(device)\n",
    "            fake_labels = torch.zeros(batch_size, 1).to(device)\n",
    "\n",
    "            # Train the discriminator\n",
    "            discriminator.zero_grad()\n",
    "            real_outputs = discriminator(real_images)\n",
    "            d_loss_real = criterion(real_outputs, real_labels)\n",
    "\n",
    "            z = torch.randn(batch_size, 100).to(device)\n",
    "            fake_images = generator(z)\n",
    "            fake_outputs = discriminator(fake_images.detach())\n",
    "            d_loss_fake = criterion(fake_outputs, fake_labels)\n",
    "\n",
    "            d_loss = d_loss_real + d_loss_fake\n",
    "            d_loss.backward()\n",
    "            d_optimizer.step()\n",
    "\n",
    "            # Train the generator\n",
    "            generator.zero_grad()\n",
    "            z = torch.randn(batch_size, 100).to(device)\n",
    "            fake_images = generator(z)\n",
    "            fake_outputs = discriminator(fake_images)\n",
    "            g_loss = criterion(fake_outputs, real_labels)\n",
    "\n",
    "            g_loss.backward()\n",
    "            g_optimizer.step()\n",
    "\n",
    "            if (i+1) % 200 == 0:\n",
    "                print(f\"Epoch [{epoch+1}/{num_epochs}], Step [{i+1}/{len(dataloader)}], d_loss: {d_loss.item():.4f}, g_loss: {g_loss.item():.4f}\")"
   ]
  },
  {
   "cell_type": "code",
   "execution_count": 14,
   "metadata": {
    "colab": {
     "base_uri": "https://localhost:8080/"
    },
    "execution": {
     "iopub.execute_input": "2023-12-28T07:29:49.183930Z",
     "iopub.status.busy": "2023-12-28T07:29:49.183447Z",
     "iopub.status.idle": "2023-12-28T07:29:49.196609Z",
     "shell.execute_reply": "2023-12-28T07:29:49.195308Z",
     "shell.execute_reply.started": "2023-12-28T07:29:49.183892Z"
    },
    "id": "DMZwEdBmcX-V",
    "outputId": "bea1e961-af39-4922-823e-2829a07be883"
   },
   "outputs": [
    {
     "data": {
      "text/plain": [
       "<torch._C.Generator at 0x7ff828049590>"
      ]
     },
     "execution_count": 14,
     "metadata": {},
     "output_type": "execute_result"
    }
   ],
   "source": [
    "torch.manual_seed(42)"
   ]
  },
  {
   "cell_type": "code",
   "execution_count": 15,
   "metadata": {
    "colab": {
     "base_uri": "https://localhost:8080/"
    },
    "execution": {
     "iopub.execute_input": "2023-12-28T07:29:51.480483Z",
     "iopub.status.busy": "2023-12-28T07:29:51.480050Z",
     "iopub.status.idle": "2023-12-28T07:38:17.688169Z",
     "shell.execute_reply": "2023-12-28T07:38:17.686918Z",
     "shell.execute_reply.started": "2023-12-28T07:29:51.480447Z"
    },
    "id": "Kr5y6kpgdBvk",
    "outputId": "d5c483ee-1796-4323-c164-c0c6ec7afb8e"
   },
   "outputs": [
    {
     "name": "stdout",
     "output_type": "stream",
     "text": [
      "Epoch [1/10], Step [200/3750], d_loss: 0.1617, g_loss: 4.4146\n",
      "Epoch [1/10], Step [400/3750], d_loss: 0.4888, g_loss: 3.8982\n",
      "Epoch [1/10], Step [600/3750], d_loss: 0.2463, g_loss: 3.5620\n",
      "Epoch [1/10], Step [800/3750], d_loss: 0.3365, g_loss: 3.4521\n",
      "Epoch [1/10], Step [1000/3750], d_loss: 0.5912, g_loss: 2.6123\n",
      "Epoch [1/10], Step [1200/3750], d_loss: 0.4898, g_loss: 2.3676\n",
      "Epoch [1/10], Step [1400/3750], d_loss: 0.5508, g_loss: 2.5817\n",
      "Epoch [1/10], Step [1600/3750], d_loss: 0.6559, g_loss: 2.0642\n",
      "Epoch [1/10], Step [1800/3750], d_loss: 0.4526, g_loss: 1.8177\n",
      "Epoch [1/10], Step [2000/3750], d_loss: 0.4910, g_loss: 2.1821\n",
      "Epoch [1/10], Step [2200/3750], d_loss: 0.7276, g_loss: 2.1215\n",
      "Epoch [1/10], Step [2400/3750], d_loss: 0.4828, g_loss: 2.4277\n",
      "Epoch [1/10], Step [2600/3750], d_loss: 1.4542, g_loss: 2.3496\n",
      "Epoch [1/10], Step [2800/3750], d_loss: 0.9709, g_loss: 2.6916\n",
      "Epoch [1/10], Step [3000/3750], d_loss: 0.6315, g_loss: 1.9483\n",
      "Epoch [1/10], Step [3200/3750], d_loss: 0.5295, g_loss: 1.7648\n",
      "Epoch [1/10], Step [3400/3750], d_loss: 0.5053, g_loss: 2.5390\n",
      "Epoch [1/10], Step [3600/3750], d_loss: 0.4987, g_loss: 2.7909\n",
      "Epoch [2/10], Step [200/3750], d_loss: 0.4207, g_loss: 1.5828\n",
      "Epoch [2/10], Step [400/3750], d_loss: 0.4791, g_loss: 2.1864\n",
      "Epoch [2/10], Step [600/3750], d_loss: 0.8627, g_loss: 2.0822\n",
      "Epoch [2/10], Step [800/3750], d_loss: 0.8723, g_loss: 1.9146\n",
      "Epoch [2/10], Step [1000/3750], d_loss: 0.6688, g_loss: 1.5608\n",
      "Epoch [2/10], Step [1200/3750], d_loss: 0.6441, g_loss: 2.7630\n",
      "Epoch [2/10], Step [1400/3750], d_loss: 1.1502, g_loss: 2.6061\n",
      "Epoch [2/10], Step [1600/3750], d_loss: 0.4503, g_loss: 2.6543\n",
      "Epoch [2/10], Step [1800/3750], d_loss: 1.2566, g_loss: 1.6422\n",
      "Epoch [2/10], Step [2000/3750], d_loss: 1.1917, g_loss: 2.1502\n",
      "Epoch [2/10], Step [2200/3750], d_loss: 0.6492, g_loss: 3.2183\n",
      "Epoch [2/10], Step [2400/3750], d_loss: 0.7224, g_loss: 2.1765\n",
      "Epoch [2/10], Step [2600/3750], d_loss: 0.4882, g_loss: 1.8596\n",
      "Epoch [2/10], Step [2800/3750], d_loss: 1.1584, g_loss: 1.8463\n",
      "Epoch [2/10], Step [3000/3750], d_loss: 0.6670, g_loss: 2.1500\n",
      "Epoch [2/10], Step [3200/3750], d_loss: 0.7892, g_loss: 2.1269\n",
      "Epoch [2/10], Step [3400/3750], d_loss: 0.6306, g_loss: 2.6938\n",
      "Epoch [2/10], Step [3600/3750], d_loss: 0.7649, g_loss: 1.3162\n",
      "Epoch [3/10], Step [200/3750], d_loss: 1.1041, g_loss: 3.1338\n",
      "Epoch [3/10], Step [400/3750], d_loss: 1.1851, g_loss: 1.1469\n",
      "Epoch [3/10], Step [600/3750], d_loss: 0.9902, g_loss: 2.0873\n",
      "Epoch [3/10], Step [800/3750], d_loss: 0.6491, g_loss: 1.3166\n",
      "Epoch [3/10], Step [1000/3750], d_loss: 1.1560, g_loss: 2.7892\n",
      "Epoch [3/10], Step [1200/3750], d_loss: 1.1465, g_loss: 1.9901\n",
      "Epoch [3/10], Step [1400/3750], d_loss: 0.7764, g_loss: 2.9265\n",
      "Epoch [3/10], Step [1600/3750], d_loss: 0.7133, g_loss: 1.7965\n",
      "Epoch [3/10], Step [1800/3750], d_loss: 1.2199, g_loss: 2.2518\n",
      "Epoch [3/10], Step [2000/3750], d_loss: 0.9870, g_loss: 1.5145\n",
      "Epoch [3/10], Step [2200/3750], d_loss: 1.0294, g_loss: 1.5932\n",
      "Epoch [3/10], Step [2400/3750], d_loss: 0.6325, g_loss: 2.2260\n",
      "Epoch [3/10], Step [2600/3750], d_loss: 0.6045, g_loss: 1.6134\n",
      "Epoch [3/10], Step [2800/3750], d_loss: 0.8845, g_loss: 1.7443\n",
      "Epoch [3/10], Step [3000/3750], d_loss: 0.7603, g_loss: 1.4251\n",
      "Epoch [3/10], Step [3200/3750], d_loss: 0.6353, g_loss: 1.5493\n",
      "Epoch [3/10], Step [3400/3750], d_loss: 0.6001, g_loss: 1.4835\n",
      "Epoch [3/10], Step [3600/3750], d_loss: 0.9775, g_loss: 1.2010\n",
      "Epoch [4/10], Step [200/3750], d_loss: 1.1641, g_loss: 2.1846\n",
      "Epoch [4/10], Step [400/3750], d_loss: 0.7026, g_loss: 1.6919\n",
      "Epoch [4/10], Step [600/3750], d_loss: 0.8692, g_loss: 1.4097\n",
      "Epoch [4/10], Step [800/3750], d_loss: 0.7339, g_loss: 1.5162\n",
      "Epoch [4/10], Step [1000/3750], d_loss: 0.8211, g_loss: 1.2150\n",
      "Epoch [4/10], Step [1200/3750], d_loss: 0.8912, g_loss: 1.8582\n",
      "Epoch [4/10], Step [1400/3750], d_loss: 0.8453, g_loss: 2.1084\n",
      "Epoch [4/10], Step [1600/3750], d_loss: 0.7308, g_loss: 1.4128\n",
      "Epoch [4/10], Step [1800/3750], d_loss: 0.8488, g_loss: 1.9935\n",
      "Epoch [4/10], Step [2000/3750], d_loss: 1.0220, g_loss: 1.1836\n",
      "Epoch [4/10], Step [2200/3750], d_loss: 1.2681, g_loss: 1.1540\n",
      "Epoch [4/10], Step [2400/3750], d_loss: 0.6360, g_loss: 1.6924\n",
      "Epoch [4/10], Step [2600/3750], d_loss: 1.1133, g_loss: 1.3970\n",
      "Epoch [4/10], Step [2800/3750], d_loss: 0.8618, g_loss: 2.1399\n",
      "Epoch [4/10], Step [3000/3750], d_loss: 0.7454, g_loss: 1.3627\n",
      "Epoch [4/10], Step [3200/3750], d_loss: 0.6910, g_loss: 1.5427\n",
      "Epoch [4/10], Step [3400/3750], d_loss: 0.7999, g_loss: 1.2184\n",
      "Epoch [4/10], Step [3600/3750], d_loss: 0.7563, g_loss: 1.3407\n",
      "Epoch [5/10], Step [200/3750], d_loss: 1.0784, g_loss: 1.3458\n",
      "Epoch [5/10], Step [400/3750], d_loss: 0.7724, g_loss: 1.7020\n",
      "Epoch [5/10], Step [600/3750], d_loss: 0.9822, g_loss: 1.5780\n",
      "Epoch [5/10], Step [800/3750], d_loss: 1.1749, g_loss: 2.2050\n",
      "Epoch [5/10], Step [1000/3750], d_loss: 1.1593, g_loss: 1.8391\n",
      "Epoch [5/10], Step [1200/3750], d_loss: 0.6180, g_loss: 1.1007\n",
      "Epoch [5/10], Step [1400/3750], d_loss: 1.0626, g_loss: 1.1603\n",
      "Epoch [5/10], Step [1600/3750], d_loss: 1.2504, g_loss: 2.7142\n",
      "Epoch [5/10], Step [1800/3750], d_loss: 0.6432, g_loss: 1.9132\n",
      "Epoch [5/10], Step [2000/3750], d_loss: 0.9500, g_loss: 1.4863\n",
      "Epoch [5/10], Step [2200/3750], d_loss: 0.9185, g_loss: 1.1963\n",
      "Epoch [5/10], Step [2400/3750], d_loss: 0.8755, g_loss: 1.3203\n",
      "Epoch [5/10], Step [2600/3750], d_loss: 1.0493, g_loss: 2.1883\n",
      "Epoch [5/10], Step [2800/3750], d_loss: 0.4531, g_loss: 1.7656\n",
      "Epoch [5/10], Step [3000/3750], d_loss: 0.6003, g_loss: 1.9518\n",
      "Epoch [5/10], Step [3200/3750], d_loss: 0.6659, g_loss: 1.6635\n",
      "Epoch [5/10], Step [3400/3750], d_loss: 0.8334, g_loss: 1.1956\n",
      "Epoch [5/10], Step [3600/3750], d_loss: 0.7691, g_loss: 1.3749\n",
      "Epoch [6/10], Step [200/3750], d_loss: 0.9779, g_loss: 1.5679\n",
      "Epoch [6/10], Step [400/3750], d_loss: 0.8931, g_loss: 1.1763\n",
      "Epoch [6/10], Step [600/3750], d_loss: 1.0319, g_loss: 1.6616\n",
      "Epoch [6/10], Step [800/3750], d_loss: 0.8505, g_loss: 1.3784\n",
      "Epoch [6/10], Step [1000/3750], d_loss: 0.6118, g_loss: 2.1478\n",
      "Epoch [6/10], Step [1200/3750], d_loss: 0.8089, g_loss: 1.5809\n",
      "Epoch [6/10], Step [1400/3750], d_loss: 0.9252, g_loss: 0.9944\n",
      "Epoch [6/10], Step [1600/3750], d_loss: 0.7692, g_loss: 1.9067\n",
      "Epoch [6/10], Step [1800/3750], d_loss: 0.9378, g_loss: 1.6814\n",
      "Epoch [6/10], Step [2000/3750], d_loss: 0.7454, g_loss: 1.0377\n",
      "Epoch [6/10], Step [2200/3750], d_loss: 0.4859, g_loss: 1.5739\n",
      "Epoch [6/10], Step [2400/3750], d_loss: 1.2489, g_loss: 1.8498\n",
      "Epoch [6/10], Step [2600/3750], d_loss: 0.6574, g_loss: 1.2549\n",
      "Epoch [6/10], Step [2800/3750], d_loss: 0.7526, g_loss: 1.9698\n",
      "Epoch [6/10], Step [3000/3750], d_loss: 0.9848, g_loss: 2.2460\n",
      "Epoch [6/10], Step [3200/3750], d_loss: 0.7954, g_loss: 1.6894\n",
      "Epoch [6/10], Step [3400/3750], d_loss: 0.7260, g_loss: 1.2799\n",
      "Epoch [6/10], Step [3600/3750], d_loss: 1.0224, g_loss: 1.0197\n",
      "Epoch [7/10], Step [200/3750], d_loss: 0.5232, g_loss: 1.6705\n",
      "Epoch [7/10], Step [400/3750], d_loss: 0.8093, g_loss: 1.1873\n",
      "Epoch [7/10], Step [600/3750], d_loss: 0.5966, g_loss: 1.4400\n",
      "Epoch [7/10], Step [800/3750], d_loss: 0.8493, g_loss: 1.6372\n",
      "Epoch [7/10], Step [1000/3750], d_loss: 0.9412, g_loss: 1.7254\n",
      "Epoch [7/10], Step [1200/3750], d_loss: 0.5875, g_loss: 1.6627\n",
      "Epoch [7/10], Step [1400/3750], d_loss: 0.7204, g_loss: 1.4740\n",
      "Epoch [7/10], Step [1600/3750], d_loss: 0.9644, g_loss: 2.1021\n",
      "Epoch [7/10], Step [1800/3750], d_loss: 0.7044, g_loss: 1.4681\n",
      "Epoch [7/10], Step [2000/3750], d_loss: 0.5465, g_loss: 1.7490\n",
      "Epoch [7/10], Step [2200/3750], d_loss: 0.9001, g_loss: 1.8628\n",
      "Epoch [7/10], Step [2400/3750], d_loss: 0.7782, g_loss: 1.4180\n",
      "Epoch [7/10], Step [2600/3750], d_loss: 0.6211, g_loss: 1.5769\n",
      "Epoch [7/10], Step [2800/3750], d_loss: 0.7713, g_loss: 1.8481\n",
      "Epoch [7/10], Step [3000/3750], d_loss: 1.0951, g_loss: 1.9179\n",
      "Epoch [7/10], Step [3200/3750], d_loss: 0.6960, g_loss: 1.2090\n",
      "Epoch [7/10], Step [3400/3750], d_loss: 0.9364, g_loss: 1.8700\n",
      "Epoch [7/10], Step [3600/3750], d_loss: 0.8841, g_loss: 1.9305\n",
      "Epoch [8/10], Step [200/3750], d_loss: 0.8185, g_loss: 1.8750\n",
      "Epoch [8/10], Step [400/3750], d_loss: 0.5672, g_loss: 1.4696\n",
      "Epoch [8/10], Step [600/3750], d_loss: 0.9243, g_loss: 1.7531\n",
      "Epoch [8/10], Step [800/3750], d_loss: 0.7686, g_loss: 0.9320\n",
      "Epoch [8/10], Step [1000/3750], d_loss: 1.0874, g_loss: 2.5548\n"
     ]
    },
    {
     "name": "stdout",
     "output_type": "stream",
     "text": [
      "Epoch [8/10], Step [1200/3750], d_loss: 0.7095, g_loss: 1.4226\n",
      "Epoch [8/10], Step [1400/3750], d_loss: 0.6993, g_loss: 1.6779\n",
      "Epoch [8/10], Step [1600/3750], d_loss: 0.6584, g_loss: 1.5672\n",
      "Epoch [8/10], Step [1800/3750], d_loss: 0.9826, g_loss: 1.6127\n",
      "Epoch [8/10], Step [2000/3750], d_loss: 0.8580, g_loss: 1.4096\n",
      "Epoch [8/10], Step [2200/3750], d_loss: 0.8416, g_loss: 1.1164\n",
      "Epoch [8/10], Step [2400/3750], d_loss: 0.6669, g_loss: 1.5922\n",
      "Epoch [8/10], Step [2600/3750], d_loss: 0.6114, g_loss: 1.8138\n",
      "Epoch [8/10], Step [2800/3750], d_loss: 1.0743, g_loss: 1.0125\n",
      "Epoch [8/10], Step [3000/3750], d_loss: 0.7183, g_loss: 1.1142\n",
      "Epoch [8/10], Step [3200/3750], d_loss: 0.7862, g_loss: 1.9453\n",
      "Epoch [8/10], Step [3400/3750], d_loss: 0.3849, g_loss: 1.7316\n",
      "Epoch [8/10], Step [3600/3750], d_loss: 0.8538, g_loss: 1.8111\n",
      "Epoch [9/10], Step [200/3750], d_loss: 1.1110, g_loss: 1.0176\n",
      "Epoch [9/10], Step [400/3750], d_loss: 0.6078, g_loss: 2.0416\n",
      "Epoch [9/10], Step [600/3750], d_loss: 0.9112, g_loss: 1.5597\n",
      "Epoch [9/10], Step [800/3750], d_loss: 0.9185, g_loss: 1.8908\n",
      "Epoch [9/10], Step [1000/3750], d_loss: 0.6294, g_loss: 1.8271\n",
      "Epoch [9/10], Step [1200/3750], d_loss: 0.7040, g_loss: 1.5975\n",
      "Epoch [9/10], Step [1400/3750], d_loss: 0.8376, g_loss: 1.1157\n",
      "Epoch [9/10], Step [1600/3750], d_loss: 0.5494, g_loss: 1.3126\n",
      "Epoch [9/10], Step [1800/3750], d_loss: 0.8507, g_loss: 2.3616\n",
      "Epoch [9/10], Step [2000/3750], d_loss: 0.7787, g_loss: 1.1802\n",
      "Epoch [9/10], Step [2200/3750], d_loss: 1.0571, g_loss: 2.3126\n",
      "Epoch [9/10], Step [2400/3750], d_loss: 1.1195, g_loss: 1.6911\n",
      "Epoch [9/10], Step [2600/3750], d_loss: 0.8491, g_loss: 1.5261\n",
      "Epoch [9/10], Step [2800/3750], d_loss: 0.8388, g_loss: 1.2288\n",
      "Epoch [9/10], Step [3000/3750], d_loss: 0.7870, g_loss: 1.4091\n",
      "Epoch [9/10], Step [3200/3750], d_loss: 1.0873, g_loss: 1.3462\n",
      "Epoch [9/10], Step [3400/3750], d_loss: 0.4404, g_loss: 1.7019\n",
      "Epoch [9/10], Step [3600/3750], d_loss: 0.8523, g_loss: 1.8774\n",
      "Epoch [10/10], Step [200/3750], d_loss: 1.2020, g_loss: 1.6103\n",
      "Epoch [10/10], Step [400/3750], d_loss: 0.7247, g_loss: 2.1485\n",
      "Epoch [10/10], Step [600/3750], d_loss: 1.1107, g_loss: 1.8659\n",
      "Epoch [10/10], Step [800/3750], d_loss: 1.3872, g_loss: 1.5420\n",
      "Epoch [10/10], Step [1000/3750], d_loss: 0.8953, g_loss: 1.4502\n",
      "Epoch [10/10], Step [1200/3750], d_loss: 0.5345, g_loss: 1.4809\n",
      "Epoch [10/10], Step [1400/3750], d_loss: 0.7540, g_loss: 1.5852\n",
      "Epoch [10/10], Step [1600/3750], d_loss: 0.4759, g_loss: 1.8654\n",
      "Epoch [10/10], Step [1800/3750], d_loss: 0.6887, g_loss: 1.5821\n",
      "Epoch [10/10], Step [2000/3750], d_loss: 1.0415, g_loss: 1.9622\n",
      "Epoch [10/10], Step [2200/3750], d_loss: 0.6422, g_loss: 1.7464\n",
      "Epoch [10/10], Step [2400/3750], d_loss: 0.6358, g_loss: 1.5116\n",
      "Epoch [10/10], Step [2600/3750], d_loss: 0.7803, g_loss: 1.9062\n",
      "Epoch [10/10], Step [2800/3750], d_loss: 0.7335, g_loss: 1.7980\n",
      "Epoch [10/10], Step [3000/3750], d_loss: 0.8721, g_loss: 1.8097\n",
      "Epoch [10/10], Step [3200/3750], d_loss: 0.7891, g_loss: 1.6419\n",
      "Epoch [10/10], Step [3400/3750], d_loss: 0.7236, g_loss: 1.3777\n",
      "Epoch [10/10], Step [3600/3750], d_loss: 0.9928, g_loss: 1.4531\n"
     ]
    }
   ],
   "source": [
    "train(GENERATOR, DISCRIMINATOR, dataloader, num_epochs=CONFIG.num_epochs, lr=CONFIG.learning_rate, device=DEVICE)"
   ]
  },
  {
   "cell_type": "code",
   "execution_count": 16,
   "metadata": {
    "execution": {
     "iopub.execute_input": "2023-12-28T07:38:17.691063Z",
     "iopub.status.busy": "2023-12-28T07:38:17.690638Z",
     "iopub.status.idle": "2023-12-28T07:38:18.444351Z",
     "shell.execute_reply": "2023-12-28T07:38:18.442998Z",
     "shell.execute_reply.started": "2023-12-28T07:38:17.691027Z"
    }
   },
   "outputs": [
    {
     "data": {
      "image/png": "[encoded data removed]",
      "text/plain": [
       "<Figure size 1000x1200 with 16 Axes>"
      ]
     },
     "metadata": {},
     "output_type": "display_data"
    }
   ],
   "source": [
    "IMG_QTY = 16\n",
    "IMG_SIZE = int(math.sqrt(IMG_QTY))\n",
    "\n",
    "noise = torch.randn(IMG_QTY, 100, device=DEVICE)  # Generate 10 random noise vectors\n",
    "generated_images = GENERATOR(noise)  # Generate images using the generator\n",
    "\n",
    "plt.figure(figsize=(10, 12))\n",
    "for i in range(IMG_QTY):\n",
    "    plt.subplot(IMG_SIZE, IMG_SIZE, i+1)\n",
    "    plt.imshow(generated_images[i].cpu().detach().numpy().reshape(28, 28), cmap=plt.cm.Greys_r)\n",
    "    plt.axis(\"off\")"
   ]
  },
  {
   "cell_type": "code",
   "execution_count": null,
   "metadata": {},
   "outputs": [],
   "source": []
  }
 ],
 "metadata": {
  "anaconda-cloud": {},
  "colab": {
   "provenance": []
  },
  "kaggle": {
   "accelerator": "none",
   "dataSources": [],
   "dockerImageVersionId": 30627,
   "isGpuEnabled": false,
   "isInternetEnabled": true,
   "language": "python",
   "sourceType": "notebook"
  },
  "kernelspec": {
   "display_name": "Python 3 (ipykernel)",
   "language": "python",
   "name": "python3"
  },
  "language_info": {
   "codemirror_mode": {
    "name": "ipython",
    "version": 3
   },
   "file_extension": ".py",
   "mimetype": "text/x-python",
   "name": "python",
   "nbconvert_exporter": "python",
   "pygments_lexer": "ipython3",
   "version": "3.9.2"
  }
 },
 "nbformat": 4,
 "nbformat_minor": 4
}
