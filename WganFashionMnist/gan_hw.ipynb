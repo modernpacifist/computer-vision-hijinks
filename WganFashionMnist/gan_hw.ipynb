{
 "cells": [
  {
   "cell_type": "code",
   "execution_count": 1,
   "metadata": {
    "execution": {
     "iopub.execute_input": "2023-12-28T07:29:20.423790Z",
     "iopub.status.busy": "2023-12-28T07:29:20.423339Z",
     "iopub.status.idle": "2023-12-28T07:29:24.966763Z",
     "shell.execute_reply": "2023-12-28T07:29:24.965544Z",
     "shell.execute_reply.started": "2023-12-28T07:29:20.423726Z"
    },
    "id": "_PBZhPXoEVAI"
   },
   "outputs": [
    {
     "name": "stderr",
     "output_type": "stream",
     "text": [
      "2023-12-28 16:26:15.528813: I tensorflow/core/util/port.cc:110] oneDNN custom operations are on. You may see slightly different numerical results due to floating-point round-off errors from different computation orders. To turn them off, set the environment variable `TF_ENABLE_ONEDNN_OPTS=0`.\n",
      "2023-12-28 16:26:15.530386: I tensorflow/tsl/cuda/cudart_stub.cc:28] Could not find cuda drivers on your machine, GPU will not be used.\n",
      "2023-12-28 16:26:15.569517: I tensorflow/core/platform/cpu_feature_guard.cc:182] This TensorFlow binary is optimized to use available CPU instructions in performance-critical operations.\n",
      "To enable the following instructions: AVX2 AVX_VNNI FMA, in other operations, rebuild TensorFlow with the appropriate compiler flags.\n",
      "2023-12-28 16:26:16.225561: W tensorflow/compiler/tf2tensorrt/utils/py_utils.cc:38] TF-TRT Warning: Could not find TensorRT\n"
     ]
    }
   ],
   "source": [
    "import torch\n",
    "import torch.nn as nn\n",
    "import torch.nn.functional as F\n",
    "import torch.optim as optim\n",
    "from torch.utils.data import DataLoader, Dataset\n",
    "from torch.utils.tensorboard import SummaryWriter\n",
    "\n",
    "import torchvision\n",
    "import matplotlib.pyplot as plt\n",
    "import numpy as np\n",
    "import math"
   ]
  },
  {
   "cell_type": "code",
   "execution_count": 2,
   "metadata": {},
   "outputs": [],
   "source": [
    "WRITER = SummaryWriter()"
   ]
  },
  {
   "cell_type": "code",
   "execution_count": 3,
   "metadata": {
    "execution": {
     "iopub.execute_input": "2023-12-28T07:29:24.970771Z",
     "iopub.status.busy": "2023-12-28T07:29:24.969539Z",
     "iopub.status.idle": "2023-12-28T07:29:24.978723Z",
     "shell.execute_reply": "2023-12-28T07:29:24.976898Z",
     "shell.execute_reply.started": "2023-12-28T07:29:24.970701Z"
    },
    "id": "6ZOVySNaEVAJ"
   },
   "outputs": [],
   "source": [
    "class Config:\n",
    "    pass\n",
    "\n",
    "CONFIG = Config()\n",
    "CONFIG.mnist_path = None\n",
    "CONFIG.batch_size = 16\n",
    "CONFIG.num_workers = 3\n",
    "CONFIG.num_epochs = 10\n",
    "CONFIG.noise_size = 50\n",
    "CONFIG.print_freq = 500\n",
    "CONFIG.learning_rate = 0.0002"
   ]
  },
  {
   "cell_type": "code",
   "execution_count": 4,
   "metadata": {
    "execution": {
     "iopub.execute_input": "2023-12-28T07:29:24.981333Z",
     "iopub.status.busy": "2023-12-28T07:29:24.980637Z",
     "iopub.status.idle": "2023-12-28T07:29:26.711155Z",
     "shell.execute_reply": "2023-12-28T07:29:26.710012Z",
     "shell.execute_reply.started": "2023-12-28T07:29:24.981294Z"
    },
    "id": "rJQdF3-xEVAJ"
   },
   "outputs": [],
   "source": [
    "dataset = torchvision.datasets.FashionMNIST(\"fashion_mnist\", train=True, transform=torchvision.transforms.ToTensor(), download=True)"
   ]
  },
  {
   "cell_type": "code",
   "execution_count": 5,
   "metadata": {
    "colab": {
     "base_uri": "https://localhost:8080/"
    },
    "execution": {
     "iopub.execute_input": "2023-12-28T07:29:29.881147Z",
     "iopub.status.busy": "2023-12-28T07:29:29.880605Z",
     "iopub.status.idle": "2023-12-28T07:29:29.890185Z",
     "shell.execute_reply": "2023-12-28T07:29:29.889077Z",
     "shell.execute_reply.started": "2023-12-28T07:29:29.881100Z"
    },
    "id": "DsFXiFsIEVAJ",
    "outputId": "824fd810-958b-4785-e522-dbb8d5f7d1dd"
   },
   "outputs": [
    {
     "data": {
      "text/plain": [
       "3750"
      ]
     },
     "execution_count": 5,
     "metadata": {},
     "output_type": "execute_result"
    }
   ],
   "source": [
    "dataloader = DataLoader(dataset, batch_size=CONFIG.batch_size, shuffle=True)\n",
    "len(dataloader)"
   ]
  },
  {
   "cell_type": "code",
   "execution_count": 6,
   "metadata": {
    "colab": {
     "base_uri": "https://localhost:8080/"
    },
    "execution": {
     "iopub.execute_input": "2023-12-28T07:29:30.375722Z",
     "iopub.status.busy": "2023-12-28T07:29:30.374181Z",
     "iopub.status.idle": "2023-12-28T07:29:30.452347Z",
     "shell.execute_reply": "2023-12-28T07:29:30.451035Z",
     "shell.execute_reply.started": "2023-12-28T07:29:30.375670Z"
    },
    "id": "GXozdEFQEVAJ",
    "outputId": "d1415d3a-f359-43c8-87b8-5f9036f272ac"
   },
   "outputs": [
    {
     "data": {
      "text/plain": [
       "torch.Size([16, 1, 28, 28])"
      ]
     },
     "execution_count": 6,
     "metadata": {},
     "output_type": "execute_result"
    }
   ],
   "source": [
    "image, label = next(iter(dataloader))\n",
    "image.size()"
   ]
  },
  {
   "cell_type": "code",
   "execution_count": 7,
   "metadata": {
    "execution": {
     "iopub.execute_input": "2023-12-28T07:29:33.773362Z",
     "iopub.status.busy": "2023-12-28T07:29:33.772913Z",
     "iopub.status.idle": "2023-12-28T07:29:33.784770Z",
     "shell.execute_reply": "2023-12-28T07:29:33.783211Z",
     "shell.execute_reply.started": "2023-12-28T07:29:33.773324Z"
    },
    "id": "diozgmg4EVAK"
   },
   "outputs": [],
   "source": [
    "class Generator(nn.Module):\n",
    "    def __init__(self):\n",
    "        super(Generator, self).__init__()\n",
    "        self.model = nn.Sequential(\n",
    "            nn.Linear(100, 256),\n",
    "            nn.LeakyReLU(0.2),\n",
    "            nn.Linear(256, 512),\n",
    "            nn.LeakyReLU(0.2),\n",
    "            nn.Linear(512, 784),\n",
    "            nn.Tanh()\n",
    "        )\n",
    "\n",
    "    def forward(self, x):\n",
    "        out = self.model(x)\n",
    "        out = out.view(x.size(0), 1, 28, 28)\n",
    "        return out\n",
    "\n",
    "\n",
    "class Discriminator(nn.Module):\n",
    "    def __init__(self):\n",
    "        super(Discriminator, self).__init__()\n",
    "        self.model = nn.Sequential(\n",
    "            nn.Linear(784, 512),\n",
    "            nn.LeakyReLU(0.2),\n",
    "            nn.Linear(512, 256),\n",
    "            nn.LeakyReLU(0.2),\n",
    "            nn.Linear(256, 1)\n",
    "        )\n",
    "\n",
    "    def forward(self, x):\n",
    "        x = x.view(x.size(0), -1)\n",
    "        out = self.model(x)\n",
    "        return out"
   ]
  },
  {
   "cell_type": "code",
   "execution_count": 8,
   "metadata": {
    "execution": {
     "iopub.execute_input": "2023-12-28T07:29:33.935395Z",
     "iopub.status.busy": "2023-12-28T07:29:33.934238Z",
     "iopub.status.idle": "2023-12-28T07:29:33.955619Z",
     "shell.execute_reply": "2023-12-28T07:29:33.954395Z",
     "shell.execute_reply.started": "2023-12-28T07:29:33.935342Z"
    },
    "id": "ZJUbCECuEVAK"
   },
   "outputs": [],
   "source": [
    "GENERATOR = Generator()\n",
    "DISCRIMINATOR = Discriminator()"
   ]
  },
  {
   "cell_type": "code",
   "execution_count": 9,
   "metadata": {
    "colab": {
     "base_uri": "https://localhost:8080/"
    },
    "execution": {
     "iopub.execute_input": "2023-12-28T07:29:34.191364Z",
     "iopub.status.busy": "2023-12-28T07:29:34.190985Z",
     "iopub.status.idle": "2023-12-28T07:29:34.199977Z",
     "shell.execute_reply": "2023-12-28T07:29:34.198596Z",
     "shell.execute_reply.started": "2023-12-28T07:29:34.191334Z"
    },
    "id": "mPbOGNgpg2b1",
    "outputId": "07aeb7fb-afc2-4587-adf5-d6cae3fc5153"
   },
   "outputs": [
    {
     "data": {
      "text/plain": [
       "Generator(\n",
       "  (model): Sequential(\n",
       "    (0): Linear(in_features=100, out_features=256, bias=True)\n",
       "    (1): LeakyReLU(negative_slope=0.2)\n",
       "    (2): Linear(in_features=256, out_features=512, bias=True)\n",
       "    (3): LeakyReLU(negative_slope=0.2)\n",
       "    (4): Linear(in_features=512, out_features=784, bias=True)\n",
       "    (5): Tanh()\n",
       "  )\n",
       ")"
      ]
     },
     "execution_count": 9,
     "metadata": {},
     "output_type": "execute_result"
    }
   ],
   "source": [
    "GENERATOR"
   ]
  },
  {
   "cell_type": "code",
   "execution_count": 10,
   "metadata": {
    "colab": {
     "base_uri": "https://localhost:8080/"
    },
    "execution": {
     "iopub.execute_input": "2023-12-28T07:29:34.451425Z",
     "iopub.status.busy": "2023-12-28T07:29:34.451045Z",
     "iopub.status.idle": "2023-12-28T07:29:34.459099Z",
     "shell.execute_reply": "2023-12-28T07:29:34.457933Z",
     "shell.execute_reply.started": "2023-12-28T07:29:34.451393Z"
    },
    "id": "OPL3JAY6g2b1",
    "outputId": "41e54015-31e0-4aa9-f22c-0d0459203d30"
   },
   "outputs": [
    {
     "data": {
      "text/plain": [
       "Discriminator(\n",
       "  (model): Sequential(\n",
       "    (0): Linear(in_features=784, out_features=512, bias=True)\n",
       "    (1): LeakyReLU(negative_slope=0.2)\n",
       "    (2): Linear(in_features=512, out_features=256, bias=True)\n",
       "    (3): LeakyReLU(negative_slope=0.2)\n",
       "    (4): Linear(in_features=256, out_features=1, bias=True)\n",
       "  )\n",
       ")"
      ]
     },
     "execution_count": 10,
     "metadata": {},
     "output_type": "execute_result"
    }
   ],
   "source": [
    "DISCRIMINATOR"
   ]
  },
  {
   "cell_type": "code",
   "execution_count": 11,
   "metadata": {
    "execution": {
     "iopub.execute_input": "2023-12-28T07:29:37.641610Z",
     "iopub.status.busy": "2023-12-28T07:29:37.641221Z",
     "iopub.status.idle": "2023-12-28T07:29:37.650361Z",
     "shell.execute_reply": "2023-12-28T07:29:37.648912Z",
     "shell.execute_reply.started": "2023-12-28T07:29:37.641576Z"
    }
   },
   "outputs": [],
   "source": [
    "def compute_gp(netD, real_data, fake_data):\n",
    "        batch_size = real_data.size(0)\n",
    "        # Sample Epsilon from uniform distribution\n",
    "        eps = torch.rand(batch_size, 1, 1, 1).to(real_data.device)\n",
    "        eps = eps.expand_as(real_data)\n",
    "        \n",
    "        # Interpolation between real data and fake data.\n",
    "        interpolation = eps * real_data + (1 - eps) * fake_data\n",
    "        \n",
    "        # get logits for interpolated images\n",
    "        interp_logits = netD(interpolation)\n",
    "        grad_outputs = torch.ones_like(interp_logits)\n",
    "        \n",
    "        # Compute Gradients\n",
    "        gradients = autograd.grad(\n",
    "            outputs=interp_logits,\n",
    "            inputs=interpolation,\n",
    "            grad_outputs=grad_outputs,\n",
    "            create_graph=True,\n",
    "            retain_graph=True,\n",
    "        )[0]\n",
    "        \n",
    "        # Compute and return Gradient Norm\n",
    "        gradients = gradients.view(batch_size, -1)\n",
    "        grad_norm = gradients.norm(2, 1)\n",
    "        return torch.mean((grad_norm - 1) ** 2)"
   ]
  },
  {
   "cell_type": "code",
   "execution_count": 12,
   "metadata": {
    "execution": {
     "iopub.execute_input": "2023-12-28T07:29:37.956438Z",
     "iopub.status.busy": "2023-12-28T07:29:37.956043Z",
     "iopub.status.idle": "2023-12-28T07:29:37.963205Z",
     "shell.execute_reply": "2023-12-28T07:29:37.961680Z",
     "shell.execute_reply.started": "2023-12-28T07:29:37.956405Z"
    },
    "id": "VltlxWoyEVAL"
   },
   "outputs": [
    {
     "name": "stdout",
     "output_type": "stream",
     "text": [
      "cuda\n"
     ]
    }
   ],
   "source": [
    "DEVICE = 'cuda' if torch.cuda.is_available() else 'cpu'\n",
    "print(DEVICE)"
   ]
  },
  {
   "cell_type": "code",
   "execution_count": 18,
   "metadata": {
    "execution": {
     "iopub.execute_input": "2023-12-28T07:29:46.852871Z",
     "iopub.status.busy": "2023-12-28T07:29:46.852434Z",
     "iopub.status.idle": "2023-12-28T07:29:46.867112Z",
     "shell.execute_reply": "2023-12-28T07:29:46.866144Z",
     "shell.execute_reply.started": "2023-12-28T07:29:46.852835Z"
    },
    "id": "YdTU6oAecOx0"
   },
   "outputs": [],
   "source": [
    "def train(generator, discriminator, dataloader, num_epochs, lr, device, writer):\n",
    "    discriminator.to(device)\n",
    "    generator.to(device)\n",
    "\n",
    "    criterion = nn.BCEWithLogitsLoss()\n",
    "\n",
    "    d_optimizer = optim.Adam(discriminator.parameters(), lr=lr)\n",
    "    g_optimizer = optim.Adam(generator.parameters(), lr=lr)\n",
    "\n",
    "    for epoch in range(num_epochs):\n",
    "        for i, (real_images, _) in enumerate(dataloader):\n",
    "            real_images = real_images.to(device)\n",
    "            batch_size = real_images.size(0)\n",
    "            real_labels = torch.ones(batch_size, 1).to(device)\n",
    "            fake_labels = torch.zeros(batch_size, 1).to(device)\n",
    "\n",
    "            # Train the discriminator\n",
    "            discriminator.zero_grad()\n",
    "            real_outputs = discriminator(real_images)\n",
    "            d_loss_real = criterion(real_outputs, real_labels)\n",
    "\n",
    "            z = torch.randn(batch_size, 100).to(device)\n",
    "            fake_images = generator(z)\n",
    "            fake_outputs = discriminator(fake_images.detach())\n",
    "            d_loss_fake = criterion(fake_outputs, fake_labels)\n",
    "\n",
    "            d_loss = d_loss_real + d_loss_fake\n",
    "            d_loss.backward()\n",
    "            d_optimizer.step()\n",
    "\n",
    "            # Train the generator\n",
    "            generator.zero_grad()\n",
    "            z = torch.randn(batch_size, 100).to(device)\n",
    "            fake_images = generator(z)\n",
    "            fake_outputs = discriminator(fake_images)\n",
    "            g_loss = criterion(fake_outputs, real_labels)\n",
    "\n",
    "            g_loss.backward()\n",
    "            g_optimizer.step()\n",
    "\n",
    "            if (i+1) % 200 == 0:\n",
    "                print(f\"Epoch [{epoch+1}/{num_epochs}], Step [{i+1}/{len(dataloader)}], d_loss: {d_loss.item():.4f}, g_loss: {g_loss.item():.4f}\")\n",
    "                writer.add_scalar('Generator loss', g_loss.item(), i+1)\n",
    "                writer.add_scalar('Discriminator loss', d_loss.item(), i+1)"
   ]
  },
  {
   "cell_type": "code",
   "execution_count": 19,
   "metadata": {
    "colab": {
     "base_uri": "https://localhost:8080/"
    },
    "execution": {
     "iopub.execute_input": "2023-12-28T07:29:49.183930Z",
     "iopub.status.busy": "2023-12-28T07:29:49.183447Z",
     "iopub.status.idle": "2023-12-28T07:29:49.196609Z",
     "shell.execute_reply": "2023-12-28T07:29:49.195308Z",
     "shell.execute_reply.started": "2023-12-28T07:29:49.183892Z"
    },
    "id": "DMZwEdBmcX-V",
    "outputId": "bea1e961-af39-4922-823e-2829a07be883"
   },
   "outputs": [
    {
     "data": {
      "text/plain": [
       "<torch._C.Generator at 0x7f0c1bf185b0>"
      ]
     },
     "execution_count": 19,
     "metadata": {},
     "output_type": "execute_result"
    }
   ],
   "source": [
    "torch.manual_seed(42)"
   ]
  },
  {
   "cell_type": "code",
   "execution_count": 21,
   "metadata": {
    "colab": {
     "base_uri": "https://localhost:8080/"
    },
    "execution": {
     "iopub.execute_input": "2023-12-28T07:29:51.480483Z",
     "iopub.status.busy": "2023-12-28T07:29:51.480050Z",
     "iopub.status.idle": "2023-12-28T07:38:17.688169Z",
     "shell.execute_reply": "2023-12-28T07:38:17.686918Z",
     "shell.execute_reply.started": "2023-12-28T07:29:51.480447Z"
    },
    "id": "Kr5y6kpgdBvk",
    "outputId": "d5c483ee-1796-4323-c164-c0c6ec7afb8e",
    "scrolled": false
   },
   "outputs": [
    {
     "name": "stdout",
     "output_type": "stream",
     "text": [
      "Epoch [1/10], Step [200/3750], d_loss: 1.1011, g_loss: 1.3028\n",
      "Epoch [1/10], Step [400/3750], d_loss: 0.7245, g_loss: 1.7595\n",
      "Epoch [1/10], Step [600/3750], d_loss: 0.6856, g_loss: 1.2777\n",
      "Epoch [1/10], Step [800/3750], d_loss: 0.8326, g_loss: 0.9990\n",
      "Epoch [1/10], Step [1000/3750], d_loss: 0.7884, g_loss: 1.0155\n",
      "Epoch [1/10], Step [1200/3750], d_loss: 0.8411, g_loss: 2.1370\n",
      "Epoch [1/10], Step [1400/3750], d_loss: 0.9787, g_loss: 1.2259\n",
      "Epoch [1/10], Step [1600/3750], d_loss: 1.0762, g_loss: 1.3087\n",
      "Epoch [1/10], Step [1800/3750], d_loss: 0.6757, g_loss: 2.0942\n",
      "Epoch [1/10], Step [2000/3750], d_loss: 0.5820, g_loss: 1.9260\n",
      "Epoch [1/10], Step [2200/3750], d_loss: 0.6311, g_loss: 1.2200\n",
      "Epoch [1/10], Step [2400/3750], d_loss: 0.8253, g_loss: 1.3664\n",
      "Epoch [1/10], Step [2600/3750], d_loss: 0.9812, g_loss: 1.6802\n",
      "Epoch [1/10], Step [2800/3750], d_loss: 0.6809, g_loss: 1.1796\n",
      "Epoch [1/10], Step [3000/3750], d_loss: 0.7593, g_loss: 1.7660\n",
      "Epoch [1/10], Step [3200/3750], d_loss: 0.8996, g_loss: 0.9294\n",
      "Epoch [1/10], Step [3400/3750], d_loss: 0.9161, g_loss: 1.6190\n",
      "Epoch [1/10], Step [3600/3750], d_loss: 1.0705, g_loss: 1.5487\n",
      "Epoch [2/10], Step [200/3750], d_loss: 1.1357, g_loss: 1.4068\n",
      "Epoch [2/10], Step [400/3750], d_loss: 1.0630, g_loss: 1.2929\n",
      "Epoch [2/10], Step [600/3750], d_loss: 0.9764, g_loss: 1.6850\n",
      "Epoch [2/10], Step [800/3750], d_loss: 1.0483, g_loss: 1.1806\n",
      "Epoch [2/10], Step [1000/3750], d_loss: 0.7334, g_loss: 1.4452\n",
      "Epoch [2/10], Step [1200/3750], d_loss: 0.8508, g_loss: 1.4041\n",
      "Epoch [2/10], Step [1400/3750], d_loss: 0.9684, g_loss: 1.4711\n",
      "Epoch [2/10], Step [1600/3750], d_loss: 0.7133, g_loss: 1.6038\n",
      "Epoch [2/10], Step [1800/3750], d_loss: 1.0461, g_loss: 0.9906\n",
      "Epoch [2/10], Step [2000/3750], d_loss: 0.6302, g_loss: 1.5152\n",
      "Epoch [2/10], Step [2200/3750], d_loss: 0.8973, g_loss: 1.8792\n",
      "Epoch [2/10], Step [2400/3750], d_loss: 1.0990, g_loss: 1.9315\n",
      "Epoch [2/10], Step [2600/3750], d_loss: 0.7805, g_loss: 1.8662\n",
      "Epoch [2/10], Step [2800/3750], d_loss: 0.8843, g_loss: 1.5351\n",
      "Epoch [2/10], Step [3000/3750], d_loss: 0.7517, g_loss: 1.7124\n",
      "Epoch [2/10], Step [3200/3750], d_loss: 1.2753, g_loss: 1.1600\n",
      "Epoch [2/10], Step [3400/3750], d_loss: 0.7730, g_loss: 1.8614\n",
      "Epoch [2/10], Step [3600/3750], d_loss: 0.5805, g_loss: 1.4152\n",
      "Epoch [3/10], Step [200/3750], d_loss: 0.6812, g_loss: 1.7529\n",
      "Epoch [3/10], Step [400/3750], d_loss: 1.1040, g_loss: 1.3517\n",
      "Epoch [3/10], Step [600/3750], d_loss: 0.8182, g_loss: 1.3347\n",
      "Epoch [3/10], Step [800/3750], d_loss: 0.8941, g_loss: 2.2697\n",
      "Epoch [3/10], Step [1000/3750], d_loss: 1.1011, g_loss: 1.3075\n",
      "Epoch [3/10], Step [1200/3750], d_loss: 0.9711, g_loss: 1.4191\n",
      "Epoch [3/10], Step [1400/3750], d_loss: 0.9298, g_loss: 1.4200\n",
      "Epoch [3/10], Step [1600/3750], d_loss: 0.9068, g_loss: 1.5336\n",
      "Epoch [3/10], Step [1800/3750], d_loss: 1.0318, g_loss: 2.2039\n",
      "Epoch [3/10], Step [2000/3750], d_loss: 0.6304, g_loss: 2.0328\n",
      "Epoch [3/10], Step [2200/3750], d_loss: 1.1066, g_loss: 1.9327\n",
      "Epoch [3/10], Step [2400/3750], d_loss: 0.4198, g_loss: 1.7093\n",
      "Epoch [3/10], Step [2600/3750], d_loss: 0.5379, g_loss: 1.9902\n",
      "Epoch [3/10], Step [2800/3750], d_loss: 0.7608, g_loss: 1.6322\n",
      "Epoch [3/10], Step [3000/3750], d_loss: 0.5658, g_loss: 2.1964\n",
      "Epoch [3/10], Step [3200/3750], d_loss: 1.2953, g_loss: 1.6663\n",
      "Epoch [3/10], Step [3400/3750], d_loss: 0.7384, g_loss: 1.7033\n",
      "Epoch [3/10], Step [3600/3750], d_loss: 1.0941, g_loss: 1.6927\n",
      "Epoch [4/10], Step [200/3750], d_loss: 0.9165, g_loss: 1.7757\n",
      "Epoch [4/10], Step [400/3750], d_loss: 0.7223, g_loss: 1.1492\n",
      "Epoch [4/10], Step [600/3750], d_loss: 0.7711, g_loss: 1.4822\n",
      "Epoch [4/10], Step [800/3750], d_loss: 0.8058, g_loss: 1.7811\n",
      "Epoch [4/10], Step [1000/3750], d_loss: 0.6468, g_loss: 2.1996\n",
      "Epoch [4/10], Step [1200/3750], d_loss: 1.0051, g_loss: 1.9532\n",
      "Epoch [4/10], Step [1400/3750], d_loss: 0.6557, g_loss: 1.5059\n",
      "Epoch [4/10], Step [1600/3750], d_loss: 1.3010, g_loss: 1.3116\n",
      "Epoch [4/10], Step [1800/3750], d_loss: 1.0941, g_loss: 1.4933\n",
      "Epoch [4/10], Step [2000/3750], d_loss: 0.8244, g_loss: 1.9393\n",
      "Epoch [4/10], Step [2200/3750], d_loss: 0.6191, g_loss: 2.1340\n",
      "Epoch [4/10], Step [2400/3750], d_loss: 0.8216, g_loss: 1.4118\n",
      "Epoch [4/10], Step [2600/3750], d_loss: 0.5613, g_loss: 1.6199\n",
      "Epoch [4/10], Step [2800/3750], d_loss: 0.6613, g_loss: 1.6701\n",
      "Epoch [4/10], Step [3000/3750], d_loss: 0.6236, g_loss: 1.9782\n",
      "Epoch [4/10], Step [3200/3750], d_loss: 0.7181, g_loss: 2.3280\n",
      "Epoch [4/10], Step [3400/3750], d_loss: 0.9196, g_loss: 1.2301\n",
      "Epoch [4/10], Step [3600/3750], d_loss: 0.9616, g_loss: 2.0321\n",
      "Epoch [5/10], Step [200/3750], d_loss: 0.9653, g_loss: 1.6945\n",
      "Epoch [5/10], Step [400/3750], d_loss: 0.7151, g_loss: 2.1435\n",
      "Epoch [5/10], Step [600/3750], d_loss: 0.7207, g_loss: 1.7971\n",
      "Epoch [5/10], Step [800/3750], d_loss: 0.6099, g_loss: 1.4775\n",
      "Epoch [5/10], Step [1000/3750], d_loss: 0.4888, g_loss: 1.5998\n",
      "Epoch [5/10], Step [1200/3750], d_loss: 0.6544, g_loss: 1.5682\n",
      "Epoch [5/10], Step [1400/3750], d_loss: 1.0351, g_loss: 1.1697\n",
      "Epoch [5/10], Step [1600/3750], d_loss: 0.5632, g_loss: 2.2463\n",
      "Epoch [5/10], Step [1800/3750], d_loss: 1.0451, g_loss: 1.9078\n",
      "Epoch [5/10], Step [2000/3750], d_loss: 1.0151, g_loss: 1.5855\n",
      "Epoch [5/10], Step [2200/3750], d_loss: 0.4931, g_loss: 1.8787\n",
      "Epoch [5/10], Step [2400/3750], d_loss: 1.0660, g_loss: 1.7942\n",
      "Epoch [5/10], Step [2600/3750], d_loss: 0.3628, g_loss: 1.7633\n",
      "Epoch [5/10], Step [2800/3750], d_loss: 0.9582, g_loss: 2.0680\n",
      "Epoch [5/10], Step [3000/3750], d_loss: 1.5194, g_loss: 1.1625\n",
      "Epoch [5/10], Step [3200/3750], d_loss: 0.4679, g_loss: 1.6887\n",
      "Epoch [5/10], Step [3400/3750], d_loss: 0.8267, g_loss: 1.3849\n",
      "Epoch [5/10], Step [3600/3750], d_loss: 0.8776, g_loss: 1.3097\n",
      "Epoch [6/10], Step [200/3750], d_loss: 0.8462, g_loss: 2.2744\n",
      "Epoch [6/10], Step [400/3750], d_loss: 0.8789, g_loss: 2.2527\n",
      "Epoch [6/10], Step [600/3750], d_loss: 0.4955, g_loss: 1.9163\n",
      "Epoch [6/10], Step [800/3750], d_loss: 0.4326, g_loss: 1.8712\n",
      "Epoch [6/10], Step [1000/3750], d_loss: 0.8020, g_loss: 1.3465\n",
      "Epoch [6/10], Step [1200/3750], d_loss: 0.8772, g_loss: 1.1421\n",
      "Epoch [6/10], Step [1400/3750], d_loss: 0.3069, g_loss: 2.3498\n",
      "Epoch [6/10], Step [1600/3750], d_loss: 0.6552, g_loss: 1.7158\n",
      "Epoch [6/10], Step [1800/3750], d_loss: 0.7092, g_loss: 1.6063\n",
      "Epoch [6/10], Step [2000/3750], d_loss: 0.7065, g_loss: 1.8305\n",
      "Epoch [6/10], Step [2200/3750], d_loss: 0.8314, g_loss: 1.8633\n",
      "Epoch [6/10], Step [2400/3750], d_loss: 0.8288, g_loss: 2.4346\n",
      "Epoch [6/10], Step [2600/3750], d_loss: 0.4893, g_loss: 2.0078\n",
      "Epoch [6/10], Step [2800/3750], d_loss: 0.6128, g_loss: 1.6750\n",
      "Epoch [6/10], Step [3000/3750], d_loss: 1.0481, g_loss: 1.2878\n",
      "Epoch [6/10], Step [3200/3750], d_loss: 0.7855, g_loss: 1.6811\n",
      "Epoch [6/10], Step [3400/3750], d_loss: 0.7487, g_loss: 1.6150\n",
      "Epoch [6/10], Step [3600/3750], d_loss: 0.4343, g_loss: 2.1410\n",
      "Epoch [7/10], Step [200/3750], d_loss: 0.8492, g_loss: 1.6758\n",
      "Epoch [7/10], Step [400/3750], d_loss: 0.4468, g_loss: 1.6111\n",
      "Epoch [7/10], Step [600/3750], d_loss: 0.8355, g_loss: 2.2985\n",
      "Epoch [7/10], Step [800/3750], d_loss: 0.9553, g_loss: 1.5982\n",
      "Epoch [7/10], Step [1000/3750], d_loss: 0.9891, g_loss: 1.8526\n",
      "Epoch [7/10], Step [1200/3750], d_loss: 0.9756, g_loss: 1.2938\n",
      "Epoch [7/10], Step [1400/3750], d_loss: 0.7972, g_loss: 1.3448\n",
      "Epoch [7/10], Step [1600/3750], d_loss: 1.1080, g_loss: 1.3150\n",
      "Epoch [7/10], Step [1800/3750], d_loss: 0.7509, g_loss: 1.8266\n",
      "Epoch [7/10], Step [2000/3750], d_loss: 0.9831, g_loss: 1.3839\n",
      "Epoch [7/10], Step [2200/3750], d_loss: 0.9948, g_loss: 1.5698\n",
      "Epoch [7/10], Step [2400/3750], d_loss: 1.0098, g_loss: 2.2178\n",
      "Epoch [7/10], Step [2600/3750], d_loss: 1.1932, g_loss: 1.6056\n",
      "Epoch [7/10], Step [2800/3750], d_loss: 1.1456, g_loss: 2.0262\n",
      "Epoch [7/10], Step [3000/3750], d_loss: 0.5412, g_loss: 1.4299\n",
      "Epoch [7/10], Step [3200/3750], d_loss: 0.8258, g_loss: 1.7688\n",
      "Epoch [7/10], Step [3400/3750], d_loss: 0.6182, g_loss: 2.0673\n",
      "Epoch [7/10], Step [3600/3750], d_loss: 0.7846, g_loss: 1.6528\n",
      "Epoch [8/10], Step [200/3750], d_loss: 1.2957, g_loss: 1.7090\n",
      "Epoch [8/10], Step [400/3750], d_loss: 0.7220, g_loss: 2.5775\n",
      "Epoch [8/10], Step [600/3750], d_loss: 0.6638, g_loss: 2.4225\n",
      "Epoch [8/10], Step [800/3750], d_loss: 0.6991, g_loss: 1.8348\n",
      "Epoch [8/10], Step [1000/3750], d_loss: 0.7105, g_loss: 1.5939\n"
     ]
    },
    {
     "name": "stdout",
     "output_type": "stream",
     "text": [
      "Epoch [8/10], Step [1200/3750], d_loss: 0.6436, g_loss: 2.2534\n",
      "Epoch [8/10], Step [1400/3750], d_loss: 0.5107, g_loss: 2.0180\n",
      "Epoch [8/10], Step [1600/3750], d_loss: 0.7621, g_loss: 1.7225\n",
      "Epoch [8/10], Step [1800/3750], d_loss: 0.7749, g_loss: 1.6615\n",
      "Epoch [8/10], Step [2000/3750], d_loss: 1.0423, g_loss: 1.8043\n",
      "Epoch [8/10], Step [2200/3750], d_loss: 0.6842, g_loss: 1.0478\n",
      "Epoch [8/10], Step [2400/3750], d_loss: 1.0812, g_loss: 1.3365\n",
      "Epoch [8/10], Step [2600/3750], d_loss: 0.9413, g_loss: 1.3148\n",
      "Epoch [8/10], Step [2800/3750], d_loss: 0.5577, g_loss: 1.1019\n",
      "Epoch [8/10], Step [3000/3750], d_loss: 0.7319, g_loss: 1.2708\n",
      "Epoch [8/10], Step [3200/3750], d_loss: 0.8869, g_loss: 1.8199\n",
      "Epoch [8/10], Step [3400/3750], d_loss: 0.6231, g_loss: 1.7123\n",
      "Epoch [8/10], Step [3600/3750], d_loss: 1.0079, g_loss: 1.6760\n",
      "Epoch [9/10], Step [200/3750], d_loss: 0.6207, g_loss: 1.7740\n",
      "Epoch [9/10], Step [400/3750], d_loss: 0.9126, g_loss: 1.6512\n",
      "Epoch [9/10], Step [600/3750], d_loss: 0.6394, g_loss: 1.4309\n",
      "Epoch [9/10], Step [800/3750], d_loss: 0.8430, g_loss: 1.5951\n",
      "Epoch [9/10], Step [1000/3750], d_loss: 0.5902, g_loss: 1.8448\n",
      "Epoch [9/10], Step [1200/3750], d_loss: 1.1088, g_loss: 1.2873\n",
      "Epoch [9/10], Step [1400/3750], d_loss: 0.7491, g_loss: 2.1315\n",
      "Epoch [9/10], Step [1600/3750], d_loss: 0.7401, g_loss: 1.5625\n",
      "Epoch [9/10], Step [1800/3750], d_loss: 0.7241, g_loss: 1.5156\n",
      "Epoch [9/10], Step [2000/3750], d_loss: 0.8216, g_loss: 1.4904\n",
      "Epoch [9/10], Step [2200/3750], d_loss: 0.6441, g_loss: 2.5942\n",
      "Epoch [9/10], Step [2400/3750], d_loss: 0.8288, g_loss: 1.5015\n",
      "Epoch [9/10], Step [2600/3750], d_loss: 0.8076, g_loss: 2.0113\n",
      "Epoch [9/10], Step [2800/3750], d_loss: 0.2237, g_loss: 1.6834\n",
      "Epoch [9/10], Step [3000/3750], d_loss: 0.9628, g_loss: 1.8039\n",
      "Epoch [9/10], Step [3200/3750], d_loss: 0.6472, g_loss: 2.5330\n",
      "Epoch [9/10], Step [3400/3750], d_loss: 0.7301, g_loss: 1.1562\n",
      "Epoch [9/10], Step [3600/3750], d_loss: 0.9237, g_loss: 2.1971\n",
      "Epoch [10/10], Step [200/3750], d_loss: 0.8524, g_loss: 2.2526\n",
      "Epoch [10/10], Step [400/3750], d_loss: 0.7163, g_loss: 1.7686\n",
      "Epoch [10/10], Step [600/3750], d_loss: 0.5777, g_loss: 1.7987\n",
      "Epoch [10/10], Step [800/3750], d_loss: 1.0390, g_loss: 1.7579\n",
      "Epoch [10/10], Step [1000/3750], d_loss: 0.6388, g_loss: 2.1392\n",
      "Epoch [10/10], Step [1200/3750], d_loss: 0.7172, g_loss: 1.4802\n",
      "Epoch [10/10], Step [1400/3750], d_loss: 0.7245, g_loss: 1.9566\n",
      "Epoch [10/10], Step [1600/3750], d_loss: 0.9408, g_loss: 2.1117\n",
      "Epoch [10/10], Step [1800/3750], d_loss: 1.0362, g_loss: 1.2438\n",
      "Epoch [10/10], Step [2000/3750], d_loss: 0.9192, g_loss: 1.2687\n",
      "Epoch [10/10], Step [2200/3750], d_loss: 1.1666, g_loss: 1.5857\n",
      "Epoch [10/10], Step [2400/3750], d_loss: 0.9047, g_loss: 2.2021\n",
      "Epoch [10/10], Step [2600/3750], d_loss: 0.6302, g_loss: 1.3473\n",
      "Epoch [10/10], Step [2800/3750], d_loss: 1.2051, g_loss: 1.6876\n",
      "Epoch [10/10], Step [3000/3750], d_loss: 0.7982, g_loss: 1.6207\n",
      "Epoch [10/10], Step [3200/3750], d_loss: 0.3925, g_loss: 2.0216\n",
      "Epoch [10/10], Step [3400/3750], d_loss: 0.9030, g_loss: 1.4231\n",
      "Epoch [10/10], Step [3600/3750], d_loss: 1.1322, g_loss: 2.0110\n"
     ]
    }
   ],
   "source": [
    "train(GENERATOR, DISCRIMINATOR, dataloader, num_epochs=CONFIG.num_epochs, lr=CONFIG.learning_rate, device=DEVICE, writer=WRITER)"
   ]
  },
  {
   "cell_type": "code",
   "execution_count": 22,
   "metadata": {
    "execution": {
     "iopub.execute_input": "2023-12-28T07:38:17.691063Z",
     "iopub.status.busy": "2023-12-28T07:38:17.690638Z",
     "iopub.status.idle": "2023-12-28T07:38:18.444351Z",
     "shell.execute_reply": "2023-12-28T07:38:18.442998Z",
     "shell.execute_reply.started": "2023-12-28T07:38:17.691027Z"
    }
   },
   "outputs": [
    {
     "data": {
      "image/png": "[encoded data removed]",
      "text/plain": [
       "<Figure size 1000x1200 with 16 Axes>"
      ]
     },
     "metadata": {},
     "output_type": "display_data"
    }
   ],
   "source": [
    "IMG_QTY = 16\n",
    "IMG_SIZE = int(math.sqrt(IMG_QTY))\n",
    "\n",
    "noise = torch.randn(IMG_QTY, 100, device=DEVICE)  # Generate 10 random noise vectors\n",
    "generated_images = GENERATOR(noise)  # Generate images using the generator\n",
    "\n",
    "plt.figure(figsize=(10, 12))\n",
    "for i in range(IMG_QTY):\n",
    "    plt.subplot(IMG_SIZE, IMG_SIZE, i+1)\n",
    "    plt.imshow(generated_images[i].cpu().detach().numpy().reshape(28, 28), cmap=plt.cm.Greys_r)\n",
    "    plt.axis(\"off\")"
   ]
  },
  {
   "cell_type": "code",
   "execution_count": null,
   "metadata": {},
   "outputs": [],
   "source": [
    "WRITER.close()"
   ]
  },
  {
   "cell_type": "code",
   "execution_count": null,
   "metadata": {
    "scrolled": false
   },
   "outputs": [
    {
     "name": "stdout",
     "output_type": "stream",
     "text": [
      "2023-12-28 16:31:05.185269: W tensorflow/compiler/tf2tensorrt/utils/py_utils.cc:38] TF-TRT Warning: Could not find TensorRT\n",
      "2023-12-28 16:31:05.625952: W tensorflow/core/common_runtime/gpu/gpu_device.cc:1956] Cannot dlopen some GPU libraries. Please make sure the missing libraries mentioned above are installed properly if you would like to use GPU. Follow the guide at https://www.tensorflow.org/install/gpu for how to download and setup the required libraries for your platform.\n",
      "Skipping registering GPU devices...\n",
      "\n",
      "NOTE: Using experimental fast data loading logic. To disable, pass\n",
      "    \"--load_fast=false\" and report issues on GitHub. More details:\n",
      "    https://github.com/tensorflow/tensorboard/issues/4784\n",
      "\n",
      "TensorBoard 2.12.3 at http://proelium-exercitum:6006/ (Press CTRL+C to quit)\n"
     ]
    }
   ],
   "source": [
    "!tensorboard --logdir=runs --bind_all"
   ]
  },
  {
   "cell_type": "code",
   "execution_count": null,
   "metadata": {},
   "outputs": [],
   "source": []
  }
 ],
 "metadata": {
  "anaconda-cloud": {},
  "colab": {
   "provenance": []
  },
  "kaggle": {
   "accelerator": "none",
   "dataSources": [],
   "dockerImageVersionId": 30627,
   "isGpuEnabled": false,
   "isInternetEnabled": true,
   "language": "python",
   "sourceType": "notebook"
  },
  "kernelspec": {
   "display_name": "Python 3 (ipykernel)",
   "language": "python",
   "name": "python3"
  },
  "language_info": {
   "codemirror_mode": {
    "name": "ipython",
    "version": 3
   },
   "file_extension": ".py",
   "mimetype": "text/x-python",
   "name": "python",
   "nbconvert_exporter": "python",
   "pygments_lexer": "ipython3",
   "version": "3.9.2"
  }
 },
 "nbformat": 4,
 "nbformat_minor": 4
}
