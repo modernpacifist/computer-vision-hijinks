{
 "cells": [
  {
   "cell_type": "code",
   "execution_count": 1,
   "metadata": {
    "execution": {
     "iopub.execute_input": "2023-12-28T07:29:20.423790Z",
     "iopub.status.busy": "2023-12-28T07:29:20.423339Z",
     "iopub.status.idle": "2023-12-28T07:29:24.966763Z",
     "shell.execute_reply": "2023-12-28T07:29:24.965544Z",
     "shell.execute_reply.started": "2023-12-28T07:29:20.423726Z"
    },
    "id": "_PBZhPXoEVAI"
   },
   "outputs": [
    {
     "name": "stderr",
     "output_type": "stream",
     "text": [
      "2023-12-28 15:57:11.854952: I tensorflow/core/util/port.cc:110] oneDNN custom operations are on. You may see slightly different numerical results due to floating-point round-off errors from different computation orders. To turn them off, set the environment variable `TF_ENABLE_ONEDNN_OPTS=0`.\n",
      "2023-12-28 15:57:11.856539: I tensorflow/tsl/cuda/cudart_stub.cc:28] Could not find cuda drivers on your machine, GPU will not be used.\n",
      "2023-12-28 15:57:11.896120: I tensorflow/core/platform/cpu_feature_guard.cc:182] This TensorFlow binary is optimized to use available CPU instructions in performance-critical operations.\n",
      "To enable the following instructions: AVX2 AVX_VNNI FMA, in other operations, rebuild TensorFlow with the appropriate compiler flags.\n",
      "2023-12-28 15:57:12.545462: W tensorflow/compiler/tf2tensorrt/utils/py_utils.cc:38] TF-TRT Warning: Could not find TensorRT\n"
     ]
    }
   ],
   "source": [
    "import torch\n",
    "import torch.nn as nn\n",
    "import torch.nn.functional as F\n",
    "import torch.optim as optim\n",
    "from torch.utils.data import DataLoader, Dataset\n",
    "from torch.utils.tensorboard import SummaryWriter\n",
    "\n",
    "import torchvision\n",
    "import matplotlib.pyplot as plt\n",
    "import numpy as np\n",
    "import math"
   ]
  },
  {
   "cell_type": "code",
   "execution_count": 2,
   "metadata": {
    "execution": {
     "iopub.execute_input": "2023-12-28T07:29:24.970771Z",
     "iopub.status.busy": "2023-12-28T07:29:24.969539Z",
     "iopub.status.idle": "2023-12-28T07:29:24.978723Z",
     "shell.execute_reply": "2023-12-28T07:29:24.976898Z",
     "shell.execute_reply.started": "2023-12-28T07:29:24.970701Z"
    },
    "id": "6ZOVySNaEVAJ"
   },
   "outputs": [],
   "source": [
    "class Config:\n",
    "    pass\n",
    "\n",
    "CONFIG = Config()\n",
    "CONFIG.mnist_path = None\n",
    "CONFIG.batch_size = 16\n",
    "CONFIG.num_workers = 3\n",
    "CONFIG.num_epochs = 10\n",
    "CONFIG.noise_size = 50\n",
    "CONFIG.print_freq = 500\n",
    "CONFIG.learning_rate = 0.0002"
   ]
  },
  {
   "cell_type": "code",
   "execution_count": 3,
   "metadata": {
    "execution": {
     "iopub.execute_input": "2023-12-28T07:29:24.981333Z",
     "iopub.status.busy": "2023-12-28T07:29:24.980637Z",
     "iopub.status.idle": "2023-12-28T07:29:26.711155Z",
     "shell.execute_reply": "2023-12-28T07:29:26.710012Z",
     "shell.execute_reply.started": "2023-12-28T07:29:24.981294Z"
    },
    "id": "rJQdF3-xEVAJ"
   },
   "outputs": [],
   "source": [
    "dataset = torchvision.datasets.FashionMNIST(\"fashion_mnist\", train=True, transform=torchvision.transforms.ToTensor(), download=True)"
   ]
  },
  {
   "cell_type": "code",
   "execution_count": 4,
   "metadata": {
    "colab": {
     "base_uri": "https://localhost:8080/"
    },
    "execution": {
     "iopub.execute_input": "2023-12-28T07:29:29.881147Z",
     "iopub.status.busy": "2023-12-28T07:29:29.880605Z",
     "iopub.status.idle": "2023-12-28T07:29:29.890185Z",
     "shell.execute_reply": "2023-12-28T07:29:29.889077Z",
     "shell.execute_reply.started": "2023-12-28T07:29:29.881100Z"
    },
    "id": "DsFXiFsIEVAJ",
    "outputId": "824fd810-958b-4785-e522-dbb8d5f7d1dd"
   },
   "outputs": [
    {
     "data": {
      "text/plain": [
       "3750"
      ]
     },
     "execution_count": 4,
     "metadata": {},
     "output_type": "execute_result"
    }
   ],
   "source": [
    "dataloader = DataLoader(dataset, batch_size=CONFIG.batch_size, shuffle=True)\n",
    "len(dataloader)"
   ]
  },
  {
   "cell_type": "code",
   "execution_count": 5,
   "metadata": {
    "colab": {
     "base_uri": "https://localhost:8080/"
    },
    "execution": {
     "iopub.execute_input": "2023-12-28T07:29:30.375722Z",
     "iopub.status.busy": "2023-12-28T07:29:30.374181Z",
     "iopub.status.idle": "2023-12-28T07:29:30.452347Z",
     "shell.execute_reply": "2023-12-28T07:29:30.451035Z",
     "shell.execute_reply.started": "2023-12-28T07:29:30.375670Z"
    },
    "id": "GXozdEFQEVAJ",
    "outputId": "d1415d3a-f359-43c8-87b8-5f9036f272ac"
   },
   "outputs": [
    {
     "data": {
      "text/plain": [
       "torch.Size([16, 1, 28, 28])"
      ]
     },
     "execution_count": 5,
     "metadata": {},
     "output_type": "execute_result"
    }
   ],
   "source": [
    "image, label = next(iter(dataloader))\n",
    "image.size()"
   ]
  },
  {
   "cell_type": "code",
   "execution_count": 6,
   "metadata": {
    "execution": {
     "iopub.execute_input": "2023-12-28T07:29:33.773362Z",
     "iopub.status.busy": "2023-12-28T07:29:33.772913Z",
     "iopub.status.idle": "2023-12-28T07:29:33.784770Z",
     "shell.execute_reply": "2023-12-28T07:29:33.783211Z",
     "shell.execute_reply.started": "2023-12-28T07:29:33.773324Z"
    },
    "id": "diozgmg4EVAK"
   },
   "outputs": [],
   "source": [
    "class Generator(nn.Module):\n",
    "    def __init__(self):\n",
    "        super(Generator, self).__init__()\n",
    "        self.model = nn.Sequential(\n",
    "            nn.Linear(100, 256),\n",
    "            nn.LeakyReLU(0.2),\n",
    "            nn.Linear(256, 512),\n",
    "            nn.LeakyReLU(0.2),\n",
    "            nn.Linear(512, 784),\n",
    "            nn.Tanh()\n",
    "        )\n",
    "\n",
    "    def forward(self, x):\n",
    "        out = self.model(x)\n",
    "        out = out.view(x.size(0), 1, 28, 28)\n",
    "        return out\n",
    "\n",
    "\n",
    "class Discriminator(nn.Module):\n",
    "    def __init__(self):\n",
    "        super(Discriminator, self).__init__()\n",
    "        self.model = nn.Sequential(\n",
    "            nn.Linear(784, 512),\n",
    "            nn.LeakyReLU(0.2),\n",
    "            nn.Linear(512, 256),\n",
    "            nn.LeakyReLU(0.2),\n",
    "            nn.Linear(256, 1)\n",
    "        )\n",
    "\n",
    "    def forward(self, x):\n",
    "        x = x.view(x.size(0), -1)\n",
    "        out = self.model(x)\n",
    "        return out"
   ]
  },
  {
   "cell_type": "code",
   "execution_count": 7,
   "metadata": {
    "execution": {
     "iopub.execute_input": "2023-12-28T07:29:33.935395Z",
     "iopub.status.busy": "2023-12-28T07:29:33.934238Z",
     "iopub.status.idle": "2023-12-28T07:29:33.955619Z",
     "shell.execute_reply": "2023-12-28T07:29:33.954395Z",
     "shell.execute_reply.started": "2023-12-28T07:29:33.935342Z"
    },
    "id": "ZJUbCECuEVAK"
   },
   "outputs": [],
   "source": [
    "GENERATOR = Generator()\n",
    "DISCRIMINATOR = Discriminator()"
   ]
  },
  {
   "cell_type": "code",
   "execution_count": 8,
   "metadata": {
    "colab": {
     "base_uri": "https://localhost:8080/"
    },
    "execution": {
     "iopub.execute_input": "2023-12-28T07:29:34.191364Z",
     "iopub.status.busy": "2023-12-28T07:29:34.190985Z",
     "iopub.status.idle": "2023-12-28T07:29:34.199977Z",
     "shell.execute_reply": "2023-12-28T07:29:34.198596Z",
     "shell.execute_reply.started": "2023-12-28T07:29:34.191334Z"
    },
    "id": "mPbOGNgpg2b1",
    "outputId": "07aeb7fb-afc2-4587-adf5-d6cae3fc5153"
   },
   "outputs": [
    {
     "data": {
      "text/plain": [
       "Generator(\n",
       "  (model): Sequential(\n",
       "    (0): Linear(in_features=100, out_features=256, bias=True)\n",
       "    (1): LeakyReLU(negative_slope=0.2)\n",
       "    (2): Linear(in_features=256, out_features=512, bias=True)\n",
       "    (3): LeakyReLU(negative_slope=0.2)\n",
       "    (4): Linear(in_features=512, out_features=784, bias=True)\n",
       "    (5): Tanh()\n",
       "  )\n",
       ")"
      ]
     },
     "execution_count": 8,
     "metadata": {},
     "output_type": "execute_result"
    }
   ],
   "source": [
    "GENERATOR"
   ]
  },
  {
   "cell_type": "code",
   "execution_count": 9,
   "metadata": {
    "colab": {
     "base_uri": "https://localhost:8080/"
    },
    "execution": {
     "iopub.execute_input": "2023-12-28T07:29:34.451425Z",
     "iopub.status.busy": "2023-12-28T07:29:34.451045Z",
     "iopub.status.idle": "2023-12-28T07:29:34.459099Z",
     "shell.execute_reply": "2023-12-28T07:29:34.457933Z",
     "shell.execute_reply.started": "2023-12-28T07:29:34.451393Z"
    },
    "id": "OPL3JAY6g2b1",
    "outputId": "41e54015-31e0-4aa9-f22c-0d0459203d30"
   },
   "outputs": [
    {
     "data": {
      "text/plain": [
       "Discriminator(\n",
       "  (model): Sequential(\n",
       "    (0): Linear(in_features=784, out_features=512, bias=True)\n",
       "    (1): LeakyReLU(negative_slope=0.2)\n",
       "    (2): Linear(in_features=512, out_features=256, bias=True)\n",
       "    (3): LeakyReLU(negative_slope=0.2)\n",
       "    (4): Linear(in_features=256, out_features=1, bias=True)\n",
       "  )\n",
       ")"
      ]
     },
     "execution_count": 9,
     "metadata": {},
     "output_type": "execute_result"
    }
   ],
   "source": [
    "DISCRIMINATOR"
   ]
  },
  {
   "cell_type": "code",
   "execution_count": 10,
   "metadata": {
    "execution": {
     "iopub.execute_input": "2023-12-28T07:29:37.641610Z",
     "iopub.status.busy": "2023-12-28T07:29:37.641221Z",
     "iopub.status.idle": "2023-12-28T07:29:37.650361Z",
     "shell.execute_reply": "2023-12-28T07:29:37.648912Z",
     "shell.execute_reply.started": "2023-12-28T07:29:37.641576Z"
    }
   },
   "outputs": [],
   "source": [
    "def compute_gp(netD, real_data, fake_data):\n",
    "        batch_size = real_data.size(0)\n",
    "        # Sample Epsilon from uniform distribution\n",
    "        eps = torch.rand(batch_size, 1, 1, 1).to(real_data.device)\n",
    "        eps = eps.expand_as(real_data)\n",
    "        \n",
    "        # Interpolation between real data and fake data.\n",
    "        interpolation = eps * real_data + (1 - eps) * fake_data\n",
    "        \n",
    "        # get logits for interpolated images\n",
    "        interp_logits = netD(interpolation)\n",
    "        grad_outputs = torch.ones_like(interp_logits)\n",
    "        \n",
    "        # Compute Gradients\n",
    "        gradients = autograd.grad(\n",
    "            outputs=interp_logits,\n",
    "            inputs=interpolation,\n",
    "            grad_outputs=grad_outputs,\n",
    "            create_graph=True,\n",
    "            retain_graph=True,\n",
    "        )[0]\n",
    "        \n",
    "        # Compute and return Gradient Norm\n",
    "        gradients = gradients.view(batch_size, -1)\n",
    "        grad_norm = gradients.norm(2, 1)\n",
    "        return torch.mean((grad_norm - 1) ** 2)"
   ]
  },
  {
   "cell_type": "code",
   "execution_count": 11,
   "metadata": {
    "execution": {
     "iopub.execute_input": "2023-12-28T07:29:37.956438Z",
     "iopub.status.busy": "2023-12-28T07:29:37.956043Z",
     "iopub.status.idle": "2023-12-28T07:29:37.963205Z",
     "shell.execute_reply": "2023-12-28T07:29:37.961680Z",
     "shell.execute_reply.started": "2023-12-28T07:29:37.956405Z"
    },
    "id": "VltlxWoyEVAL"
   },
   "outputs": [
    {
     "name": "stdout",
     "output_type": "stream",
     "text": [
      "cuda\n"
     ]
    }
   ],
   "source": [
    "DEVICE = 'cuda' if torch.cuda.is_available() else 'cpu'\n",
    "print(DEVICE)"
   ]
  },
  {
   "cell_type": "code",
   "execution_count": 19,
   "metadata": {},
   "outputs": [],
   "source": [
    "writer = SummaryWriter()"
   ]
  },
  {
   "cell_type": "code",
   "execution_count": 20,
   "metadata": {
    "execution": {
     "iopub.execute_input": "2023-12-28T07:29:46.852871Z",
     "iopub.status.busy": "2023-12-28T07:29:46.852434Z",
     "iopub.status.idle": "2023-12-28T07:29:46.867112Z",
     "shell.execute_reply": "2023-12-28T07:29:46.866144Z",
     "shell.execute_reply.started": "2023-12-28T07:29:46.852835Z"
    },
    "id": "YdTU6oAecOx0"
   },
   "outputs": [],
   "source": [
    "def train(generator, discriminator, dataloader, num_epochs, lr, device):\n",
    "    discriminator.to(device)\n",
    "    generator.to(device)\n",
    "\n",
    "    criterion = nn.BCEWithLogitsLoss()\n",
    "\n",
    "    d_optimizer = optim.Adam(discriminator.parameters(), lr=lr)\n",
    "    g_optimizer = optim.Adam(generator.parameters(), lr=lr)\n",
    "\n",
    "    for epoch in range(num_epochs):\n",
    "        for i, (real_images, _) in enumerate(dataloader):\n",
    "            real_images = real_images.to(device)\n",
    "            batch_size = real_images.size(0)\n",
    "            real_labels = torch.ones(batch_size, 1).to(device)\n",
    "            fake_labels = torch.zeros(batch_size, 1).to(device)\n",
    "\n",
    "            # Train the discriminator\n",
    "            discriminator.zero_grad()\n",
    "            real_outputs = discriminator(real_images)\n",
    "            d_loss_real = criterion(real_outputs, real_labels)\n",
    "\n",
    "            z = torch.randn(batch_size, 100).to(device)\n",
    "            fake_images = generator(z)\n",
    "            fake_outputs = discriminator(fake_images.detach())\n",
    "            d_loss_fake = criterion(fake_outputs, fake_labels)\n",
    "\n",
    "            d_loss = d_loss_real + d_loss_fake\n",
    "            d_loss.backward()\n",
    "            d_optimizer.step()\n",
    "\n",
    "            # Train the generator\n",
    "            generator.zero_grad()\n",
    "            z = torch.randn(batch_size, 100).to(device)\n",
    "            fake_images = generator(z)\n",
    "            fake_outputs = discriminator(fake_images)\n",
    "            g_loss = criterion(fake_outputs, real_labels)\n",
    "\n",
    "            g_loss.backward()\n",
    "            g_optimizer.step()\n",
    "\n",
    "            if (i+1) % 200 == 0:\n",
    "                print(f\"Epoch [{epoch+1}/{num_epochs}], Step [{i+1}/{len(dataloader)}], d_loss: {d_loss.item():.4f}, g_loss: {g_loss.item():.4f}\")\n",
    "                writer.add_scalar('Generator loss', g_loss.item(), i+1)\n",
    "                writer.add_scalar('Discriminator loss', d_loss.item(), i+1)\n",
    "    \n",
    "    writer.close()"
   ]
  },
  {
   "cell_type": "code",
   "execution_count": 21,
   "metadata": {
    "colab": {
     "base_uri": "https://localhost:8080/"
    },
    "execution": {
     "iopub.execute_input": "2023-12-28T07:29:49.183930Z",
     "iopub.status.busy": "2023-12-28T07:29:49.183447Z",
     "iopub.status.idle": "2023-12-28T07:29:49.196609Z",
     "shell.execute_reply": "2023-12-28T07:29:49.195308Z",
     "shell.execute_reply.started": "2023-12-28T07:29:49.183892Z"
    },
    "id": "DMZwEdBmcX-V",
    "outputId": "bea1e961-af39-4922-823e-2829a07be883"
   },
   "outputs": [
    {
     "data": {
      "text/plain": [
       "<torch._C.Generator at 0x7fdda8145590>"
      ]
     },
     "execution_count": 21,
     "metadata": {},
     "output_type": "execute_result"
    }
   ],
   "source": [
    "torch.manual_seed(42)"
   ]
  },
  {
   "cell_type": "code",
   "execution_count": 14,
   "metadata": {
    "colab": {
     "base_uri": "https://localhost:8080/"
    },
    "execution": {
     "iopub.execute_input": "2023-12-28T07:29:51.480483Z",
     "iopub.status.busy": "2023-12-28T07:29:51.480050Z",
     "iopub.status.idle": "2023-12-28T07:38:17.688169Z",
     "shell.execute_reply": "2023-12-28T07:38:17.686918Z",
     "shell.execute_reply.started": "2023-12-28T07:29:51.480447Z"
    },
    "id": "Kr5y6kpgdBvk",
    "outputId": "d5c483ee-1796-4323-c164-c0c6ec7afb8e"
   },
   "outputs": [
    {
     "name": "stdout",
     "output_type": "stream",
     "text": [
      "Epoch [1/10], Step [200/3750], d_loss: 0.1758, g_loss: 4.1614\n",
      "Epoch [1/10], Step [400/3750], d_loss: 1.1617, g_loss: 1.7926\n",
      "Epoch [1/10], Step [600/3750], d_loss: 0.6788, g_loss: 1.9925\n",
      "Epoch [1/10], Step [800/3750], d_loss: 1.2295, g_loss: 1.7260\n",
      "Epoch [1/10], Step [1000/3750], d_loss: 0.8292, g_loss: 1.2758\n",
      "Epoch [1/10], Step [1200/3750], d_loss: 1.6681, g_loss: 0.7739\n",
      "Epoch [1/10], Step [1400/3750], d_loss: 0.6331, g_loss: 1.4168\n",
      "Epoch [1/10], Step [1600/3750], d_loss: 1.0844, g_loss: 1.0354\n",
      "Epoch [1/10], Step [1800/3750], d_loss: 2.2771, g_loss: 1.1580\n",
      "Epoch [1/10], Step [2000/3750], d_loss: 0.6790, g_loss: 1.7915\n",
      "Epoch [1/10], Step [2200/3750], d_loss: 1.4702, g_loss: 1.0522\n",
      "Epoch [1/10], Step [2400/3750], d_loss: 1.2094, g_loss: 1.9412\n",
      "Epoch [1/10], Step [2600/3750], d_loss: 0.5739, g_loss: 2.1336\n",
      "Epoch [1/10], Step [2800/3750], d_loss: 0.6685, g_loss: 2.4751\n",
      "Epoch [1/10], Step [3000/3750], d_loss: 1.3560, g_loss: 2.7842\n",
      "Epoch [1/10], Step [3200/3750], d_loss: 0.7151, g_loss: 2.2992\n",
      "Epoch [1/10], Step [3400/3750], d_loss: 0.3034, g_loss: 2.3698\n",
      "Epoch [1/10], Step [3600/3750], d_loss: 0.9002, g_loss: 1.6361\n",
      "Epoch [2/10], Step [200/3750], d_loss: 0.4203, g_loss: 2.3815\n",
      "Epoch [2/10], Step [400/3750], d_loss: 0.4672, g_loss: 1.6980\n",
      "Epoch [2/10], Step [600/3750], d_loss: 0.8784, g_loss: 3.5654\n",
      "Epoch [2/10], Step [800/3750], d_loss: 0.8379, g_loss: 1.3328\n",
      "Epoch [2/10], Step [1000/3750], d_loss: 0.5194, g_loss: 1.8075\n",
      "Epoch [2/10], Step [1200/3750], d_loss: 0.9912, g_loss: 3.1889\n",
      "Epoch [2/10], Step [1400/3750], d_loss: 0.4701, g_loss: 2.6067\n",
      "Epoch [2/10], Step [1600/3750], d_loss: 0.8160, g_loss: 1.8487\n",
      "Epoch [2/10], Step [1800/3750], d_loss: 0.8733, g_loss: 1.5759\n",
      "Epoch [2/10], Step [2000/3750], d_loss: 0.8516, g_loss: 1.7399\n",
      "Epoch [2/10], Step [2200/3750], d_loss: 0.6548, g_loss: 1.5868\n",
      "Epoch [2/10], Step [2400/3750], d_loss: 1.0444, g_loss: 1.9325\n",
      "Epoch [2/10], Step [2600/3750], d_loss: 0.4053, g_loss: 1.7512\n",
      "Epoch [2/10], Step [2800/3750], d_loss: 0.9593, g_loss: 1.7982\n",
      "Epoch [2/10], Step [3000/3750], d_loss: 0.4553, g_loss: 3.1263\n",
      "Epoch [2/10], Step [3200/3750], d_loss: 1.3604, g_loss: 1.8872\n",
      "Epoch [2/10], Step [3400/3750], d_loss: 0.5868, g_loss: 2.5041\n",
      "Epoch [2/10], Step [3600/3750], d_loss: 0.8784, g_loss: 1.8252\n",
      "Epoch [3/10], Step [200/3750], d_loss: 0.7073, g_loss: 2.2667\n",
      "Epoch [3/10], Step [400/3750], d_loss: 0.8529, g_loss: 1.3336\n",
      "Epoch [3/10], Step [600/3750], d_loss: 1.2168, g_loss: 1.4757\n",
      "Epoch [3/10], Step [800/3750], d_loss: 0.7223, g_loss: 1.5026\n",
      "Epoch [3/10], Step [1000/3750], d_loss: 0.5126, g_loss: 1.3567\n",
      "Epoch [3/10], Step [1200/3750], d_loss: 1.1156, g_loss: 1.4958\n",
      "Epoch [3/10], Step [1400/3750], d_loss: 0.6948, g_loss: 1.8926\n",
      "Epoch [3/10], Step [1600/3750], d_loss: 0.9848, g_loss: 1.2688\n",
      "Epoch [3/10], Step [1800/3750], d_loss: 1.2707, g_loss: 2.0282\n",
      "Epoch [3/10], Step [2000/3750], d_loss: 1.0064, g_loss: 1.8145\n",
      "Epoch [3/10], Step [2200/3750], d_loss: 0.5590, g_loss: 1.2322\n",
      "Epoch [3/10], Step [2400/3750], d_loss: 0.5844, g_loss: 1.6039\n",
      "Epoch [3/10], Step [2600/3750], d_loss: 0.5915, g_loss: 1.8937\n",
      "Epoch [3/10], Step [2800/3750], d_loss: 0.6463, g_loss: 1.9996\n",
      "Epoch [3/10], Step [3000/3750], d_loss: 1.0459, g_loss: 0.8615\n",
      "Epoch [3/10], Step [3200/3750], d_loss: 1.0102, g_loss: 1.0999\n",
      "Epoch [3/10], Step [3400/3750], d_loss: 0.4897, g_loss: 1.8683\n",
      "Epoch [3/10], Step [3600/3750], d_loss: 1.0354, g_loss: 1.4334\n",
      "Epoch [4/10], Step [200/3750], d_loss: 1.1582, g_loss: 2.2040\n",
      "Epoch [4/10], Step [400/3750], d_loss: 0.6193, g_loss: 1.5485\n",
      "Epoch [4/10], Step [600/3750], d_loss: 0.7697, g_loss: 1.5881\n",
      "Epoch [4/10], Step [800/3750], d_loss: 1.1134, g_loss: 1.3818\n",
      "Epoch [4/10], Step [1000/3750], d_loss: 0.5853, g_loss: 1.4804\n",
      "Epoch [4/10], Step [1200/3750], d_loss: 0.8967, g_loss: 1.5685\n",
      "Epoch [4/10], Step [1400/3750], d_loss: 0.5902, g_loss: 1.8696\n",
      "Epoch [4/10], Step [1600/3750], d_loss: 0.8480, g_loss: 1.2103\n",
      "Epoch [4/10], Step [1800/3750], d_loss: 1.0873, g_loss: 1.8307\n",
      "Epoch [4/10], Step [2000/3750], d_loss: 0.6148, g_loss: 1.8832\n",
      "Epoch [4/10], Step [2200/3750], d_loss: 0.7772, g_loss: 1.9137\n",
      "Epoch [4/10], Step [2400/3750], d_loss: 0.6791, g_loss: 1.7163\n",
      "Epoch [4/10], Step [2600/3750], d_loss: 0.8012, g_loss: 1.8035\n",
      "Epoch [4/10], Step [2800/3750], d_loss: 1.2234, g_loss: 1.8228\n",
      "Epoch [4/10], Step [3000/3750], d_loss: 0.9400, g_loss: 1.3391\n",
      "Epoch [4/10], Step [3200/3750], d_loss: 1.0413, g_loss: 1.3147\n",
      "Epoch [4/10], Step [3400/3750], d_loss: 1.0997, g_loss: 1.1773\n",
      "Epoch [4/10], Step [3600/3750], d_loss: 0.6362, g_loss: 1.5706\n",
      "Epoch [5/10], Step [200/3750], d_loss: 1.2324, g_loss: 1.5230\n",
      "Epoch [5/10], Step [400/3750], d_loss: 0.9111, g_loss: 1.4655\n",
      "Epoch [5/10], Step [600/3750], d_loss: 1.2273, g_loss: 1.0159\n",
      "Epoch [5/10], Step [800/3750], d_loss: 0.9824, g_loss: 1.2708\n",
      "Epoch [5/10], Step [1000/3750], d_loss: 0.9671, g_loss: 1.2778\n",
      "Epoch [5/10], Step [1200/3750], d_loss: 0.6732, g_loss: 1.0940\n",
      "Epoch [5/10], Step [1400/3750], d_loss: 0.8617, g_loss: 1.6142\n",
      "Epoch [5/10], Step [1600/3750], d_loss: 0.9454, g_loss: 1.8140\n",
      "Epoch [5/10], Step [1800/3750], d_loss: 0.6579, g_loss: 1.4409\n",
      "Epoch [5/10], Step [2000/3750], d_loss: 0.9736, g_loss: 1.9498\n",
      "Epoch [5/10], Step [2200/3750], d_loss: 0.8627, g_loss: 1.2471\n",
      "Epoch [5/10], Step [2400/3750], d_loss: 0.7430, g_loss: 2.0012\n",
      "Epoch [5/10], Step [2600/3750], d_loss: 0.6828, g_loss: 1.9000\n",
      "Epoch [5/10], Step [2800/3750], d_loss: 0.4428, g_loss: 2.6623\n",
      "Epoch [5/10], Step [3000/3750], d_loss: 0.8730, g_loss: 1.4072\n",
      "Epoch [5/10], Step [3200/3750], d_loss: 0.4325, g_loss: 1.4202\n",
      "Epoch [5/10], Step [3400/3750], d_loss: 0.8485, g_loss: 1.0227\n",
      "Epoch [5/10], Step [3600/3750], d_loss: 1.0019, g_loss: 1.2990\n",
      "Epoch [6/10], Step [200/3750], d_loss: 1.0477, g_loss: 1.4536\n",
      "Epoch [6/10], Step [400/3750], d_loss: 1.0387, g_loss: 1.4205\n",
      "Epoch [6/10], Step [600/3750], d_loss: 1.1491, g_loss: 1.6352\n",
      "Epoch [6/10], Step [800/3750], d_loss: 1.2303, g_loss: 1.2266\n",
      "Epoch [6/10], Step [1000/3750], d_loss: 0.9381, g_loss: 2.0726\n",
      "Epoch [6/10], Step [1200/3750], d_loss: 0.8110, g_loss: 1.1409\n",
      "Epoch [6/10], Step [1400/3750], d_loss: 0.8891, g_loss: 1.5625\n",
      "Epoch [6/10], Step [1600/3750], d_loss: 0.7533, g_loss: 1.5836\n",
      "Epoch [6/10], Step [1800/3750], d_loss: 1.0062, g_loss: 1.7851\n",
      "Epoch [6/10], Step [2000/3750], d_loss: 0.7865, g_loss: 1.5300\n",
      "Epoch [6/10], Step [2200/3750], d_loss: 0.8830, g_loss: 1.9653\n",
      "Epoch [6/10], Step [2400/3750], d_loss: 1.2781, g_loss: 1.7507\n",
      "Epoch [6/10], Step [2600/3750], d_loss: 0.8995, g_loss: 1.3816\n",
      "Epoch [6/10], Step [2800/3750], d_loss: 1.0347, g_loss: 1.0108\n",
      "Epoch [6/10], Step [3000/3750], d_loss: 0.9771, g_loss: 1.5336\n",
      "Epoch [6/10], Step [3200/3750], d_loss: 0.5902, g_loss: 1.4987\n",
      "Epoch [6/10], Step [3400/3750], d_loss: 0.8520, g_loss: 1.2947\n",
      "Epoch [6/10], Step [3600/3750], d_loss: 0.9428, g_loss: 1.7995\n",
      "Epoch [7/10], Step [200/3750], d_loss: 0.8227, g_loss: 1.3738\n",
      "Epoch [7/10], Step [400/3750], d_loss: 0.8053, g_loss: 1.4237\n",
      "Epoch [7/10], Step [600/3750], d_loss: 0.8544, g_loss: 1.7308\n",
      "Epoch [7/10], Step [800/3750], d_loss: 1.3973, g_loss: 1.6818\n",
      "Epoch [7/10], Step [1000/3750], d_loss: 0.9175, g_loss: 1.9083\n",
      "Epoch [7/10], Step [1200/3750], d_loss: 0.5443, g_loss: 1.7502\n",
      "Epoch [7/10], Step [1400/3750], d_loss: 0.8457, g_loss: 1.3218\n",
      "Epoch [7/10], Step [1600/3750], d_loss: 0.7886, g_loss: 1.7510\n",
      "Epoch [7/10], Step [1800/3750], d_loss: 1.1199, g_loss: 1.1530\n",
      "Epoch [7/10], Step [2000/3750], d_loss: 1.0458, g_loss: 1.8777\n",
      "Epoch [7/10], Step [2200/3750], d_loss: 1.0944, g_loss: 1.2572\n",
      "Epoch [7/10], Step [2400/3750], d_loss: 0.7577, g_loss: 1.3849\n",
      "Epoch [7/10], Step [2600/3750], d_loss: 0.8460, g_loss: 1.9761\n",
      "Epoch [7/10], Step [2800/3750], d_loss: 0.8671, g_loss: 1.8484\n",
      "Epoch [7/10], Step [3000/3750], d_loss: 0.9540, g_loss: 1.6912\n",
      "Epoch [7/10], Step [3200/3750], d_loss: 0.7869, g_loss: 1.0654\n",
      "Epoch [7/10], Step [3400/3750], d_loss: 1.1744, g_loss: 1.2983\n",
      "Epoch [7/10], Step [3600/3750], d_loss: 0.6960, g_loss: 1.4995\n",
      "Epoch [8/10], Step [200/3750], d_loss: 1.0096, g_loss: 1.6662\n",
      "Epoch [8/10], Step [400/3750], d_loss: 0.6547, g_loss: 1.3154\n",
      "Epoch [8/10], Step [600/3750], d_loss: 0.9328, g_loss: 1.1974\n",
      "Epoch [8/10], Step [800/3750], d_loss: 0.8573, g_loss: 1.2361\n",
      "Epoch [8/10], Step [1000/3750], d_loss: 1.1314, g_loss: 1.7341\n"
     ]
    },
    {
     "name": "stdout",
     "output_type": "stream",
     "text": [
      "Epoch [8/10], Step [1200/3750], d_loss: 1.1633, g_loss: 1.3293\n",
      "Epoch [8/10], Step [1400/3750], d_loss: 1.0118, g_loss: 1.5212\n",
      "Epoch [8/10], Step [1600/3750], d_loss: 0.6342, g_loss: 1.9560\n",
      "Epoch [8/10], Step [1800/3750], d_loss: 1.0689, g_loss: 1.0717\n",
      "Epoch [8/10], Step [2000/3750], d_loss: 0.8098, g_loss: 1.3508\n",
      "Epoch [8/10], Step [2200/3750], d_loss: 0.7442, g_loss: 1.0589\n",
      "Epoch [8/10], Step [2400/3750], d_loss: 0.9838, g_loss: 1.3112\n",
      "Epoch [8/10], Step [2600/3750], d_loss: 0.8247, g_loss: 1.9104\n",
      "Epoch [8/10], Step [2800/3750], d_loss: 0.9830, g_loss: 1.2943\n",
      "Epoch [8/10], Step [3000/3750], d_loss: 0.5165, g_loss: 1.5092\n",
      "Epoch [8/10], Step [3200/3750], d_loss: 1.1901, g_loss: 1.5311\n",
      "Epoch [8/10], Step [3400/3750], d_loss: 0.7163, g_loss: 1.1359\n",
      "Epoch [8/10], Step [3600/3750], d_loss: 1.0915, g_loss: 1.3419\n",
      "Epoch [9/10], Step [200/3750], d_loss: 0.8094, g_loss: 1.8158\n",
      "Epoch [9/10], Step [400/3750], d_loss: 0.7460, g_loss: 1.6211\n",
      "Epoch [9/10], Step [600/3750], d_loss: 0.7062, g_loss: 1.4600\n",
      "Epoch [9/10], Step [800/3750], d_loss: 0.9969, g_loss: 1.4573\n",
      "Epoch [9/10], Step [1000/3750], d_loss: 0.8898, g_loss: 1.7651\n",
      "Epoch [9/10], Step [1200/3750], d_loss: 0.6714, g_loss: 1.4671\n",
      "Epoch [9/10], Step [1400/3750], d_loss: 0.7808, g_loss: 1.4271\n",
      "Epoch [9/10], Step [1600/3750], d_loss: 0.6524, g_loss: 1.6852\n",
      "Epoch [9/10], Step [1800/3750], d_loss: 0.9995, g_loss: 1.6076\n",
      "Epoch [9/10], Step [2000/3750], d_loss: 1.0813, g_loss: 1.0744\n",
      "Epoch [9/10], Step [2200/3750], d_loss: 0.9901, g_loss: 2.0541\n",
      "Epoch [9/10], Step [2400/3750], d_loss: 1.0646, g_loss: 1.4543\n",
      "Epoch [9/10], Step [2600/3750], d_loss: 0.6675, g_loss: 1.6204\n",
      "Epoch [9/10], Step [2800/3750], d_loss: 0.6706, g_loss: 1.3232\n",
      "Epoch [9/10], Step [3000/3750], d_loss: 0.8625, g_loss: 1.5205\n",
      "Epoch [9/10], Step [3200/3750], d_loss: 1.0350, g_loss: 1.1592\n",
      "Epoch [9/10], Step [3400/3750], d_loss: 0.6876, g_loss: 1.3360\n",
      "Epoch [9/10], Step [3600/3750], d_loss: 0.7476, g_loss: 2.2132\n",
      "Epoch [10/10], Step [200/3750], d_loss: 0.9460, g_loss: 1.3601\n",
      "Epoch [10/10], Step [400/3750], d_loss: 0.8297, g_loss: 1.3756\n",
      "Epoch [10/10], Step [600/3750], d_loss: 0.8351, g_loss: 1.2630\n",
      "Epoch [10/10], Step [800/3750], d_loss: 0.6337, g_loss: 1.6493\n",
      "Epoch [10/10], Step [1000/3750], d_loss: 0.8143, g_loss: 1.5858\n",
      "Epoch [10/10], Step [1200/3750], d_loss: 0.6956, g_loss: 1.3813\n",
      "Epoch [10/10], Step [1400/3750], d_loss: 0.7907, g_loss: 2.0301\n",
      "Epoch [10/10], Step [1600/3750], d_loss: 0.7925, g_loss: 1.5687\n",
      "Epoch [10/10], Step [1800/3750], d_loss: 0.6600, g_loss: 1.4172\n",
      "Epoch [10/10], Step [2000/3750], d_loss: 0.8672, g_loss: 2.0338\n",
      "Epoch [10/10], Step [2200/3750], d_loss: 0.5702, g_loss: 1.7217\n",
      "Epoch [10/10], Step [2400/3750], d_loss: 0.6722, g_loss: 1.6907\n",
      "Epoch [10/10], Step [2600/3750], d_loss: 0.8254, g_loss: 0.9648\n",
      "Epoch [10/10], Step [2800/3750], d_loss: 0.8414, g_loss: 1.5515\n",
      "Epoch [10/10], Step [3000/3750], d_loss: 0.7941, g_loss: 1.5851\n",
      "Epoch [10/10], Step [3200/3750], d_loss: 0.9474, g_loss: 1.4348\n",
      "Epoch [10/10], Step [3400/3750], d_loss: 0.7244, g_loss: 1.5944\n",
      "Epoch [10/10], Step [3600/3750], d_loss: 0.7932, g_loss: 2.0489\n"
     ]
    }
   ],
   "source": [
    "train(GENERATOR, DISCRIMINATOR, dataloader, num_epochs=CONFIG.num_epochs, lr=CONFIG.learning_rate, device=DEVICE)"
   ]
  },
  {
   "cell_type": "code",
   "execution_count": 15,
   "metadata": {
    "execution": {
     "iopub.execute_input": "2023-12-28T07:38:17.691063Z",
     "iopub.status.busy": "2023-12-28T07:38:17.690638Z",
     "iopub.status.idle": "2023-12-28T07:38:18.444351Z",
     "shell.execute_reply": "2023-12-28T07:38:18.442998Z",
     "shell.execute_reply.started": "2023-12-28T07:38:17.691027Z"
    }
   },
   "outputs": [
    {
     "data": {
      "image/png": "[encoded data removed]",
      "text/plain": [
       "<Figure size 1000x1200 with 16 Axes>"
      ]
     },
     "metadata": {},
     "output_type": "display_data"
    }
   ],
   "source": [
    "IMG_QTY = 16\n",
    "IMG_SIZE = int(math.sqrt(IMG_QTY))\n",
    "\n",
    "noise = torch.randn(IMG_QTY, 100, device=DEVICE)  # Generate 10 random noise vectors\n",
    "generated_images = GENERATOR(noise)  # Generate images using the generator\n",
    "\n",
    "plt.figure(figsize=(10, 12))\n",
    "for i in range(IMG_QTY):\n",
    "    plt.subplot(IMG_SIZE, IMG_SIZE, i+1)\n",
    "    plt.imshow(generated_images[i].cpu().detach().numpy().reshape(28, 28), cmap=plt.cm.Greys_r)\n",
    "    plt.axis(\"off\")"
   ]
  },
  {
   "cell_type": "code",
   "execution_count": null,
   "metadata": {},
   "outputs": [],
   "source": []
  }
 ],
 "metadata": {
  "anaconda-cloud": {},
  "colab": {
   "provenance": []
  },
  "kaggle": {
   "accelerator": "none",
   "dataSources": [],
   "dockerImageVersionId": 30627,
   "isGpuEnabled": false,
   "isInternetEnabled": true,
   "language": "python",
   "sourceType": "notebook"
  },
  "kernelspec": {
   "display_name": "Python 3 (ipykernel)",
   "language": "python",
   "name": "python3"
  },
  "language_info": {
   "codemirror_mode": {
    "name": "ipython",
    "version": 3
   },
   "file_extension": ".py",
   "mimetype": "text/x-python",
   "name": "python",
   "nbconvert_exporter": "python",
   "pygments_lexer": "ipython3",
   "version": "3.9.2"
  }
 },
 "nbformat": 4,
 "nbformat_minor": 4
}
