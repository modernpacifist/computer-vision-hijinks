{
  "metadata": {
    "anaconda-cloud": {},
    "kernelspec": {
      "name": "python3",
      "display_name": "Python 3",
      "language": "python"
    },
    "language_info": {
      "name": "python",
      "version": "3.10.12",
      "mimetype": "text/x-python",
      "codemirror_mode": {
        "name": "ipython",
        "version": 3
      },
      "pygments_lexer": "ipython3",
      "nbconvert_exporter": "python",
      "file_extension": ".py"
    },
    "colab": {
      "provenance": []
    },
    "kaggle": {
      "accelerator": "none",
      "dataSources": [],
      "dockerImageVersionId": 30627,
      "isInternetEnabled": true,
      "language": "python",
      "sourceType": "notebook",
      "isGpuEnabled": false
    }
  },
  "nbformat_minor": 0,
  "nbformat": 4,
  "cells": [
    {
      "cell_type": "markdown",
      "source": [
        "### WGAN\n",
        "\n",
        "* Модифицируйте код ячеек ниже и реализуйте [Wasserstein GAN](https://arxiv.org/abs/1701.07875) с клиппингом весов. (10 баллов)\n",
        "\n",
        "* Замените клиппинг весов на [штраф градентов](https://arxiv.org/pdf/1704.00028v3.pdf). (10 баллов)\n",
        "\n",
        "* Добавьте лейблы в WGAN, тем самым решая задачу [условной генерации](https://arxiv.org/pdf/1411.1784.pdf). (30 баллов)\n",
        "\n",
        "Добавьте в этот файл анализ полученных результатов с различными графиками обучения и визуализацию генерации. Сравните как работает клиппинг весов и штраф градиентов и попробуйте пронаблюдать какие недостатки имеет модель GAN."
      ],
      "metadata": {
        "id": "tJSkS1KoEVAH"
      }
    },
    {
      "cell_type": "code",
      "source": [
        "import torch\n",
        "import torch.nn as nn\n",
        "import torch.nn.functional as F\n",
        "import torch.optim as optim\n",
        "from torch.utils.data import DataLoader, Dataset\n",
        "\n",
        "import torchvision\n",
        "import matplotlib.pyplot as plt\n",
        "import numpy as np\n",
        "import math"
      ],
      "metadata": {
        "id": "_PBZhPXoEVAI",
        "execution": {
          "iopub.status.busy": "2023-12-28T07:29:20.423339Z",
          "iopub.execute_input": "2023-12-28T07:29:20.423790Z",
          "iopub.status.idle": "2023-12-28T07:29:24.966763Z",
          "shell.execute_reply.started": "2023-12-28T07:29:20.423726Z",
          "shell.execute_reply": "2023-12-28T07:29:24.965544Z"
        },
        "trusted": true
      },
      "execution_count": 1,
      "outputs": []
    },
    {
      "cell_type": "code",
      "source": [
        "class Config:\n",
        "    pass\n",
        "\n",
        "CONFIG = Config()\n",
        "CONFIG.mnist_path = None\n",
        "CONFIG.batch_size = 16\n",
        "CONFIG.num_workers = 3\n",
        "CONFIG.num_epochs = 10\n",
        "CONFIG.noise_size = 50\n",
        "CONFIG.print_freq = 500\n",
        "CONFIG.learning_rate = 0.0002"
      ],
      "metadata": {
        "id": "6ZOVySNaEVAJ",
        "execution": {
          "iopub.status.busy": "2023-12-28T07:29:24.969539Z",
          "iopub.execute_input": "2023-12-28T07:29:24.970771Z",
          "iopub.status.idle": "2023-12-28T07:29:24.978723Z",
          "shell.execute_reply.started": "2023-12-28T07:29:24.970701Z",
          "shell.execute_reply": "2023-12-28T07:29:24.976898Z"
        },
        "trusted": true
      },
      "execution_count": 2,
      "outputs": []
    },
    {
      "cell_type": "code",
      "source": [
        "dataset = torchvision.datasets.FashionMNIST(\"fashion_mnist\", train=True, transform=torchvision.transforms.ToTensor(), download=True)"
      ],
      "metadata": {
        "id": "rJQdF3-xEVAJ",
        "execution": {
          "iopub.status.busy": "2023-12-28T07:29:24.980637Z",
          "iopub.execute_input": "2023-12-28T07:29:24.981333Z",
          "iopub.status.idle": "2023-12-28T07:29:26.711155Z",
          "shell.execute_reply.started": "2023-12-28T07:29:24.981294Z",
          "shell.execute_reply": "2023-12-28T07:29:26.710012Z"
        },
        "trusted": true
      },
      "execution_count": 3,
      "outputs": []
    },
    {
      "cell_type": "code",
      "source": [
        "dataloader = DataLoader(dataset, batch_size=CONFIG.batch_size, shuffle=True)\n",
        "len(dataloader)"
      ],
      "metadata": {
        "id": "DsFXiFsIEVAJ",
        "colab": {
          "base_uri": "https://localhost:8080/"
        },
        "outputId": "b145d75f-cfd7-481d-8aa6-dcdcc4837e9d",
        "execution": {
          "iopub.status.busy": "2023-12-28T07:29:29.880605Z",
          "iopub.execute_input": "2023-12-28T07:29:29.881147Z",
          "iopub.status.idle": "2023-12-28T07:29:29.890185Z",
          "shell.execute_reply.started": "2023-12-28T07:29:29.881100Z",
          "shell.execute_reply": "2023-12-28T07:29:29.889077Z"
        },
        "trusted": true
      },
      "execution_count": 4,
      "outputs": [
        {
          "output_type": "execute_result",
          "data": {
            "text/plain": [
              "3750"
            ]
          },
          "metadata": {},
          "execution_count": 4
        }
      ]
    },
    {
      "cell_type": "code",
      "source": [
        "image, label = next(iter(dataloader))\n",
        "image.size()"
      ],
      "metadata": {
        "id": "GXozdEFQEVAJ",
        "colab": {
          "base_uri": "https://localhost:8080/"
        },
        "outputId": "7756dd05-9180-4263-fc78-57326aa65692",
        "execution": {
          "iopub.status.busy": "2023-12-28T07:29:30.374181Z",
          "iopub.execute_input": "2023-12-28T07:29:30.375722Z",
          "iopub.status.idle": "2023-12-28T07:29:30.452347Z",
          "shell.execute_reply.started": "2023-12-28T07:29:30.375670Z",
          "shell.execute_reply": "2023-12-28T07:29:30.451035Z"
        },
        "trusted": true
      },
      "execution_count": 5,
      "outputs": [
        {
          "output_type": "execute_result",
          "data": {
            "text/plain": [
              "torch.Size([16, 1, 28, 28])"
            ]
          },
          "metadata": {},
          "execution_count": 5
        }
      ]
    },
    {
      "cell_type": "markdown",
      "source": [
        "### Создаем модель GAN"
      ],
      "metadata": {
        "id": "Ki7mSwhrEVAK"
      }
    },
    {
      "cell_type": "code",
      "source": [
        "class Generator(nn.Module):\n",
        "    def __init__(self):\n",
        "        super(Generator, self).__init__()\n",
        "        self.model = nn.Sequential(\n",
        "            nn.Linear(100, 256),\n",
        "            nn.LeakyReLU(0.2),\n",
        "            nn.Linear(256, 512),\n",
        "            nn.LeakyReLU(0.2),\n",
        "            nn.Linear(512, 784),\n",
        "            nn.Tanh()\n",
        "        )\n",
        "\n",
        "    def forward(self, x):\n",
        "        out = self.model(x)\n",
        "        out = out.view(x.size(0), 1, 28, 28)\n",
        "        return out\n",
        "\n",
        "\n",
        "class Discriminator(nn.Module):\n",
        "    def __init__(self):\n",
        "        super(Discriminator, self).__init__()\n",
        "        self.model = nn.Sequential(\n",
        "            nn.Linear(784, 512),\n",
        "            nn.LeakyReLU(0.2),\n",
        "            nn.Linear(512, 256),\n",
        "            nn.LeakyReLU(0.2),\n",
        "            nn.Linear(256, 1)\n",
        "        )\n",
        "\n",
        "    def forward(self, x):\n",
        "        x = x.view(x.size(0), -1)\n",
        "        out = self.model(x)\n",
        "        return out"
      ],
      "metadata": {
        "id": "diozgmg4EVAK",
        "execution": {
          "iopub.status.busy": "2023-12-28T07:29:33.772913Z",
          "iopub.execute_input": "2023-12-28T07:29:33.773362Z",
          "iopub.status.idle": "2023-12-28T07:29:33.784770Z",
          "shell.execute_reply.started": "2023-12-28T07:29:33.773324Z",
          "shell.execute_reply": "2023-12-28T07:29:33.783211Z"
        },
        "trusted": true
      },
      "execution_count": 6,
      "outputs": []
    },
    {
      "cell_type": "code",
      "source": [
        "GENERATOR = Generator()\n",
        "DISCRIMINATOR = Discriminator()"
      ],
      "metadata": {
        "id": "ZJUbCECuEVAK",
        "execution": {
          "iopub.status.busy": "2023-12-28T07:29:33.934238Z",
          "iopub.execute_input": "2023-12-28T07:29:33.935395Z",
          "iopub.status.idle": "2023-12-28T07:29:33.955619Z",
          "shell.execute_reply.started": "2023-12-28T07:29:33.935342Z",
          "shell.execute_reply": "2023-12-28T07:29:33.954395Z"
        },
        "trusted": true
      },
      "execution_count": 7,
      "outputs": []
    },
    {
      "cell_type": "code",
      "source": [
        "GENERATOR"
      ],
      "metadata": {
        "colab": {
          "base_uri": "https://localhost:8080/"
        },
        "id": "mPbOGNgpg2b1",
        "outputId": "1fb6c17d-1493-4cec-e2c3-de2f9547f2a6",
        "execution": {
          "iopub.status.busy": "2023-12-28T07:29:34.190985Z",
          "iopub.execute_input": "2023-12-28T07:29:34.191364Z",
          "iopub.status.idle": "2023-12-28T07:29:34.199977Z",
          "shell.execute_reply.started": "2023-12-28T07:29:34.191334Z",
          "shell.execute_reply": "2023-12-28T07:29:34.198596Z"
        },
        "trusted": true
      },
      "execution_count": 8,
      "outputs": [
        {
          "output_type": "execute_result",
          "data": {
            "text/plain": [
              "Generator(\n",
              "  (model): Sequential(\n",
              "    (0): Linear(in_features=100, out_features=256, bias=True)\n",
              "    (1): LeakyReLU(negative_slope=0.2)\n",
              "    (2): Linear(in_features=256, out_features=512, bias=True)\n",
              "    (3): LeakyReLU(negative_slope=0.2)\n",
              "    (4): Linear(in_features=512, out_features=784, bias=True)\n",
              "    (5): Tanh()\n",
              "  )\n",
              ")"
            ]
          },
          "metadata": {},
          "execution_count": 8
        }
      ]
    },
    {
      "cell_type": "code",
      "source": [
        "DISCRIMINATOR"
      ],
      "metadata": {
        "colab": {
          "base_uri": "https://localhost:8080/"
        },
        "id": "OPL3JAY6g2b1",
        "outputId": "bec4faa0-9511-47fa-943d-b3a08973353a",
        "execution": {
          "iopub.status.busy": "2023-12-28T07:29:34.451045Z",
          "iopub.execute_input": "2023-12-28T07:29:34.451425Z",
          "iopub.status.idle": "2023-12-28T07:29:34.459099Z",
          "shell.execute_reply.started": "2023-12-28T07:29:34.451393Z",
          "shell.execute_reply": "2023-12-28T07:29:34.457933Z"
        },
        "trusted": true
      },
      "execution_count": 9,
      "outputs": [
        {
          "output_type": "execute_result",
          "data": {
            "text/plain": [
              "Discriminator(\n",
              "  (model): Sequential(\n",
              "    (0): Linear(in_features=784, out_features=512, bias=True)\n",
              "    (1): LeakyReLU(negative_slope=0.2)\n",
              "    (2): Linear(in_features=512, out_features=256, bias=True)\n",
              "    (3): LeakyReLU(negative_slope=0.2)\n",
              "    (4): Linear(in_features=256, out_features=1, bias=True)\n",
              "  )\n",
              ")"
            ]
          },
          "metadata": {},
          "execution_count": 9
        }
      ]
    },
    {
      "cell_type": "code",
      "source": [
        "DEVICE = 'cuda' if torch.cuda.is_available() else 'cpu'\n",
        "print(DEVICE)"
      ],
      "metadata": {
        "id": "VltlxWoyEVAL",
        "execution": {
          "iopub.status.busy": "2023-12-28T07:29:37.956043Z",
          "iopub.execute_input": "2023-12-28T07:29:37.956438Z",
          "iopub.status.idle": "2023-12-28T07:29:37.963205Z",
          "shell.execute_reply.started": "2023-12-28T07:29:37.956405Z",
          "shell.execute_reply": "2023-12-28T07:29:37.961680Z"
        },
        "trusted": true,
        "colab": {
          "base_uri": "https://localhost:8080/"
        },
        "outputId": "592a9366-ef33-47fc-c5d3-ce4f6877c742"
      },
      "execution_count": 10,
      "outputs": [
        {
          "output_type": "stream",
          "name": "stdout",
          "text": [
            "cpu\n"
          ]
        }
      ]
    },
    {
      "cell_type": "code",
      "source": [
        "def compute_gradient_penalty():\n",
        "    return None"
      ],
      "metadata": {
        "id": "zbTaSNyLTsKA"
      },
      "execution_count": 11,
      "outputs": []
    },
    {
      "cell_type": "code",
      "source": [
        "def train(generator, discriminator, dataloader, num_epochs, lr, device):\n",
        "    discriminator.to(device)\n",
        "    generator.to(device)\n",
        "\n",
        "    criterion = nn.BCEWithLogitsLoss()\n",
        "\n",
        "    d_optimizer = optim.Adam(discriminator.parameters(), lr=lr)\n",
        "    g_optimizer = optim.Adam(generator.parameters(), lr=lr)\n",
        "\n",
        "    for epoch in range(num_epochs):\n",
        "        for i, (real_images, _) in enumerate(dataloader):\n",
        "            real_images = real_images.to(device)\n",
        "            batch_size = real_images.size(0)\n",
        "            real_labels = torch.ones(batch_size, 1).to(device)\n",
        "            fake_labels = torch.zeros(batch_size, 1).to(device)\n",
        "\n",
        "            # Train the discriminator\n",
        "            discriminator.zero_grad()\n",
        "            real_outputs = discriminator(real_images)\n",
        "            d_loss_real = criterion(real_outputs, real_labels)\n",
        "\n",
        "            z = torch.randn(batch_size, 100).to(device)\n",
        "            fake_images = generator(z)\n",
        "            fake_outputs = discriminator(fake_images.detach())\n",
        "            d_loss_fake = criterion(fake_outputs, fake_labels)\n",
        "\n",
        "            d_loss = d_loss_real + d_loss_fake\n",
        "            # d_loss.backward()\n",
        "            # d_optimizer.step()\n",
        "\n",
        "            ###\n",
        "            # Compute gradient penalty\n",
        "            alpha = torch.rand(real_images.size(0), 1, 1, 1).to(device)\n",
        "            interpolated_images = (alpha * real_images + (1 - alpha) * fake_images).requires_grad_(True)\n",
        "            interpolated_outputs = discriminator(interpolated_images)\n",
        "\n",
        "            gradients = torch.autograd.grad(outputs=interpolated_outputs, inputs=interpolated_images,\n",
        "                             grad_outputs=torch.ones(interpolated_outputs.size()).to(device),\n",
        "                             create_graph=True, retain_graph=True)[0]\n",
        "\n",
        "            gradient_penalty = torch.mean((gradients.norm(2, dim=1) - 1) ** 2)\n",
        "\n",
        "            d_loss += 10 * gradient_penalty\n",
        "\n",
        "            d_loss.backward()\n",
        "            d_optimizer.step()\n",
        "            ###\n",
        "\n",
        "            # Train the generator\n",
        "            generator.zero_grad()\n",
        "            z = torch.randn(batch_size, 100).to(device)\n",
        "            fake_images = generator(z)\n",
        "            fake_outputs = discriminator(fake_images)\n",
        "            g_loss = criterion(fake_outputs, real_labels)\n",
        "\n",
        "            g_loss.backward()\n",
        "            g_optimizer.step()\n",
        "\n",
        "            if (i+1) % 200 == 0:\n",
        "                print(f\"Epoch [{epoch+1}/{num_epochs}], Step [{i+1}/{len(dataloader)}], d_loss: {d_loss.item():.4f}, g_loss: {g_loss.item():.4f}\")"
      ],
      "metadata": {
        "id": "YdTU6oAecOx0",
        "execution": {
          "iopub.status.busy": "2023-12-28T07:29:46.852434Z",
          "iopub.execute_input": "2023-12-28T07:29:46.852871Z",
          "iopub.status.idle": "2023-12-28T07:29:46.867112Z",
          "shell.execute_reply.started": "2023-12-28T07:29:46.852835Z",
          "shell.execute_reply": "2023-12-28T07:29:46.866144Z"
        },
        "trusted": true
      },
      "execution_count": 15,
      "outputs": []
    },
    {
      "cell_type": "code",
      "source": [
        "torch.manual_seed(42)"
      ],
      "metadata": {
        "colab": {
          "base_uri": "https://localhost:8080/"
        },
        "id": "DMZwEdBmcX-V",
        "outputId": "18dc0860-fa41-4c63-e917-10614cec444b",
        "execution": {
          "iopub.status.busy": "2023-12-28T07:29:49.183447Z",
          "iopub.execute_input": "2023-12-28T07:29:49.183930Z",
          "iopub.status.idle": "2023-12-28T07:29:49.196609Z",
          "shell.execute_reply.started": "2023-12-28T07:29:49.183892Z",
          "shell.execute_reply": "2023-12-28T07:29:49.195308Z"
        },
        "trusted": true
      },
      "execution_count": 13,
      "outputs": [
        {
          "output_type": "execute_result",
          "data": {
            "text/plain": [
              "<torch._C.Generator at 0x7bef7836d530>"
            ]
          },
          "metadata": {},
          "execution_count": 13
        }
      ]
    },
    {
      "cell_type": "code",
      "source": [
        "train(GENERATOR, DISCRIMINATOR, dataloader, num_epochs=CONFIG.num_epochs, lr=CONFIG.learning_rate, device=DEVICE)"
      ],
      "metadata": {
        "colab": {
          "base_uri": "https://localhost:8080/"
        },
        "id": "Kr5y6kpgdBvk",
        "outputId": "970202dc-6266-4adc-f581-19f1c09d0f71",
        "execution": {
          "iopub.status.busy": "2023-12-28T07:29:51.480050Z",
          "iopub.execute_input": "2023-12-28T07:29:51.480483Z",
          "iopub.status.idle": "2023-12-28T07:38:17.688169Z",
          "shell.execute_reply.started": "2023-12-28T07:29:51.480447Z",
          "shell.execute_reply": "2023-12-28T07:38:17.686918Z"
        },
        "trusted": true
      },
      "execution_count": null,
      "outputs": [
        {
          "output_type": "stream",
          "name": "stdout",
          "text": [
            "Epoch [1/10], Step [200/3750], d_loss: 8.6736, g_loss: 5.7228\n",
            "Epoch [1/10], Step [400/3750], d_loss: 7.9062, g_loss: 11.1667\n",
            "Epoch [1/10], Step [600/3750], d_loss: 8.4888, g_loss: 10.9182\n",
            "Epoch [1/10], Step [800/3750], d_loss: 6.1521, g_loss: 10.3289\n",
            "Epoch [1/10], Step [1000/3750], d_loss: 6.3070, g_loss: 6.8732\n",
            "Epoch [1/10], Step [1200/3750], d_loss: 4.6870, g_loss: 9.9650\n",
            "Epoch [1/10], Step [1400/3750], d_loss: 4.8789, g_loss: 3.3149\n",
            "Epoch [1/10], Step [1600/3750], d_loss: 4.5440, g_loss: 4.6811\n"
          ]
        }
      ]
    },
    {
      "cell_type": "code",
      "source": [
        "IMG_QTY = 16\n",
        "IMG_SIZE = int(math.sqrt(IMG_QTY))\n",
        "\n",
        "noise = torch.randn(IMG_QTY, 100, device=DEVICE)  # Generate 10 random noise vectors\n",
        "generated_images = GENERATOR(noise)  # Generate images using the generator\n",
        "\n",
        "plt.figure(figsize=(10, 12))\n",
        "for i in range(IMG_QTY):\n",
        "    plt.subplot(IMG_SIZE, IMG_SIZE, i+1)\n",
        "    plt.imshow(generated_images[i].cpu().detach().numpy().reshape(28, 28), cmap=plt.cm.Greys_r)\n",
        "    plt.axis(\"off\")"
      ],
      "metadata": {
        "execution": {
          "iopub.status.busy": "2023-12-28T07:38:17.690638Z",
          "iopub.execute_input": "2023-12-28T07:38:17.691063Z",
          "iopub.status.idle": "2023-12-28T07:38:18.444351Z",
          "shell.execute_reply.started": "2023-12-28T07:38:17.691027Z",
          "shell.execute_reply": "2023-12-28T07:38:18.442998Z"
        },
        "trusted": true,
        "id": "hUScZHyxvXSq"
      },
      "execution_count": null,
      "outputs": []
    }
  ]
}