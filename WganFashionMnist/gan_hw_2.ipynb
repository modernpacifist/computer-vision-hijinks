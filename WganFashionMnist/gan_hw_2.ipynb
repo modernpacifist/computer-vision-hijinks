{
  "metadata": {
    "anaconda-cloud": {},
    "kernelspec": {
      "name": "python3",
      "display_name": "Python 3"
    },
    "language_info": {
      "name": "python",
      "version": "3.10.12",
      "mimetype": "text/x-python",
      "codemirror_mode": {
        "name": "ipython",
        "version": 3
      },
      "pygments_lexer": "ipython3",
      "nbconvert_exporter": "python",
      "file_extension": ".py"
    },
    "colab": {
      "provenance": []
    },
    "kaggle": {
      "accelerator": "gpu",
      "dataSources": [],
      "dockerImageVersionId": 30627,
      "isInternetEnabled": true,
      "language": "python",
      "sourceType": "notebook",
      "isGpuEnabled": true
    }
  },
  "nbformat_minor": 0,
  "nbformat": 4,
  "cells": [
    {
      "cell_type": "markdown",
      "source": [
        "### WGAN\n",
        "\n",
        "* Модифицируйте код ячеек ниже и реализуйте [Wasserstein GAN](https://arxiv.org/abs/1701.07875) с клиппингом весов. (10 баллов)\n",
        "\n",
        "* Замените клиппинг весов на [штраф градентов](https://arxiv.org/pdf/1704.00028v3.pdf). (10 баллов)\n",
        "\n",
        "* Добавьте лейблы в WGAN, тем самым решая задачу [условной генерации](https://arxiv.org/pdf/1411.1784.pdf). (30 баллов)\n",
        "\n",
        "Добавьте в этот файл анализ полученных результатов с различными графиками обучения и визуализацию генерации. Сравните как работает клиппинг весов и штраф градиентов и попробуйте пронаблюдать какие недостатки имеет модель GAN."
      ],
      "metadata": {
        "id": "tJSkS1KoEVAH"
      }
    },
    {
      "cell_type": "code",
      "source": [
        "import torch\n",
        "import torch.nn as nn\n",
        "import torch.nn.functional as F\n",
        "import torch.optim as optim\n",
        "from torch.utils.data import DataLoader, Dataset\n",
        "\n",
        "import torchvision\n",
        "import matplotlib.pyplot as plt\n",
        "import numpy as np\n",
        "\n",
        "from torch.autograd import Variable"
      ],
      "metadata": {
        "id": "_PBZhPXoEVAI",
        "execution": {
          "iopub.status.busy": "2023-12-25T01:36:27.228076Z",
          "iopub.execute_input": "2023-12-25T01:36:27.228959Z",
          "iopub.status.idle": "2023-12-25T01:36:27.234215Z",
          "shell.execute_reply.started": "2023-12-25T01:36:27.228924Z",
          "shell.execute_reply": "2023-12-25T01:36:27.233227Z"
        },
        "trusted": true
      },
      "execution_count": 1,
      "outputs": []
    },
    {
      "cell_type": "markdown",
      "source": [
        "### Простой конфиг (для хранения параметров, можете использовать и модифицировать)"
      ],
      "metadata": {
        "id": "JA1WUmq7EVAI"
      }
    },
    {
      "cell_type": "code",
      "source": [
        "class Config:\n",
        "    pass\n",
        "\n",
        "CONFIG = Config()\n",
        "CONFIG.mnist_path = None\n",
        "CONFIG.batch_size = 16\n",
        "CONFIG.num_workers = 3\n",
        "CONFIG.num_epochs = 10\n",
        "CONFIG.noise_size = 50\n",
        "CONFIG.print_freq = 500\n",
        "CONFIG.learning_rate = 0.0002"
      ],
      "metadata": {
        "id": "6ZOVySNaEVAJ",
        "execution": {
          "iopub.status.busy": "2023-12-25T01:36:27.235897Z",
          "iopub.execute_input": "2023-12-25T01:36:27.236203Z",
          "iopub.status.idle": "2023-12-25T01:36:27.244650Z",
          "shell.execute_reply.started": "2023-12-25T01:36:27.236167Z",
          "shell.execute_reply": "2023-12-25T01:36:27.243576Z"
        },
        "trusted": true
      },
      "execution_count": 2,
      "outputs": []
    },
    {
      "cell_type": "markdown",
      "source": [
        "### Создаем dataloader"
      ],
      "metadata": {
        "id": "H4z2spNOEVAJ"
      }
    },
    {
      "cell_type": "code",
      "source": [
        "dataset = torchvision.datasets.FashionMNIST(\"fashion_mnist\", train=True, transform=torchvision.transforms.ToTensor(), download=True)"
      ],
      "metadata": {
        "id": "rJQdF3-xEVAJ",
        "execution": {
          "iopub.status.busy": "2023-12-25T01:36:27.245636Z",
          "iopub.execute_input": "2023-12-25T01:36:27.245906Z",
          "iopub.status.idle": "2023-12-25T01:36:33.758287Z",
          "shell.execute_reply.started": "2023-12-25T01:36:27.245883Z",
          "shell.execute_reply": "2023-12-25T01:36:33.757336Z"
        },
        "trusted": true
      },
      "execution_count": 3,
      "outputs": []
    },
    {
      "cell_type": "code",
      "source": [
        "dataloader = DataLoader(dataset, batch_size=CONFIG.batch_size, shuffle=True)\n",
        "len(dataloader)"
      ],
      "metadata": {
        "id": "DsFXiFsIEVAJ",
        "execution": {
          "iopub.status.busy": "2023-12-25T01:36:33.760655Z",
          "iopub.execute_input": "2023-12-25T01:36:33.761165Z",
          "iopub.status.idle": "2023-12-25T01:36:33.768716Z",
          "shell.execute_reply.started": "2023-12-25T01:36:33.761130Z",
          "shell.execute_reply": "2023-12-25T01:36:33.767812Z"
        },
        "trusted": true,
        "colab": {
          "base_uri": "https://localhost:8080/"
        },
        "outputId": "824fd810-958b-4785-e522-dbb8d5f7d1dd"
      },
      "execution_count": 4,
      "outputs": [
        {
          "output_type": "execute_result",
          "data": {
            "text/plain": [
              "3750"
            ]
          },
          "metadata": {},
          "execution_count": 4
        }
      ]
    },
    {
      "cell_type": "code",
      "source": [
        "image, label = next(iter(dataloader))\n",
        "image.size()"
      ],
      "metadata": {
        "id": "GXozdEFQEVAJ",
        "execution": {
          "iopub.status.busy": "2023-12-25T01:36:33.769915Z",
          "iopub.execute_input": "2023-12-25T01:36:33.770213Z",
          "iopub.status.idle": "2023-12-25T01:36:33.824469Z",
          "shell.execute_reply.started": "2023-12-25T01:36:33.770184Z",
          "shell.execute_reply": "2023-12-25T01:36:33.823668Z"
        },
        "trusted": true,
        "colab": {
          "base_uri": "https://localhost:8080/"
        },
        "outputId": "d1415d3a-f359-43c8-87b8-5f9036f272ac"
      },
      "execution_count": 5,
      "outputs": [
        {
          "output_type": "execute_result",
          "data": {
            "text/plain": [
              "torch.Size([16, 1, 28, 28])"
            ]
          },
          "metadata": {},
          "execution_count": 5
        }
      ]
    },
    {
      "cell_type": "markdown",
      "source": [
        "### Создаем модель GAN"
      ],
      "metadata": {
        "id": "Ki7mSwhrEVAK"
      }
    },
    {
      "cell_type": "code",
      "source": [
        "class Generator(nn.Module):\n",
        "    def __init__(self):\n",
        "        # super(Generator, self).__init__()\n",
        "        # self.model = nn.Sequential(\n",
        "        #     # config.noise_size = 50\n",
        "        #     nn.Linear(CONFIG.noise_size, 200),\n",
        "        #     nn.ReLU(inplace=True),\n",
        "        #     nn.Linear(200, 28*28),\n",
        "        #     nn.Sigmoid()\n",
        "        # )\n",
        "\n",
        "        super(Generator, self).__init__()\n",
        "        self.model = nn.Sequential(\n",
        "            nn.Linear(100, 256),\n",
        "            nn.LeakyReLU(0.2),\n",
        "            nn.Linear(256, 512),\n",
        "            nn.LeakyReLU(0.2),\n",
        "            nn.Linear(512, 784),\n",
        "            nn.Tanh()\n",
        "        )\n",
        "\n",
        "    def forward(self, x):\n",
        "        out = self.model(x)\n",
        "        out = out.view(x.size(0), 1, 28, 28)\n",
        "        return out\n",
        "\n",
        "\n",
        "class Discriminator(nn.Module):\n",
        "    def __init__(self):\n",
        "        # super(Discriminator, self).__init__()\n",
        "        # self.model = nn.Sequential(\n",
        "        #     nn.Linear(28*28, 200),\n",
        "        #     nn.ReLU(inplace=True),\n",
        "        #     nn.Linear(200, 50),\n",
        "        #     nn.ReLU(inplace=True),\n",
        "        #     nn.Linear(50, 1),\n",
        "        #     nn.Sigmoid())\n",
        "\n",
        "        super(Discriminator, self).__init__()\n",
        "        self.model = nn.Sequential(\n",
        "            nn.Linear(784, 512),\n",
        "            nn.LeakyReLU(0.2),\n",
        "            nn.Linear(512, 256),\n",
        "            nn.LeakyReLU(0.2),\n",
        "            nn.Linear(256, 1)\n",
        "        )\n",
        "\n",
        "    def forward(self, x):\n",
        "        x = x.view(x.size(0), -1)\n",
        "        out = self.model(x)\n",
        "        return out"
      ],
      "metadata": {
        "id": "diozgmg4EVAK",
        "execution": {
          "iopub.status.busy": "2023-12-25T01:36:33.825435Z",
          "iopub.execute_input": "2023-12-25T01:36:33.825703Z",
          "iopub.status.idle": "2023-12-25T01:36:33.831438Z",
          "shell.execute_reply.started": "2023-12-25T01:36:33.825680Z",
          "shell.execute_reply": "2023-12-25T01:36:33.830610Z"
        },
        "trusted": true
      },
      "execution_count": 6,
      "outputs": []
    },
    {
      "cell_type": "code",
      "source": [
        "generator = Generator()\n",
        "discriminator = Discriminator()"
      ],
      "metadata": {
        "id": "ZJUbCECuEVAK",
        "execution": {
          "iopub.status.busy": "2023-12-25T01:36:33.841632Z",
          "iopub.execute_input": "2023-12-25T01:36:33.841959Z",
          "iopub.status.idle": "2023-12-25T01:36:33.858310Z",
          "shell.execute_reply.started": "2023-12-25T01:36:33.841926Z",
          "shell.execute_reply": "2023-12-25T01:36:33.857525Z"
        },
        "trusted": true
      },
      "execution_count": 7,
      "outputs": []
    },
    {
      "cell_type": "code",
      "source": [
        "generator"
      ],
      "metadata": {
        "execution": {
          "iopub.status.busy": "2023-12-25T01:36:33.860730Z",
          "iopub.execute_input": "2023-12-25T01:36:33.861011Z",
          "iopub.status.idle": "2023-12-25T01:36:33.866595Z",
          "shell.execute_reply.started": "2023-12-25T01:36:33.860981Z",
          "shell.execute_reply": "2023-12-25T01:36:33.865815Z"
        },
        "trusted": true,
        "colab": {
          "base_uri": "https://localhost:8080/"
        },
        "id": "mPbOGNgpg2b1",
        "outputId": "07aeb7fb-afc2-4587-adf5-d6cae3fc5153"
      },
      "execution_count": 8,
      "outputs": [
        {
          "output_type": "execute_result",
          "data": {
            "text/plain": [
              "Generator(\n",
              "  (model): Sequential(\n",
              "    (0): Linear(in_features=100, out_features=256, bias=True)\n",
              "    (1): LeakyReLU(negative_slope=0.2)\n",
              "    (2): Linear(in_features=256, out_features=512, bias=True)\n",
              "    (3): LeakyReLU(negative_slope=0.2)\n",
              "    (4): Linear(in_features=512, out_features=784, bias=True)\n",
              "    (5): Tanh()\n",
              "  )\n",
              ")"
            ]
          },
          "metadata": {},
          "execution_count": 8
        }
      ]
    },
    {
      "cell_type": "code",
      "source": [
        "discriminator"
      ],
      "metadata": {
        "execution": {
          "iopub.status.busy": "2023-12-25T01:36:45.187708Z",
          "iopub.execute_input": "2023-12-25T01:36:45.188671Z",
          "iopub.status.idle": "2023-12-25T01:36:45.195183Z",
          "shell.execute_reply.started": "2023-12-25T01:36:45.188634Z",
          "shell.execute_reply": "2023-12-25T01:36:45.194273Z"
        },
        "trusted": true,
        "colab": {
          "base_uri": "https://localhost:8080/"
        },
        "id": "OPL3JAY6g2b1",
        "outputId": "41e54015-31e0-4aa9-f22c-0d0459203d30"
      },
      "execution_count": 9,
      "outputs": [
        {
          "output_type": "execute_result",
          "data": {
            "text/plain": [
              "Discriminator(\n",
              "  (model): Sequential(\n",
              "    (0): Linear(in_features=784, out_features=512, bias=True)\n",
              "    (1): LeakyReLU(negative_slope=0.2)\n",
              "    (2): Linear(in_features=512, out_features=256, bias=True)\n",
              "    (3): LeakyReLU(negative_slope=0.2)\n",
              "    (4): Linear(in_features=256, out_features=1, bias=True)\n",
              "  )\n",
              ")"
            ]
          },
          "metadata": {},
          "execution_count": 9
        }
      ]
    },
    {
      "cell_type": "markdown",
      "source": [
        "### Оптимизатор и функция потерь"
      ],
      "metadata": {
        "id": "jUJaHpFbEVAL"
      }
    },
    {
      "cell_type": "code",
      "source": [
        "# learning_rate = 0.0002\n",
        "# device = 'cuda' if torch.cuda.is_available() else 'cpu'\n",
        "# print(device)\n",
        "\n",
        "# generator = generator.to(device)\n",
        "# discriminator = discriminator.to(device)\n",
        "# optim_G = optim.Adam(params=generator.parameters(), lr=learning_rate)\n",
        "# optim_D = optim.Adam(params=discriminator.parameters(), lr=learning_rate)\n",
        "\n",
        "# criterion = nn.BCELoss()"
      ],
      "metadata": {
        "id": "VltlxWoyEVAL",
        "execution": {
          "iopub.status.busy": "2023-12-25T01:37:16.107475Z",
          "iopub.execute_input": "2023-12-25T01:37:16.108291Z",
          "iopub.status.idle": "2023-12-25T01:37:16.115879Z",
          "shell.execute_reply.started": "2023-12-25T01:37:16.108257Z",
          "shell.execute_reply": "2023-12-25T01:37:16.114918Z"
        },
        "trusted": true
      },
      "execution_count": 10,
      "outputs": []
    },
    {
      "cell_type": "markdown",
      "source": [
        "### Для оптимизации процесса обучения можно заранее определить переменные и заполнять их значения новыми данными"
      ],
      "metadata": {
        "id": "CRbESDzYEVAL"
      }
    },
    {
      "cell_type": "code",
      "source": [
        "# # noise = Variable(torch.FloatTensor(config.batch_size, config.noise_size, device=device))\n",
        "# # # fixed_noise = Variable(torch.FloatTensor(config.batch_size, config.noise_size, device=device).normal_(0, 1))\n",
        "# # label = Variable(torch.FloatTensor(config.batch_size, device=device))\n",
        "\n",
        "# noise_x = torch.empty(CONFIG.batch_size)\n",
        "# print(noise_x)\n",
        "# # noise must be 50 x 200\n",
        "# # noise = torch.tensor(noise_x, dtype=torch.float, device=torch.device(device))\n",
        "\n",
        "# # DEFAULT LINE\n",
        "# noise = Variable(torch.FloatTensor(CONFIG.batch_size, CONFIG.noise_size, device=device))\n",
        "# # fixed_noise = Variable(torch.FloatTensor(config.batch_size, config.noise_size, device=device).normal_(0, 1))\n",
        "\n",
        "# noise_y = torch.empty(CONFIG.batch_size)\n",
        "# # label = torch.tensor(noise_y, dtype=torch.float, device=torch.device(device))\n",
        "\n",
        "# # DEFAULT LINE\n",
        "# label = Variable(torch.FloatTensor(CONFIG.batch_size, device=device))\n",
        "\n",
        "\n",
        "# real_label = 1\n",
        "# fake_label = 0"
      ],
      "metadata": {
        "id": "vXAHDeLlEVAL",
        "execution": {
          "iopub.status.busy": "2023-12-25T04:13:34.848542Z",
          "iopub.execute_input": "2023-12-25T04:13:34.849378Z",
          "iopub.status.idle": "2023-12-25T04:13:34.857600Z",
          "shell.execute_reply.started": "2023-12-25T04:13:34.849341Z",
          "shell.execute_reply": "2023-12-25T04:13:34.856750Z"
        },
        "trusted": true
      },
      "execution_count": 11,
      "outputs": []
    },
    {
      "cell_type": "markdown",
      "source": [
        "### GAN обучение"
      ],
      "metadata": {
        "id": "x3XozpMxEVAL"
      }
    },
    {
      "cell_type": "code",
      "source": [
        "# ERRD_x = np.zeros(CONFIG.num_epochs)\n",
        "# ERRD_z = np.zeros(CONFIG.num_epochs)\n",
        "# ERRG = np.zeros(CONFIG.num_epochs)\n",
        "# N = len(dataloader)\n",
        "\n",
        "# for epoch in range(CONFIG.num_epochs):\n",
        "#     for iteration, (images, cat) in enumerate(dataloader):\n",
        "#         #######\n",
        "#         # Discriminator stage: maximize log(D(x)) + log(1 - D(G(z)))\n",
        "#         #######\n",
        "#         discriminator.zero_grad()\n",
        "\n",
        "#         # real\n",
        "#         label.data.fill_(real_label)\n",
        "#         input_data = images.view(images.shape[0], -1).to(device)\n",
        "#         output = discriminator(input_data).view(-1)\n",
        "#         errD_x = criterion(output, label)\n",
        "#         ERRD_x[epoch] += errD_x.item()\n",
        "#         errD_x.backward()\n",
        "\n",
        "#         # fake\n",
        "#         noise.data.normal_(0, 1)\n",
        "#         fake = generator(noise)\n",
        "#         label.data.fill_(fake_label)\n",
        "#         output = discriminator(fake.detach()).view(-1)\n",
        "#         errD_z = criterion(output, label)\n",
        "#         ERRD_z[epoch] += errD_z.item()\n",
        "#         errD_z.backward()\n",
        "\n",
        "#         optim_D.step()\n",
        "\n",
        "#         #######\n",
        "#         # Generator stage: maximize log(D(G(x))\n",
        "#         #######\n",
        "#         generator.zero_grad()\n",
        "#         label.data.fill_(real_label)\n",
        "#         output = discriminator(fake).view(-1)\n",
        "#         errG = criterion(output, label)\n",
        "#         ERRG[epoch] += errG.item()\n",
        "#         errG.backward()\n",
        "\n",
        "#         optim_G.step()\n",
        "\n",
        "#         if (iteration+1) % CONFIG.print_freq == 0:\n",
        "#             print('Epoch:{} Iter: {} errD_x: {:.2f} errD_z: {:.2f} errG: {:.2f}'.format(epoch+1,\n",
        "#                                                                                             iteration+1,\n",
        "#                                                                                             errD_x.item(),\n",
        "#                                                                                             errD_z.item(),\n",
        "#                                                                                             errG.item()))"
      ],
      "metadata": {
        "scrolled": true,
        "id": "9W_1xrPXEVAL",
        "execution": {
          "iopub.status.busy": "2023-12-25T03:39:41.710199Z",
          "iopub.execute_input": "2023-12-25T03:39:41.710950Z",
          "iopub.status.idle": "2023-12-25T03:39:41.869376Z",
          "shell.execute_reply.started": "2023-12-25T03:39:41.710918Z",
          "shell.execute_reply": "2023-12-25T03:39:41.868087Z"
        },
        "trusted": true
      },
      "execution_count": 12,
      "outputs": []
    },
    {
      "cell_type": "code",
      "source": [
        "def train(discriminator, generator, dataloader, num_epochs, lr):\n",
        "    device = torch.device(\"cuda\" if torch.cuda.is_available() else \"cpu\")\n",
        "\n",
        "    discriminator.to(device)\n",
        "    generator.to(device)\n",
        "\n",
        "    criterion = nn.BCEWithLogitsLoss()\n",
        "\n",
        "    d_optimizer = optim.Adam(discriminator.parameters(), lr=lr)\n",
        "    g_optimizer = optim.Adam(generator.parameters(), lr=lr)\n",
        "\n",
        "    for epoch in range(num_epochs):\n",
        "        for i, (real_images, _) in enumerate(dataloader):\n",
        "            real_images = real_images.to(device)\n",
        "            batch_size = real_images.size(0)\n",
        "            real_labels = torch.ones(batch_size, 1).to(device)\n",
        "            fake_labels = torch.zeros(batch_size, 1).to(device)\n",
        "\n",
        "            # Train the discriminator\n",
        "            discriminator.zero_grad()\n",
        "            real_outputs = discriminator(real_images)\n",
        "            d_loss_real = criterion(real_outputs, real_labels)\n",
        "\n",
        "            z = torch.randn(batch_size, 100).to(device)\n",
        "            fake_images = generator(z)\n",
        "            fake_outputs = discriminator(fake_images.detach())\n",
        "            d_loss_fake = criterion(fake_outputs, fake_labels)\n",
        "\n",
        "            d_loss = d_loss_real + d_loss_fake\n",
        "            d_loss.backward()\n",
        "            d_optimizer.step()\n",
        "\n",
        "            # Train the generator\n",
        "            generator.zero_grad()\n",
        "            z = torch.randn(batch_size, 100).to(device)\n",
        "            fake_images = generator(z)\n",
        "            fake_outputs = discriminator(fake_images)\n",
        "            g_loss = criterion(fake_outputs, real_labels)\n",
        "\n",
        "            g_loss.backward()\n",
        "            g_optimizer.step()\n",
        "\n",
        "            if (i+1) % 200 == 0:\n",
        "                print(f\"Epoch [{epoch+1}/{num_epochs}], Step [{i+1}/{len(dataloader)}], d_loss: {d_loss.item():.4f}, g_loss: {g_loss.item():.4f}\")"
      ],
      "metadata": {
        "id": "YdTU6oAecOx0"
      },
      "execution_count": 13,
      "outputs": []
    },
    {
      "cell_type": "code",
      "source": [
        "torch.manual_seed(42)"
      ],
      "metadata": {
        "colab": {
          "base_uri": "https://localhost:8080/"
        },
        "id": "DMZwEdBmcX-V",
        "outputId": "bea1e961-af39-4922-823e-2829a07be883"
      },
      "execution_count": 14,
      "outputs": [
        {
          "output_type": "execute_result",
          "data": {
            "text/plain": [
              "<torch._C.Generator at 0x7b141814d490>"
            ]
          },
          "metadata": {},
          "execution_count": 14
        }
      ]
    },
    {
      "cell_type": "code",
      "source": [
        "train(discriminator, generator, dataloader, num_epochs=CONFIG.num_epochs, lr=CONFIG.learning_rate)"
      ],
      "metadata": {
        "colab": {
          "base_uri": "https://localhost:8080/"
        },
        "id": "Kr5y6kpgdBvk",
        "outputId": "d5c483ee-1796-4323-c164-c0c6ec7afb8e"
      },
      "execution_count": null,
      "outputs": [
        {
          "output_type": "stream",
          "name": "stdout",
          "text": [
            "Epoch [1/10], Step [200/3750], d_loss: 0.1925, g_loss: 3.4698\n",
            "Epoch [1/10], Step [400/3750], d_loss: 0.3738, g_loss: 3.3591\n",
            "Epoch [1/10], Step [600/3750], d_loss: 1.0137, g_loss: 2.4955\n",
            "Epoch [1/10], Step [800/3750], d_loss: 0.4893, g_loss: 3.2483\n",
            "Epoch [1/10], Step [1000/3750], d_loss: 1.4077, g_loss: 1.2452\n",
            "Epoch [1/10], Step [1200/3750], d_loss: 1.0172, g_loss: 1.1295\n",
            "Epoch [1/10], Step [1400/3750], d_loss: 0.5861, g_loss: 2.1239\n",
            "Epoch [1/10], Step [1600/3750], d_loss: 1.2635, g_loss: 1.7423\n",
            "Epoch [1/10], Step [1800/3750], d_loss: 1.8341, g_loss: 0.8334\n",
            "Epoch [1/10], Step [2000/3750], d_loss: 1.1345, g_loss: 1.0233\n",
            "Epoch [1/10], Step [2200/3750], d_loss: 0.4739, g_loss: 2.0215\n",
            "Epoch [1/10], Step [2400/3750], d_loss: 0.2000, g_loss: 3.0784\n",
            "Epoch [1/10], Step [2600/3750], d_loss: 0.5896, g_loss: 3.7119\n",
            "Epoch [1/10], Step [2800/3750], d_loss: 1.6589, g_loss: 1.0096\n",
            "Epoch [1/10], Step [3000/3750], d_loss: 0.9741, g_loss: 2.2364\n"
          ]
        }
      ]
    },
    {
      "cell_type": "code",
      "source": [
        "# noise.data.normal_(0, 1)\n",
        "# fake = generator(noise)\n",
        "\n",
        "# plt.figure(figsize=(6, 7))\n",
        "# for i in range(16):\n",
        "#     plt.subplot(4, 4, i + 1)\n",
        "#     plt.imshow(fake[i].detach().numpy().reshape(28, 28), cmap=plt.cm.Greys_r)\n",
        "#     plt.axis('off')"
      ],
      "metadata": {
        "id": "Mx7WhHRTEVAL",
        "execution": {
          "iopub.status.busy": "2023-12-25T01:36:39.223334Z",
          "iopub.status.idle": "2023-12-25T01:36:39.223683Z",
          "shell.execute_reply.started": "2023-12-25T01:36:39.223512Z",
          "shell.execute_reply": "2023-12-25T01:36:39.223530Z"
        },
        "trusted": true
      },
      "execution_count": null,
      "outputs": []
    },
    {
      "cell_type": "code",
      "source": [],
      "metadata": {
        "id": "HAjUnTlEF91F"
      },
      "execution_count": null,
      "outputs": []
    }
  ]
}