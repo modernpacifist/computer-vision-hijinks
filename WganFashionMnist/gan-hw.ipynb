{
  "metadata": {
    "anaconda-cloud": {},
    "kernelspec": {
      "name": "python3",
      "display_name": "Python 3"
    },
    "language_info": {
      "name": "python",
      "version": "3.10.12",
      "mimetype": "text/x-python",
      "codemirror_mode": {
        "name": "ipython",
        "version": 3
      },
      "pygments_lexer": "ipython3",
      "nbconvert_exporter": "python",
      "file_extension": ".py"
    },
    "colab": {
      "provenance": []
    },
    "kaggle": {
      "accelerator": "gpu",
      "dataSources": [],
      "dockerImageVersionId": 30627,
      "isInternetEnabled": true,
      "language": "python",
      "sourceType": "notebook",
      "isGpuEnabled": true
    }
  },
  "nbformat_minor": 0,
  "nbformat": 4,
  "cells": [
    {
      "cell_type": "markdown",
      "source": [
        "### WGAN\n",
        "\n",
        "* Модифицируйте код ячеек ниже и реализуйте [Wasserstein GAN](https://arxiv.org/abs/1701.07875) с клиппингом весов. (10 баллов)\n",
        "\n",
        "* Замените клиппинг весов на [штраф градентов](https://arxiv.org/pdf/1704.00028v3.pdf). (10 баллов)\n",
        "\n",
        "* Добавьте лейблы в WGAN, тем самым решая задачу [условной генерации](https://arxiv.org/pdf/1411.1784.pdf). (30 баллов)\n",
        "\n",
        "Добавьте в этот файл анализ полученных результатов с различными графиками обучения и визуализацию генерации. Сравните как работает клиппинг весов и штраф градиентов и попробуйте пронаблюдать какие недостатки имеет модель GAN."
      ],
      "metadata": {
        "id": "tJSkS1KoEVAH"
      }
    },
    {
      "cell_type": "code",
      "source": [
        "import torch\n",
        "import torch.nn as nn\n",
        "import torch.nn.functional as F\n",
        "import torch.optim as optim\n",
        "from torch.utils.data import DataLoader, Dataset\n",
        "\n",
        "import torchvision\n",
        "import matplotlib.pyplot as plt\n",
        "import numpy as np\n",
        "\n",
        "from torch.autograd import Variable"
      ],
      "metadata": {
        "id": "_PBZhPXoEVAI",
        "execution": {
          "iopub.status.busy": "2023-12-25T01:36:27.228076Z",
          "iopub.execute_input": "2023-12-25T01:36:27.228959Z",
          "iopub.status.idle": "2023-12-25T01:36:27.234215Z",
          "shell.execute_reply.started": "2023-12-25T01:36:27.228924Z",
          "shell.execute_reply": "2023-12-25T01:36:27.233227Z"
        },
        "trusted": true
      },
      "execution_count": 1,
      "outputs": []
    },
    {
      "cell_type": "markdown",
      "source": [
        "### Простой конфиг (для хранения параметров, можете использовать и модифицировать)"
      ],
      "metadata": {
        "id": "JA1WUmq7EVAI"
      }
    },
    {
      "cell_type": "code",
      "source": [
        "class Config:\n",
        "    pass\n",
        "\n",
        "CONFIG = Config()\n",
        "CONFIG.mnist_path = None\n",
        "CONFIG.batch_size = 16\n",
        "CONFIG.num_workers = 3\n",
        "CONFIG.num_epochs = 10\n",
        "CONFIG.noise_size = 50\n",
        "CONFIG.print_freq = 500"
      ],
      "metadata": {
        "id": "6ZOVySNaEVAJ",
        "execution": {
          "iopub.status.busy": "2023-12-25T01:36:27.235897Z",
          "iopub.execute_input": "2023-12-25T01:36:27.236203Z",
          "iopub.status.idle": "2023-12-25T01:36:27.244650Z",
          "shell.execute_reply.started": "2023-12-25T01:36:27.236167Z",
          "shell.execute_reply": "2023-12-25T01:36:27.243576Z"
        },
        "trusted": true
      },
      "execution_count": 2,
      "outputs": []
    },
    {
      "cell_type": "markdown",
      "source": [
        "### Создаем dataloader"
      ],
      "metadata": {
        "id": "H4z2spNOEVAJ"
      }
    },
    {
      "cell_type": "code",
      "source": [
        "train = torchvision.datasets.FashionMNIST(\"fashion_mnist\", train=True, transform=torchvision.transforms.ToTensor(), download=True)"
      ],
      "metadata": {
        "id": "rJQdF3-xEVAJ",
        "execution": {
          "iopub.status.busy": "2023-12-25T01:36:27.245636Z",
          "iopub.execute_input": "2023-12-25T01:36:27.245906Z",
          "iopub.status.idle": "2023-12-25T01:36:33.758287Z",
          "shell.execute_reply.started": "2023-12-25T01:36:27.245883Z",
          "shell.execute_reply": "2023-12-25T01:36:33.757336Z"
        },
        "trusted": true,
        "colab": {
          "base_uri": "https://localhost:8080/"
        },
        "outputId": "905a76be-2b7e-47b2-a0b3-c0326b9e7326"
      },
      "execution_count": 3,
      "outputs": [
        {
          "output_type": "stream",
          "name": "stdout",
          "text": [
            "Downloading http://fashion-mnist.s3-website.eu-central-1.amazonaws.com/train-images-idx3-ubyte.gz\n",
            "Downloading http://fashion-mnist.s3-website.eu-central-1.amazonaws.com/train-images-idx3-ubyte.gz to fashion_mnist/FashionMNIST/raw/train-images-idx3-ubyte.gz\n"
          ]
        },
        {
          "output_type": "stream",
          "name": "stderr",
          "text": [
            "100%|██████████| 26421880/26421880 [00:02<00:00, 10422374.23it/s]\n"
          ]
        },
        {
          "output_type": "stream",
          "name": "stdout",
          "text": [
            "Extracting fashion_mnist/FashionMNIST/raw/train-images-idx3-ubyte.gz to fashion_mnist/FashionMNIST/raw\n",
            "\n",
            "Downloading http://fashion-mnist.s3-website.eu-central-1.amazonaws.com/train-labels-idx1-ubyte.gz\n",
            "Downloading http://fashion-mnist.s3-website.eu-central-1.amazonaws.com/train-labels-idx1-ubyte.gz to fashion_mnist/FashionMNIST/raw/train-labels-idx1-ubyte.gz\n"
          ]
        },
        {
          "output_type": "stream",
          "name": "stderr",
          "text": [
            "100%|██████████| 29515/29515 [00:00<00:00, 295861.31it/s]\n"
          ]
        },
        {
          "output_type": "stream",
          "name": "stdout",
          "text": [
            "Extracting fashion_mnist/FashionMNIST/raw/train-labels-idx1-ubyte.gz to fashion_mnist/FashionMNIST/raw\n",
            "\n",
            "Downloading http://fashion-mnist.s3-website.eu-central-1.amazonaws.com/t10k-images-idx3-ubyte.gz\n",
            "Downloading http://fashion-mnist.s3-website.eu-central-1.amazonaws.com/t10k-images-idx3-ubyte.gz to fashion_mnist/FashionMNIST/raw/t10k-images-idx3-ubyte.gz\n"
          ]
        },
        {
          "output_type": "stream",
          "name": "stderr",
          "text": [
            "100%|██████████| 4422102/4422102 [00:00<00:00, 5583656.71it/s]\n"
          ]
        },
        {
          "output_type": "stream",
          "name": "stdout",
          "text": [
            "Extracting fashion_mnist/FashionMNIST/raw/t10k-images-idx3-ubyte.gz to fashion_mnist/FashionMNIST/raw\n",
            "\n",
            "Downloading http://fashion-mnist.s3-website.eu-central-1.amazonaws.com/t10k-labels-idx1-ubyte.gz\n",
            "Downloading http://fashion-mnist.s3-website.eu-central-1.amazonaws.com/t10k-labels-idx1-ubyte.gz to fashion_mnist/FashionMNIST/raw/t10k-labels-idx1-ubyte.gz\n"
          ]
        },
        {
          "output_type": "stream",
          "name": "stderr",
          "text": [
            "100%|██████████| 5148/5148 [00:00<00:00, 5048463.17it/s]"
          ]
        },
        {
          "output_type": "stream",
          "name": "stdout",
          "text": [
            "Extracting fashion_mnist/FashionMNIST/raw/t10k-labels-idx1-ubyte.gz to fashion_mnist/FashionMNIST/raw\n",
            "\n"
          ]
        },
        {
          "output_type": "stream",
          "name": "stderr",
          "text": [
            "\n"
          ]
        }
      ]
    },
    {
      "cell_type": "code",
      "source": [
        "dataloader = DataLoader(train, batch_size=16, shuffle=True)\n",
        "len(dataloader)"
      ],
      "metadata": {
        "id": "DsFXiFsIEVAJ",
        "execution": {
          "iopub.status.busy": "2023-12-25T01:36:33.760655Z",
          "iopub.execute_input": "2023-12-25T01:36:33.761165Z",
          "iopub.status.idle": "2023-12-25T01:36:33.768716Z",
          "shell.execute_reply.started": "2023-12-25T01:36:33.761130Z",
          "shell.execute_reply": "2023-12-25T01:36:33.767812Z"
        },
        "trusted": true,
        "colab": {
          "base_uri": "https://localhost:8080/"
        },
        "outputId": "90656f60-8c6e-4f20-8fbd-0fdff297ee3b"
      },
      "execution_count": 4,
      "outputs": [
        {
          "output_type": "execute_result",
          "data": {
            "text/plain": [
              "3750"
            ]
          },
          "metadata": {},
          "execution_count": 4
        }
      ]
    },
    {
      "cell_type": "code",
      "source": [
        "image, label = next(iter(dataloader))\n",
        "image.size()"
      ],
      "metadata": {
        "id": "GXozdEFQEVAJ",
        "execution": {
          "iopub.status.busy": "2023-12-25T01:36:33.769915Z",
          "iopub.execute_input": "2023-12-25T01:36:33.770213Z",
          "iopub.status.idle": "2023-12-25T01:36:33.824469Z",
          "shell.execute_reply.started": "2023-12-25T01:36:33.770184Z",
          "shell.execute_reply": "2023-12-25T01:36:33.823668Z"
        },
        "trusted": true,
        "colab": {
          "base_uri": "https://localhost:8080/"
        },
        "outputId": "7875e97f-551c-4a03-c81d-c7dbf09454b9"
      },
      "execution_count": 5,
      "outputs": [
        {
          "output_type": "execute_result",
          "data": {
            "text/plain": [
              "torch.Size([16, 1, 28, 28])"
            ]
          },
          "metadata": {},
          "execution_count": 5
        }
      ]
    },
    {
      "cell_type": "markdown",
      "source": [
        "### Создаем модель GAN"
      ],
      "metadata": {
        "id": "Ki7mSwhrEVAK"
      }
    },
    {
      "cell_type": "code",
      "source": [
        "class Generator(nn.Module):\n",
        "    def __init__(self):\n",
        "        super(Generator, self).__init__()\n",
        "        self.model = nn.Sequential(\n",
        "            # config.noise_size = 50\n",
        "            nn.Linear(CONFIG.noise_size, 200),\n",
        "            nn.ReLU(inplace=True),\n",
        "            nn.Linear(200, 28*28),\n",
        "            nn.Sigmoid()\n",
        "        )\n",
        "\n",
        "    def forward(self, x):\n",
        "        return self.model(x)\n",
        "\n",
        "\n",
        "class Discriminator(nn.Module):\n",
        "    def __init__(self):\n",
        "        super(Discriminator, self).__init__()\n",
        "        self.model = nn.Sequential(\n",
        "            nn.Linear(28*28, 200),\n",
        "            nn.ReLU(inplace=True),\n",
        "            nn.Linear(200, 50),\n",
        "            nn.ReLU(inplace=True),\n",
        "            nn.Linear(50, 1),\n",
        "            nn.Sigmoid())\n",
        "\n",
        "    def forward(self, x):\n",
        "        return self.model(x)"
      ],
      "metadata": {
        "id": "diozgmg4EVAK",
        "execution": {
          "iopub.status.busy": "2023-12-25T01:36:33.825435Z",
          "iopub.execute_input": "2023-12-25T01:36:33.825703Z",
          "iopub.status.idle": "2023-12-25T01:36:33.831438Z",
          "shell.execute_reply.started": "2023-12-25T01:36:33.825680Z",
          "shell.execute_reply": "2023-12-25T01:36:33.830610Z"
        },
        "trusted": true
      },
      "execution_count": 6,
      "outputs": []
    },
    {
      "cell_type": "code",
      "source": [
        "generator = Generator()\n",
        "discriminator = Discriminator()"
      ],
      "metadata": {
        "id": "ZJUbCECuEVAK",
        "execution": {
          "iopub.status.busy": "2023-12-25T01:36:33.841632Z",
          "iopub.execute_input": "2023-12-25T01:36:33.841959Z",
          "iopub.status.idle": "2023-12-25T01:36:33.858310Z",
          "shell.execute_reply.started": "2023-12-25T01:36:33.841926Z",
          "shell.execute_reply": "2023-12-25T01:36:33.857525Z"
        },
        "trusted": true
      },
      "execution_count": 7,
      "outputs": []
    },
    {
      "cell_type": "code",
      "source": [
        "generator"
      ],
      "metadata": {
        "execution": {
          "iopub.status.busy": "2023-12-25T01:36:33.860730Z",
          "iopub.execute_input": "2023-12-25T01:36:33.861011Z",
          "iopub.status.idle": "2023-12-25T01:36:33.866595Z",
          "shell.execute_reply.started": "2023-12-25T01:36:33.860981Z",
          "shell.execute_reply": "2023-12-25T01:36:33.865815Z"
        },
        "trusted": true,
        "colab": {
          "base_uri": "https://localhost:8080/"
        },
        "id": "mPbOGNgpg2b1",
        "outputId": "bea902de-02d7-4d00-a932-c6e1bd6ad50d"
      },
      "execution_count": 8,
      "outputs": [
        {
          "output_type": "execute_result",
          "data": {
            "text/plain": [
              "Generator(\n",
              "  (model): Sequential(\n",
              "    (0): Linear(in_features=50, out_features=200, bias=True)\n",
              "    (1): ReLU(inplace=True)\n",
              "    (2): Linear(in_features=200, out_features=784, bias=True)\n",
              "    (3): Sigmoid()\n",
              "  )\n",
              ")"
            ]
          },
          "metadata": {},
          "execution_count": 8
        }
      ]
    },
    {
      "cell_type": "code",
      "source": [
        "discriminator"
      ],
      "metadata": {
        "execution": {
          "iopub.status.busy": "2023-12-25T01:36:45.187708Z",
          "iopub.execute_input": "2023-12-25T01:36:45.188671Z",
          "iopub.status.idle": "2023-12-25T01:36:45.195183Z",
          "shell.execute_reply.started": "2023-12-25T01:36:45.188634Z",
          "shell.execute_reply": "2023-12-25T01:36:45.194273Z"
        },
        "trusted": true,
        "colab": {
          "base_uri": "https://localhost:8080/"
        },
        "id": "OPL3JAY6g2b1",
        "outputId": "149d83f6-6f0f-4341-b0c7-3dba9cd04ff7"
      },
      "execution_count": 9,
      "outputs": [
        {
          "output_type": "execute_result",
          "data": {
            "text/plain": [
              "Discriminator(\n",
              "  (model): Sequential(\n",
              "    (0): Linear(in_features=784, out_features=200, bias=True)\n",
              "    (1): ReLU(inplace=True)\n",
              "    (2): Linear(in_features=200, out_features=50, bias=True)\n",
              "    (3): ReLU(inplace=True)\n",
              "    (4): Linear(in_features=50, out_features=1, bias=True)\n",
              "    (5): Sigmoid()\n",
              "  )\n",
              ")"
            ]
          },
          "metadata": {},
          "execution_count": 9
        }
      ]
    },
    {
      "cell_type": "markdown",
      "source": [
        "### Оптимизатор и функция потерь"
      ],
      "metadata": {
        "id": "jUJaHpFbEVAL"
      }
    },
    {
      "cell_type": "code",
      "source": [
        "learning_rate = 0.0002\n",
        "device = 'cuda' if torch.cuda.is_available() else 'cpu'\n",
        "print(device)\n",
        "\n",
        "generator = generator.to(device)\n",
        "discriminator = discriminator.to(device)\n",
        "optim_G = optim.Adam(params=generator.parameters(), lr=learning_rate)\n",
        "optim_D = optim.Adam(params=discriminator.parameters(), lr=learning_rate)\n",
        "\n",
        "criterion = nn.BCELoss()"
      ],
      "metadata": {
        "id": "VltlxWoyEVAL",
        "execution": {
          "iopub.status.busy": "2023-12-25T01:37:16.107475Z",
          "iopub.execute_input": "2023-12-25T01:37:16.108291Z",
          "iopub.status.idle": "2023-12-25T01:37:16.115879Z",
          "shell.execute_reply.started": "2023-12-25T01:37:16.108257Z",
          "shell.execute_reply": "2023-12-25T01:37:16.114918Z"
        },
        "trusted": true,
        "colab": {
          "base_uri": "https://localhost:8080/"
        },
        "outputId": "8ad1187e-0d0e-4191-a207-78b1c2fc7a7b"
      },
      "execution_count": 10,
      "outputs": [
        {
          "output_type": "stream",
          "name": "stdout",
          "text": [
            "cpu\n"
          ]
        }
      ]
    },
    {
      "cell_type": "markdown",
      "source": [
        "### Для оптимизации процесса обучения можно заранее определить переменные и заполнять их значения новыми данными"
      ],
      "metadata": {
        "id": "CRbESDzYEVAL"
      }
    },
    {
      "cell_type": "code",
      "source": [
        "# noise = Variable(torch.FloatTensor(config.batch_size, config.noise_size, device=device))\n",
        "# # fixed_noise = Variable(torch.FloatTensor(config.batch_size, config.noise_size, device=device).normal_(0, 1))\n",
        "# label = Variable(torch.FloatTensor(config.batch_size, device=device))\n",
        "\n",
        "noise_x = torch.empty(CONFIG.batch_size)\n",
        "print(noise_x)\n",
        "# noise must be 50 x 200\n",
        "# noise = torch.tensor(noise_x, dtype=torch.float, device=torch.device(device))\n",
        "\n",
        "# DEFAULT LINE\n",
        "noise = Variable(torch.FloatTensor(CONFIG.batch_size, CONFIG.noise_size, device=device))\n",
        "# fixed_noise = Variable(torch.FloatTensor(config.batch_size, config.noise_size, device=device).normal_(0, 1))\n",
        "\n",
        "noise_y = torch.empty(CONFIG.batch_size)\n",
        "# label = torch.tensor(noise_y, dtype=torch.float, device=torch.device(device))\n",
        "\n",
        "# DEFAULT LINE\n",
        "label = Variable(torch.FloatTensor(CONFIG.batch_size, device=device))\n",
        "\n",
        "\n",
        "real_label = 1\n",
        "fake_label = 0"
      ],
      "metadata": {
        "id": "vXAHDeLlEVAL",
        "execution": {
          "iopub.status.busy": "2023-12-25T04:13:34.848542Z",
          "iopub.execute_input": "2023-12-25T04:13:34.849378Z",
          "iopub.status.idle": "2023-12-25T04:13:34.857600Z",
          "shell.execute_reply.started": "2023-12-25T04:13:34.849341Z",
          "shell.execute_reply": "2023-12-25T04:13:34.856750Z"
        },
        "trusted": true,
        "colab": {
          "base_uri": "https://localhost:8080/"
        },
        "outputId": "326f5b06-24b2-4b9a-c2f5-0b4abcf30208"
      },
      "execution_count": 11,
      "outputs": [
        {
          "output_type": "stream",
          "name": "stdout",
          "text": [
            "tensor([2.1707e-18, 7.0952e+22, 1.7748e+28, 1.8176e+31, 7.2708e+31, 5.0778e+31,\n",
            "        3.2608e-12, 1.7728e+28, 7.0367e+22, 2.1715e-18, 1.0514e-05, 8.2651e-10,\n",
            "        4.1263e-08, 1.0488e-08, 7.9873e+20, 1.2915e-11])\n"
          ]
        }
      ]
    },
    {
      "cell_type": "code",
      "source": [
        "noise"
      ],
      "metadata": {
        "execution": {
          "iopub.status.busy": "2023-12-25T03:39:35.391442Z",
          "iopub.execute_input": "2023-12-25T03:39:35.391795Z",
          "iopub.status.idle": "2023-12-25T03:39:35.400911Z",
          "shell.execute_reply.started": "2023-12-25T03:39:35.391768Z",
          "shell.execute_reply": "2023-12-25T03:39:35.399965Z"
        },
        "trusted": true,
        "colab": {
          "base_uri": "https://localhost:8080/"
        },
        "id": "Fjln6lk4g2b2",
        "outputId": "06ee76ea-b62f-4275-879e-f95ef917ece2"
      },
      "execution_count": 12,
      "outputs": [
        {
          "output_type": "execute_result",
          "data": {
            "text/plain": [
              "tensor([[ 1.7419e+33,  4.5825e-41,  1.7419e+33,  4.5825e-41,  2.0812e+35,\n",
              "          3.3087e-41,  2.0812e+35,  3.3087e-41,  2.0818e+35,  3.3087e-41,\n",
              "          0.0000e+00,  0.0000e+00,  1.5669e+35,  3.3087e-41,  5.8287e+33,\n",
              "          3.3087e-41, -1.6361e-31,  4.5824e-41,  0.0000e+00,  0.0000e+00,\n",
              "          0.0000e+00,  0.0000e+00,  0.0000e+00,  0.0000e+00,  0.0000e+00,\n",
              "          0.0000e+00,  0.0000e+00,  0.0000e+00,  0.0000e+00,  0.0000e+00,\n",
              "          1.4013e-45,  0.0000e+00,  0.0000e+00,  0.0000e+00,  0.0000e+00,\n",
              "          0.0000e+00,  0.0000e+00,  0.0000e+00,  0.0000e+00,  0.0000e+00,\n",
              "          5.6052e-45,  0.0000e+00,  1.4013e-45,  0.0000e+00,  9.1844e-41,\n",
              "          1.1551e-40,  4.5919e-41,  8.2957e-43,  9.8434e+32,  4.5825e-41],\n",
              "        [ 2.0865e-42,  0.0000e+00,  1.7418e+33,  4.5825e-41,  1.7418e+33,\n",
              "          4.5825e-41,  2.0812e+35,  3.3087e-41,  2.0812e+35,  3.3087e-41,\n",
              "          6.7262e-44,  0.0000e+00,  4.0357e-43,  0.0000e+00,  5.6889e-35,\n",
              "          4.5825e-41,  8.3284e+31,  4.5825e-41,  6.2471e+14,  4.5825e-41,\n",
              "          0.0000e+00,  0.0000e+00,  0.0000e+00,  0.0000e+00,  0.0000e+00,\n",
              "          0.0000e+00,  0.0000e+00,  0.0000e+00,  0.0000e+00,  0.0000e+00,\n",
              "          0.0000e+00,  0.0000e+00,  0.0000e+00,  0.0000e+00,  0.0000e+00,\n",
              "          0.0000e+00,  0.0000e+00,  0.0000e+00,  0.0000e+00,  0.0000e+00,\n",
              "          0.0000e+00,  0.0000e+00,  0.0000e+00,  0.0000e+00,  1.6745e+35,\n",
              "          0.0000e+00,  0.0000e+00,  0.0000e+00,  0.0000e+00,  0.0000e+00],\n",
              "        [ 0.0000e+00,  0.0000e+00,  0.0000e+00,  0.0000e+00,  0.0000e+00,\n",
              "          0.0000e+00,  2.0812e+35,  3.3087e-41,  1.9439e+35,  3.3087e-41,\n",
              "          3.6553e+31,  4.5825e-41,  2.8095e+32,  4.5825e-41,  0.0000e+00,\n",
              "          0.0000e+00,  2.8095e+32,  4.5825e-41,  0.0000e+00,  3.0829e-44,\n",
              "          0.0000e+00,  0.0000e+00,  2.0813e+35,  3.3087e-41,  0.0000e+00,\n",
              "          0.0000e+00,  1.4013e-45,  0.0000e+00,  2.0813e+35,  3.3087e-41,\n",
              "          2.0805e+35,  0.0000e+00,  4.2039e-45,  3.3087e-41,  1.6157e-42,\n",
              "          0.0000e+00,  2.0807e+35,  3.3087e-41,  2.0807e+35,  3.3087e-41,\n",
              "          0.0000e+00,  0.0000e+00,  0.0000e+00,  0.0000e+00,  0.0000e+00,\n",
              "          0.0000e+00,  0.0000e+00,  0.0000e+00,  0.0000e+00,  0.0000e+00],\n",
              "        [ 0.0000e+00,  0.0000e+00,  0.0000e+00,  0.0000e+00,  0.0000e+00,\n",
              "          0.0000e+00,  0.0000e+00,  0.0000e+00,  0.0000e+00,  0.0000e+00,\n",
              "          0.0000e+00,  0.0000e+00,  0.0000e+00,  0.0000e+00,  0.0000e+00,\n",
              "          0.0000e+00,  1.6353e+32,  0.0000e+00,  0.0000e+00,  0.0000e+00,\n",
              "          0.0000e+00,  0.0000e+00,  0.0000e+00,  0.0000e+00,  0.0000e+00,\n",
              "          0.0000e+00,  0.0000e+00,  0.0000e+00,  3.1144e+32,  4.5825e-41,\n",
              "          1.9439e+35,  3.3087e-41,  0.0000e+00,  0.0000e+00,  0.0000e+00,\n",
              "          0.0000e+00,  0.0000e+00,  0.0000e+00,  1.7416e+33,  4.5825e-41,\n",
              "          2.0813e+35,  3.3087e-41,  0.0000e+00,  4.5825e-41,  2.0798e+35,\n",
              "          3.3087e-41,  1.6367e-42,  0.0000e+00,  2.0813e+35,  3.3087e-41],\n",
              "        [ 2.6625e-44,  2.8026e-44,  2.0813e+35,  0.0000e+00,  4.2039e-45,\n",
              "          0.0000e+00,  1.2121e-42,  0.0000e+00,  2.0808e+35,  3.3087e-41,\n",
              "          2.0807e+35,  3.3087e-41,  6.2471e+14,  4.5825e-41,  0.0000e+00,\n",
              "          0.0000e+00,  0.0000e+00,  0.0000e+00,  0.0000e+00,  0.0000e+00,\n",
              "          0.0000e+00,  0.0000e+00,  0.0000e+00,  0.0000e+00,  0.0000e+00,\n",
              "          0.0000e+00,  0.0000e+00,  0.0000e+00,  0.0000e+00,  0.0000e+00,\n",
              "          0.0000e+00,  0.0000e+00,  0.0000e+00,  0.0000e+00,  0.0000e+00,\n",
              "          0.0000e+00,  0.0000e+00,  0.0000e+00,  9.1835e-41,  0.0000e+00,\n",
              "          0.0000e+00,  0.0000e+00,  0.0000e+00,  0.0000e+00,  0.0000e+00,\n",
              "          0.0000e+00,  0.0000e+00,  0.0000e+00,  0.0000e+00,  0.0000e+00],\n",
              "        [ 1.4363e-42,  0.0000e+00,  1.9439e+35,  3.3087e-41,  1.8103e+15,\n",
              "          4.5825e-41,  1.4013e-45,  0.0000e+00,  0.0000e+00,  0.0000e+00,\n",
              "          1.5414e-44,  2.3822e-44,  0.0000e+00,  0.0000e+00,  2.0814e+35,\n",
              "          3.3087e-41,  3.3631e-44,  0.0000e+00,  3.1144e+32,  4.5825e-41,\n",
              "          1.4013e-45,  0.0000e+00,  2.0814e+35,  3.3087e-41,  1.4013e-45,\n",
              "          0.0000e+00,  4.2039e-45,  2.2421e-44,  8.0855e-43,  0.0000e+00,\n",
              "          1.8654e+35,  3.3087e-41,  2.0808e+35,  3.3087e-41,  6.2471e+14,\n",
              "          4.5825e-41,  0.0000e+00,  0.0000e+00,  0.0000e+00,  0.0000e+00,\n",
              "          0.0000e+00,  0.0000e+00,  0.0000e+00,  0.0000e+00,  0.0000e+00,\n",
              "          0.0000e+00,  0.0000e+00,  0.0000e+00,  0.0000e+00,  0.0000e+00],\n",
              "        [ 0.0000e+00,  0.0000e+00,  0.0000e+00,  0.0000e+00,  0.0000e+00,\n",
              "          0.0000e+00,  0.0000e+00,  0.0000e+00,  0.0000e+00,  0.0000e+00,\n",
              "          9.1835e-41,  0.0000e+00,  0.0000e+00,  0.0000e+00,  0.0000e+00,\n",
              "          0.0000e+00,  0.0000e+00,  0.0000e+00,  0.0000e+00,  0.0000e+00,\n",
              "          0.0000e+00,  0.0000e+00,  1.4363e-42,  1.0229e-43,  1.9439e+35,\n",
              "          3.3087e-41,  1.4013e-45,  0.0000e+00,  1.5414e-44,  1.1210e-44,\n",
              "          0.0000e+00,  0.0000e+00,  1.6381e-42,  2.1019e-44,  0.0000e+00,\n",
              "          3.3087e-41,  2.0814e+35,  3.3087e-41,  1.5638e-42,  0.0000e+00,\n",
              "          2.0814e+35,  3.3087e-41,  5.1848e-44,  0.0000e+00,  2.0815e+35,\n",
              "          3.3087e-41,  1.4363e-42,  0.0000e+00,  2.0814e+35,  3.3087e-41],\n",
              "        [ 4.0498e-43,  0.0000e+00,  1.8654e+35,  3.3087e-41,  2.0808e+35,\n",
              "          3.3087e-41,  6.2471e+14,  4.5825e-41,  0.0000e+00,  0.0000e+00,\n",
              "          0.0000e+00,  0.0000e+00,  0.0000e+00,  0.0000e+00,  0.0000e+00,\n",
              "          0.0000e+00,  0.0000e+00,  0.0000e+00,  0.0000e+00,  0.0000e+00,\n",
              "          0.0000e+00,  0.0000e+00,  0.0000e+00,  0.0000e+00,  0.0000e+00,\n",
              "          0.0000e+00,  0.0000e+00,  0.0000e+00,  0.0000e+00,  0.0000e+00,\n",
              "          0.0000e+00,  0.0000e+00,  9.1835e-41,  0.0000e+00,  0.0000e+00,\n",
              "          0.0000e+00,  0.0000e+00,  0.0000e+00,  0.0000e+00,  0.0000e+00,\n",
              "          0.0000e+00,  0.0000e+00,  0.0000e+00,  0.0000e+00,  2.0798e+35,\n",
              "          3.3087e-41,  1.9439e+35,  3.3087e-41,  5.1848e-44,  0.0000e+00],\n",
              "        [ 2.0814e+35,  3.3087e-41,  0.0000e+00,  0.0000e+00,  2.0814e+35,\n",
              "          3.3087e-41,  0.0000e+00,  0.0000e+00,  2.0815e+35,  3.3087e-41,\n",
              "          1.9618e-44,  0.0000e+00,  1.9618e-44,  9.8091e-45,  1.6479e-42,\n",
              "          0.0000e+00,  0.0000e+00,  0.0000e+00,  1.4013e-45,  0.0000e+00,\n",
              "          2.3766e-42,  0.0000e+00,  4.0357e-43,  0.0000e+00,  5.6889e-35,\n",
              "          4.5825e-41,  8.3284e+31,  4.5825e-41,  6.2471e+14,  4.5825e-41,\n",
              "          0.0000e+00,  0.0000e+00,  0.0000e+00,  0.0000e+00,  0.0000e+00,\n",
              "          0.0000e+00,  0.0000e+00,  0.0000e+00,  0.0000e+00,  0.0000e+00,\n",
              "          0.0000e+00,  0.0000e+00,  0.0000e+00,  0.0000e+00,  0.0000e+00,\n",
              "          0.0000e+00,  0.0000e+00,  0.0000e+00,  0.0000e+00,  0.0000e+00],\n",
              "        [ 0.0000e+00,  0.0000e+00,  0.0000e+00,  0.0000e+00,  9.1835e-41,\n",
              "          0.0000e+00,  0.0000e+00,  0.0000e+00,  0.0000e+00,  0.0000e+00,\n",
              "          0.0000e+00,  0.0000e+00,  0.0000e+00,  0.0000e+00,  0.0000e+00,\n",
              "          0.0000e+00,  1.4363e-42,  0.0000e+00,  1.9439e+35,  3.3087e-41,\n",
              "          0.0000e+00,  0.0000e+00,  0.0000e+00,  0.0000e+00,  0.0000e+00,\n",
              "          0.0000e+00,  9.2748e+31,  3.3087e-41,  0.0000e+00,  0.0000e+00,\n",
              "          0.0000e+00,  0.0000e+00,  3.3631e-44,  0.0000e+00,  1.8103e+15,\n",
              "          4.5825e-41,  1.4013e-45,  0.0000e+00,  0.0000e+00,  0.0000e+00,\n",
              "          1.4013e-45,  0.0000e+00,  4.2039e-45,  2.1019e-44,  2.4228e-42,\n",
              "          0.0000e+00,  2.0810e+35,  3.3087e-41,  2.0808e+35,  3.3087e-41],\n",
              "        [ 0.0000e+00,  0.0000e+00,  0.0000e+00,  0.0000e+00,  0.0000e+00,\n",
              "          0.0000e+00,  0.0000e+00,  0.0000e+00,  0.0000e+00,  0.0000e+00,\n",
              "          0.0000e+00,  0.0000e+00,  0.0000e+00,  0.0000e+00,  0.0000e+00,\n",
              "          0.0000e+00,  0.0000e+00,  0.0000e+00,  0.0000e+00,  0.0000e+00,\n",
              "          0.0000e+00,  0.0000e+00,  0.0000e+00,  0.0000e+00,  0.0000e+00,\n",
              "          0.0000e+00,  9.1835e-41,  0.0000e+00,  0.0000e+00,  0.0000e+00,\n",
              "          0.0000e+00,  0.0000e+00,  0.0000e+00,  0.0000e+00,  0.0000e+00,\n",
              "          0.0000e+00,  0.0000e+00,  0.0000e+00,  1.4363e-42,  0.0000e+00,\n",
              "          1.9439e+35,  3.3087e-41,  2.1019e-44,  0.0000e+00,  4.5919e-41,\n",
              "          0.0000e+00,  0.0000e+00,  0.0000e+00, -5.3970e+11,  4.5914e-41],\n",
              "        [ 0.0000e+00,  0.0000e+00,  2.0816e+35,  3.3087e-41,  1.5877e-42,\n",
              "          0.0000e+00,  2.0817e+35,  3.3087e-41,  6.5861e-44,  0.0000e+00,\n",
              "          2.0816e+35,  3.3087e-41,  1.4363e-42,  0.0000e+00,  2.0816e+35,\n",
              "          3.3087e-41,  2.0193e-42,  0.0000e+00,  2.0811e+35,  3.3087e-41,\n",
              "          2.0810e+35,  3.3087e-41,  0.0000e+00,  0.0000e+00,  0.0000e+00,\n",
              "          0.0000e+00,  0.0000e+00,  0.0000e+00,  0.0000e+00,  0.0000e+00,\n",
              "          0.0000e+00,  0.0000e+00,  0.0000e+00,  0.0000e+00,  0.0000e+00,\n",
              "          0.0000e+00,  0.0000e+00,  0.0000e+00,  0.0000e+00,  0.0000e+00,\n",
              "          0.0000e+00,  0.0000e+00,  0.0000e+00,  0.0000e+00,  0.0000e+00,\n",
              "          0.0000e+00,  0.0000e+00,  0.0000e+00,  9.1835e-41,  0.0000e+00],\n",
              "        [ 0.0000e+00,  0.0000e+00,  0.0000e+00,  0.0000e+00,  0.0000e+00,\n",
              "          0.0000e+00,  0.0000e+00,  0.0000e+00,  0.0000e+00,  0.0000e+00,\n",
              "          1.4013e-45,  0.0000e+00,  1.9439e+35,  3.3087e-41,  5.1848e-44,\n",
              "          3.3087e-41,  2.0814e+35,  3.3087e-41,  0.0000e+00,  0.0000e+00,\n",
              "          2.0814e+35,  3.3087e-41,  0.0000e+00,  3.3087e-41, -1.6158e-31,\n",
              "          4.5824e-41,  1.4013e-45,  3.3087e-41,  1.2051e-43,  0.0000e+00,\n",
              "          1.9618e-44,  3.0829e-44,  1.9618e-44,  3.9236e-44,  1.4363e-42,\n",
              "          0.0000e+00,  2.0816e+35,  3.3087e-41,  1.6157e-42,  0.0000e+00,\n",
              "          2.0812e+35,  3.3087e-41,  2.0811e+35,  3.3087e-41,  0.0000e+00,\n",
              "          0.0000e+00,  0.0000e+00,  0.0000e+00,  0.0000e+00,  0.0000e+00],\n",
              "        [ 0.0000e+00,  0.0000e+00,  0.0000e+00,  0.0000e+00,  0.0000e+00,\n",
              "          0.0000e+00,  0.0000e+00,  0.0000e+00,  0.0000e+00,  0.0000e+00,\n",
              "          0.0000e+00,  0.0000e+00,  0.0000e+00,  0.0000e+00,  0.0000e+00,\n",
              "          0.0000e+00,  0.0000e+00,  0.0000e+00,  0.0000e+00,  0.0000e+00,\n",
              "          9.1835e-41,  0.0000e+00,  0.0000e+00,  0.0000e+00,  0.0000e+00,\n",
              "          0.0000e+00,  0.0000e+00,  0.0000e+00,  0.0000e+00,  0.0000e+00,\n",
              "          0.0000e+00,  0.0000e+00,  1.4013e-45,  4.5825e-41,  1.9439e+35,\n",
              "          3.3087e-41,  2.0815e+35,  3.3087e-41,  2.0815e+35,  3.3087e-41,\n",
              "          0.0000e+00,  0.0000e+00, -1.6621e-31,  4.5824e-41,  0.0000e+00,\n",
              "          0.0000e+00,  2.0817e+35,  3.3087e-41,  0.0000e+00,  0.0000e+00],\n",
              "        [ 1.4013e-45,  0.0000e+00,  2.0817e+35,  3.3087e-41,  2.0817e+35,\n",
              "          3.3087e-41,  1.4013e-45,  0.0000e+00,  1.6388e+31,  3.3087e-41,\n",
              "          1.2121e-42,  0.0000e+00,  1.8654e+35,  3.3087e-41,  2.0812e+35,\n",
              "          3.3087e-41,  6.2471e+14,  4.5825e-41,  0.0000e+00,  0.0000e+00,\n",
              "          0.0000e+00,  0.0000e+00,  0.0000e+00,  0.0000e+00,  0.0000e+00,\n",
              "          0.0000e+00,  0.0000e+00,  0.0000e+00,  0.0000e+00,  0.0000e+00,\n",
              "          0.0000e+00,  0.0000e+00,  0.0000e+00,  0.0000e+00,  0.0000e+00,\n",
              "          0.0000e+00,  0.0000e+00,  0.0000e+00,  0.0000e+00,  0.0000e+00,\n",
              "          0.0000e+00,  0.0000e+00,  9.1835e-41,  0.0000e+00,  0.0000e+00,\n",
              "          0.0000e+00,  0.0000e+00,  0.0000e+00,  0.0000e+00,  0.0000e+00],\n",
              "        [ 0.0000e+00,  0.0000e+00,  0.0000e+00,  0.0000e+00,  1.4013e-45,\n",
              "          3.3087e-41,  1.9439e+35,  3.3087e-41,  5.4651e-44,  0.0000e+00,\n",
              "          2.0816e+35,  3.3087e-41,  0.0000e+00,  0.0000e+00,  2.0816e+35,\n",
              "          3.3087e-41,  0.0000e+00,  3.3087e-41,  2.0815e+35,  3.3087e-41,\n",
              "          1.6367e-42,  3.3087e-41,  2.0818e+35,  3.3087e-41,  5.7453e-44,\n",
              "          3.3087e-41,  2.0818e+35,  3.3087e-41,  1.4013e-45,  0.0000e+00,\n",
              "          2.0818e+35,  3.3087e-41,  8.0855e-43,  0.0000e+00,  1.6898e+35,\n",
              "          3.3087e-41,  1.8654e+35,  3.3087e-41,  6.2471e+14,  4.5825e-41,\n",
              "          0.0000e+00,  0.0000e+00,  0.0000e+00,  0.0000e+00,  0.0000e+00,\n",
              "          0.0000e+00,  0.0000e+00,  0.0000e+00,  0.0000e+00,  0.0000e+00]])"
            ]
          },
          "metadata": {},
          "execution_count": 12
        }
      ]
    },
    {
      "cell_type": "code",
      "source": [
        "label"
      ],
      "metadata": {
        "execution": {
          "iopub.status.busy": "2023-12-25T03:39:36.289242Z",
          "iopub.execute_input": "2023-12-25T03:39:36.289596Z",
          "iopub.status.idle": "2023-12-25T03:39:36.296723Z",
          "shell.execute_reply.started": "2023-12-25T03:39:36.289570Z",
          "shell.execute_reply": "2023-12-25T03:39:36.295837Z"
        },
        "trusted": true,
        "colab": {
          "base_uri": "https://localhost:8080/"
        },
        "id": "_i5Crkalg2b2",
        "outputId": "a7278378-1f99-4c96-b344-2640348cb544"
      },
      "execution_count": 13,
      "outputs": [
        {
          "output_type": "execute_result",
          "data": {
            "text/plain": [
              "tensor([1.7417e+33, 4.5825e-41, 1.8636e+35, 3.3087e-41, 1.4013e-45, 0.0000e+00,\n",
              "        2.0797e+35, 3.3087e-41, 0.0000e+00, 0.0000e+00, 0.0000e+00, 0.0000e+00,\n",
              "        2.0795e+35, 3.3087e-41, 5.8287e+33, 3.3087e-41])"
            ]
          },
          "metadata": {},
          "execution_count": 13
        }
      ]
    },
    {
      "cell_type": "markdown",
      "source": [
        "### GAN обучение"
      ],
      "metadata": {
        "id": "x3XozpMxEVAL"
      }
    },
    {
      "cell_type": "code",
      "source": [
        "ERRD_x = np.zeros(CONFIG.num_epochs)\n",
        "ERRD_z = np.zeros(CONFIG.num_epochs)\n",
        "ERRG = np.zeros(CONFIG.num_epochs)\n",
        "N = len(dataloader)\n",
        "\n",
        "for epoch in range(CONFIG.num_epochs):\n",
        "    for iteration, (images, cat) in enumerate(dataloader):\n",
        "        #######\n",
        "        # Discriminator stage: maximize log(D(x)) + log(1 - D(G(z)))\n",
        "        #######\n",
        "        discriminator.zero_grad()\n",
        "\n",
        "        # real\n",
        "        label.data.fill_(real_label)\n",
        "        input_data = images.view(images.shape[0], -1).to(device)\n",
        "        output = discriminator(input_data).view(-1)\n",
        "        errD_x = criterion(output, label)\n",
        "        ERRD_x[epoch] += errD_x.item()\n",
        "        errD_x.backward()\n",
        "\n",
        "        # fake\n",
        "        noise.data.normal_(0, 1)\n",
        "        fake = generator(noise)\n",
        "        label.data.fill_(fake_label)\n",
        "        output = discriminator(fake.detach()).view(-1)\n",
        "        errD_z = criterion(output, label)\n",
        "        ERRD_z[epoch] += errD_z.item()\n",
        "        errD_z.backward()\n",
        "\n",
        "        optim_D.step()\n",
        "\n",
        "        #######\n",
        "        # Generator stage: maximize log(D(G(x))\n",
        "        #######\n",
        "        generator.zero_grad()\n",
        "        label.data.fill_(real_label)\n",
        "        output = discriminator(fake).view(-1)\n",
        "        errG = criterion(output, label)\n",
        "        ERRG[epoch] += errG.item()\n",
        "        errG.backward()\n",
        "\n",
        "        optim_G.step()\n",
        "\n",
        "        if (iteration+1) % CONFIG.print_freq == 0:\n",
        "            print('Epoch:{} Iter: {} errD_x: {:.2f} errD_z: {:.2f} errG: {:.2f}'.format(epoch+1,\n",
        "                                                                                            iteration+1,\n",
        "                                                                                            errD_x.item(),\n",
        "                                                                                            errD_z.item(),\n",
        "                                                                                            errG.item()))"
      ],
      "metadata": {
        "scrolled": true,
        "id": "9W_1xrPXEVAL",
        "execution": {
          "iopub.status.busy": "2023-12-25T03:39:41.710199Z",
          "iopub.execute_input": "2023-12-25T03:39:41.710950Z",
          "iopub.status.idle": "2023-12-25T03:39:41.869376Z",
          "shell.execute_reply.started": "2023-12-25T03:39:41.710918Z",
          "shell.execute_reply": "2023-12-25T03:39:41.868087Z"
        },
        "trusted": true,
        "colab": {
          "base_uri": "https://localhost:8080/"
        },
        "outputId": "2954f8da-3511-4156-cbc1-427046b80e8e"
      },
      "execution_count": 14,
      "outputs": [
        {
          "output_type": "stream",
          "name": "stdout",
          "text": [
            "Epoch:1 Iter: 500 errD_x: 0.05 errD_z: 0.04 errG: 3.55\n",
            "Epoch:1 Iter: 1000 errD_x: 0.05 errD_z: 0.06 errG: 4.65\n",
            "Epoch:1 Iter: 1500 errD_x: 0.02 errD_z: 0.02 errG: 4.92\n",
            "Epoch:1 Iter: 2000 errD_x: 0.42 errD_z: 0.05 errG: 3.02\n",
            "Epoch:1 Iter: 2500 errD_x: 0.11 errD_z: 0.05 errG: 3.87\n",
            "Epoch:1 Iter: 3000 errD_x: 0.11 errD_z: 0.13 errG: 2.12\n",
            "Epoch:1 Iter: 3500 errD_x: 0.06 errD_z: 0.19 errG: 2.55\n",
            "Epoch:2 Iter: 500 errD_x: 0.07 errD_z: 0.03 errG: 4.48\n",
            "Epoch:2 Iter: 1000 errD_x: 0.14 errD_z: 0.02 errG: 4.67\n",
            "Epoch:2 Iter: 1500 errD_x: 0.12 errD_z: 0.09 errG: 3.19\n",
            "Epoch:2 Iter: 2000 errD_x: 0.30 errD_z: 0.02 errG: 3.85\n",
            "Epoch:2 Iter: 2500 errD_x: 0.39 errD_z: 0.21 errG: 2.79\n",
            "Epoch:2 Iter: 3000 errD_x: 0.23 errD_z: 0.05 errG: 4.04\n",
            "Epoch:2 Iter: 3500 errD_x: 0.19 errD_z: 0.06 errG: 3.69\n",
            "Epoch:3 Iter: 500 errD_x: 0.52 errD_z: 0.24 errG: 2.91\n",
            "Epoch:3 Iter: 1000 errD_x: 0.56 errD_z: 0.03 errG: 3.06\n",
            "Epoch:3 Iter: 1500 errD_x: 0.53 errD_z: 0.07 errG: 3.38\n",
            "Epoch:3 Iter: 2000 errD_x: 0.32 errD_z: 0.33 errG: 1.60\n",
            "Epoch:3 Iter: 2500 errD_x: 0.24 errD_z: 0.46 errG: 1.62\n",
            "Epoch:3 Iter: 3000 errD_x: 1.16 errD_z: 0.01 errG: 5.07\n",
            "Epoch:3 Iter: 3500 errD_x: 0.13 errD_z: 0.12 errG: 3.32\n",
            "Epoch:4 Iter: 500 errD_x: 0.28 errD_z: 0.05 errG: 3.50\n",
            "Epoch:4 Iter: 1000 errD_x: 0.14 errD_z: 0.12 errG: 2.81\n",
            "Epoch:4 Iter: 1500 errD_x: 0.33 errD_z: 0.05 errG: 3.56\n",
            "Epoch:4 Iter: 2000 errD_x: 0.36 errD_z: 0.33 errG: 1.50\n",
            "Epoch:4 Iter: 2500 errD_x: 0.13 errD_z: 0.17 errG: 2.44\n",
            "Epoch:4 Iter: 3000 errD_x: 0.48 errD_z: 0.32 errG: 2.06\n",
            "Epoch:4 Iter: 3500 errD_x: 0.16 errD_z: 0.42 errG: 1.72\n",
            "Epoch:5 Iter: 500 errD_x: 0.16 errD_z: 0.23 errG: 2.29\n",
            "Epoch:5 Iter: 1000 errD_x: 0.44 errD_z: 0.24 errG: 3.39\n",
            "Epoch:5 Iter: 1500 errD_x: 0.71 errD_z: 0.26 errG: 1.79\n",
            "Epoch:5 Iter: 2000 errD_x: 0.12 errD_z: 0.09 errG: 2.10\n",
            "Epoch:5 Iter: 2500 errD_x: 0.12 errD_z: 0.30 errG: 2.18\n",
            "Epoch:5 Iter: 3000 errD_x: 0.12 errD_z: 0.08 errG: 3.70\n",
            "Epoch:5 Iter: 3500 errD_x: 0.30 errD_z: 0.17 errG: 2.09\n",
            "Epoch:6 Iter: 500 errD_x: 0.10 errD_z: 0.36 errG: 2.60\n",
            "Epoch:6 Iter: 1000 errD_x: 0.72 errD_z: 0.30 errG: 2.46\n",
            "Epoch:6 Iter: 1500 errD_x: 0.12 errD_z: 0.12 errG: 2.94\n",
            "Epoch:6 Iter: 2000 errD_x: 0.37 errD_z: 0.26 errG: 1.48\n",
            "Epoch:6 Iter: 2500 errD_x: 0.05 errD_z: 0.60 errG: 1.95\n",
            "Epoch:6 Iter: 3000 errD_x: 0.89 errD_z: 0.05 errG: 3.99\n",
            "Epoch:6 Iter: 3500 errD_x: 0.29 errD_z: 0.21 errG: 2.08\n",
            "Epoch:7 Iter: 500 errD_x: 0.09 errD_z: 0.59 errG: 2.27\n",
            "Epoch:7 Iter: 1000 errD_x: 0.25 errD_z: 0.12 errG: 3.11\n",
            "Epoch:7 Iter: 1500 errD_x: 0.45 errD_z: 0.18 errG: 3.54\n",
            "Epoch:7 Iter: 2000 errD_x: 0.37 errD_z: 0.16 errG: 2.62\n",
            "Epoch:7 Iter: 2500 errD_x: 0.09 errD_z: 0.20 errG: 3.17\n",
            "Epoch:7 Iter: 3000 errD_x: 0.78 errD_z: 0.24 errG: 2.17\n",
            "Epoch:7 Iter: 3500 errD_x: 0.19 errD_z: 0.39 errG: 1.47\n",
            "Epoch:8 Iter: 500 errD_x: 0.64 errD_z: 0.27 errG: 2.53\n",
            "Epoch:8 Iter: 1000 errD_x: 0.50 errD_z: 0.27 errG: 2.21\n",
            "Epoch:8 Iter: 1500 errD_x: 0.29 errD_z: 0.09 errG: 3.70\n",
            "Epoch:8 Iter: 2000 errD_x: 0.34 errD_z: 0.36 errG: 1.62\n",
            "Epoch:8 Iter: 2500 errD_x: 0.52 errD_z: 0.27 errG: 1.87\n",
            "Epoch:8 Iter: 3000 errD_x: 0.57 errD_z: 0.34 errG: 1.59\n",
            "Epoch:8 Iter: 3500 errD_x: 0.19 errD_z: 0.56 errG: 1.11\n",
            "Epoch:9 Iter: 500 errD_x: 0.49 errD_z: 0.10 errG: 4.37\n",
            "Epoch:9 Iter: 1000 errD_x: 0.81 errD_z: 0.17 errG: 2.00\n",
            "Epoch:9 Iter: 1500 errD_x: 0.29 errD_z: 0.29 errG: 1.80\n",
            "Epoch:9 Iter: 2000 errD_x: 0.56 errD_z: 0.16 errG: 3.05\n",
            "Epoch:9 Iter: 2500 errD_x: 0.71 errD_z: 0.15 errG: 3.00\n",
            "Epoch:9 Iter: 3000 errD_x: 0.39 errD_z: 0.21 errG: 2.21\n",
            "Epoch:9 Iter: 3500 errD_x: 0.60 errD_z: 0.09 errG: 2.92\n",
            "Epoch:10 Iter: 500 errD_x: 0.40 errD_z: 0.62 errG: 1.03\n",
            "Epoch:10 Iter: 1000 errD_x: 0.62 errD_z: 0.33 errG: 1.50\n",
            "Epoch:10 Iter: 1500 errD_x: 0.51 errD_z: 0.19 errG: 1.82\n",
            "Epoch:10 Iter: 2000 errD_x: 1.25 errD_z: 0.16 errG: 2.25\n",
            "Epoch:10 Iter: 2500 errD_x: 0.50 errD_z: 0.37 errG: 1.16\n",
            "Epoch:10 Iter: 3000 errD_x: 0.71 errD_z: 0.23 errG: 1.75\n",
            "Epoch:10 Iter: 3500 errD_x: 0.24 errD_z: 0.35 errG: 1.62\n"
          ]
        }
      ]
    },
    {
      "cell_type": "code",
      "source": [
        "noise.data.normal_(0, 1)\n",
        "fake = generator(noise)\n",
        "\n",
        "plt.figure(figsize=(6, 7))\n",
        "for i in range(16):\n",
        "    plt.subplot(4, 4, i + 1)\n",
        "    plt.imshow(fake[i].detach().numpy().reshape(28, 28), cmap=plt.cm.Greys_r)\n",
        "    plt.axis('off')"
      ],
      "metadata": {
        "id": "Mx7WhHRTEVAL",
        "execution": {
          "iopub.status.busy": "2023-12-25T01:36:39.223334Z",
          "iopub.status.idle": "2023-12-25T01:36:39.223683Z",
          "shell.execute_reply.started": "2023-12-25T01:36:39.223512Z",
          "shell.execute_reply": "2023-12-25T01:36:39.223530Z"
        },
        "trusted": true,
        "colab": {
          "base_uri": "https://localhost:8080/",
          "height": 559
        },
        "outputId": "af7fbaf3-40dc-407b-fda5-55c112c813ea"
      },
      "execution_count": 15,
      "outputs": [
        {
          "output_type": "display_data",
          "data": {
            "text/plain": [
              "<Figure size 600x700 with 16 Axes>"
            ],
            "image/png": "[encoded data removed]"
          },
          "metadata": {}
        }
      ]
    },
    {
      "cell_type": "code",
      "source": [],
      "metadata": {
        "id": "HAjUnTlEF91F"
      },
      "execution_count": null,
      "outputs": []
    }
  ]
}